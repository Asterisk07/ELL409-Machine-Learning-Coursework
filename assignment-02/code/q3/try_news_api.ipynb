{
 "cells": [
  {
   "cell_type": "code",
   "execution_count": 3,
   "metadata": {},
   "outputs": [],
   "source": [
    "from newsapi import NewsApiClient\n",
    "api_key= \"0f2340d896c54adfbf54f91b9875a6d9\"\n",
    "newsapi = NewsApiClient(api_key=api_key)\n"
   ]
  },
  {
   "cell_type": "code",
   "execution_count": 7,
   "metadata": {},
   "outputs": [
    {
     "name": "stdout",
     "output_type": "stream",
     "text": [
      "fetched successfully\n"
     ]
    }
   ],
   "source": [
    "\n",
    "# print(api_key)\n",
    "company_name = \"AAPL\"\n",
    "\n",
    "start_date = \"2023-10-05\" #this doesnt work\n",
    "# start_date = \"2023-10-06\" #this doesnt work\n",
    "# start_date = \"2023-10-07\" #this works\n",
    "\n",
    "end_date = \"2023-10-30\"\n",
    "\n",
    "try:\n",
    "    news_articles = newsapi.get_everything(\n",
    "        q=company_name,\n",
    "        from_param=start_date,\n",
    "        to=end_date,\n",
    "        language=\"en\",\n",
    "        sort_by=\"publishedAt\",\n",
    "        page_size=10\n",
    "    )\n",
    "    print(\"fetched successfully\")\n",
    "except Exception as e:\n",
    "    error_message = e.get_message()\n",
    "    print(\"An error occurred:\", error_message)\n"
   ]
  }
 ],
 "metadata": {
  "kernelspec": {
   "display_name": "Python 3",
   "language": "python",
   "name": "python3"
  },
  "language_info": {
   "codemirror_mode": {
    "name": "ipython",
    "version": 3
   },
   "file_extension": ".py",
   "mimetype": "text/x-python",
   "name": "python",
   "nbconvert_exporter": "python",
   "pygments_lexer": "ipython3",
   "version": "3.11.2"
  }
 },
 "nbformat": 4,
 "nbformat_minor": 2
}
