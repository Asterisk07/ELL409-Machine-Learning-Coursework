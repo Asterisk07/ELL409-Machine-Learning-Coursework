{
 "cells": [
  {
   "cell_type": "code",
   "execution_count": 2,
   "metadata": {},
   "outputs": [],
   "source": [
    "import pandas as pd\n",
    "merged_data = pd.read_csv('../../data/merged_data_truncated.csv')"
   ]
  },
  {
   "cell_type": "code",
   "execution_count": 3,
   "metadata": {},
   "outputs": [
    {
     "data": {
      "text/plain": [
       "(17, 8)"
      ]
     },
     "execution_count": 3,
     "metadata": {},
     "output_type": "execute_result"
    }
   ],
   "source": [
    "merged_data.shape"
   ]
  },
  {
   "cell_type": "code",
   "execution_count": 4,
   "metadata": {},
   "outputs": [
    {
     "data": {
      "text/html": [
       "<div>\n",
       "<style scoped>\n",
       "    .dataframe tbody tr th:only-of-type {\n",
       "        vertical-align: middle;\n",
       "    }\n",
       "\n",
       "    .dataframe tbody tr th {\n",
       "        vertical-align: top;\n",
       "    }\n",
       "\n",
       "    .dataframe thead th {\n",
       "        text-align: right;\n",
       "    }\n",
       "</style>\n",
       "<table border=\"1\" class=\"dataframe\">\n",
       "  <thead>\n",
       "    <tr style=\"text-align: right;\">\n",
       "      <th></th>\n",
       "      <th>Open</th>\n",
       "      <th>High</th>\n",
       "      <th>Low</th>\n",
       "      <th>Close</th>\n",
       "      <th>Adj Close</th>\n",
       "      <th>Volume</th>\n",
       "      <th>Sentiment1</th>\n",
       "      <th>Sentiment2</th>\n",
       "    </tr>\n",
       "  </thead>\n",
       "  <tbody>\n",
       "    <tr>\n",
       "      <th>0</th>\n",
       "      <td>173.800003</td>\n",
       "      <td>177.990005</td>\n",
       "      <td>173.179993</td>\n",
       "      <td>177.490005</td>\n",
       "      <td>177.490005</td>\n",
       "      <td>57224100</td>\n",
       "      <td>0.9480</td>\n",
       "      <td>0.096352</td>\n",
       "    </tr>\n",
       "    <tr>\n",
       "      <th>1</th>\n",
       "      <td>176.809998</td>\n",
       "      <td>179.050003</td>\n",
       "      <td>175.800003</td>\n",
       "      <td>178.990005</td>\n",
       "      <td>178.990005</td>\n",
       "      <td>42390800</td>\n",
       "      <td>-0.2204</td>\n",
       "      <td>0.071875</td>\n",
       "    </tr>\n",
       "    <tr>\n",
       "      <th>2</th>\n",
       "      <td>178.100006</td>\n",
       "      <td>179.720001</td>\n",
       "      <td>177.949997</td>\n",
       "      <td>178.389999</td>\n",
       "      <td>178.389999</td>\n",
       "      <td>43698000</td>\n",
       "      <td>0.9768</td>\n",
       "      <td>0.170134</td>\n",
       "    </tr>\n",
       "    <tr>\n",
       "      <th>3</th>\n",
       "      <td>178.199997</td>\n",
       "      <td>179.850006</td>\n",
       "      <td>177.600006</td>\n",
       "      <td>179.800003</td>\n",
       "      <td>179.800003</td>\n",
       "      <td>47551100</td>\n",
       "      <td>0.9854</td>\n",
       "      <td>0.143628</td>\n",
       "    </tr>\n",
       "    <tr>\n",
       "      <th>4</th>\n",
       "      <td>180.070007</td>\n",
       "      <td>182.339996</td>\n",
       "      <td>179.039993</td>\n",
       "      <td>180.710007</td>\n",
       "      <td>180.710007</td>\n",
       "      <td>56743100</td>\n",
       "      <td>0.9934</td>\n",
       "      <td>0.106639</td>\n",
       "    </tr>\n",
       "  </tbody>\n",
       "</table>\n",
       "</div>"
      ],
      "text/plain": [
       "         Open        High         Low       Close   Adj Close    Volume  \\\n",
       "0  173.800003  177.990005  173.179993  177.490005  177.490005  57224100   \n",
       "1  176.809998  179.050003  175.800003  178.990005  178.990005  42390800   \n",
       "2  178.100006  179.720001  177.949997  178.389999  178.389999  43698000   \n",
       "3  178.199997  179.850006  177.600006  179.800003  179.800003  47551100   \n",
       "4  180.070007  182.339996  179.039993  180.710007  180.710007  56743100   \n",
       "\n",
       "   Sentiment1  Sentiment2  \n",
       "0      0.9480    0.096352  \n",
       "1     -0.2204    0.071875  \n",
       "2      0.9768    0.170134  \n",
       "3      0.9854    0.143628  \n",
       "4      0.9934    0.106639  "
      ]
     },
     "execution_count": 4,
     "metadata": {},
     "output_type": "execute_result"
    }
   ],
   "source": [
    "merged_data.head()"
   ]
  }
 ],
 "metadata": {
  "kernelspec": {
   "display_name": "Python 3",
   "language": "python",
   "name": "python3"
  },
  "language_info": {
   "codemirror_mode": {
    "name": "ipython",
    "version": 3
   },
   "file_extension": ".py",
   "mimetype": "text/x-python",
   "name": "python",
   "nbconvert_exporter": "python",
   "pygments_lexer": "ipython3",
   "version": "3.11.2"
  }
 },
 "nbformat": 4,
 "nbformat_minor": 2
}
