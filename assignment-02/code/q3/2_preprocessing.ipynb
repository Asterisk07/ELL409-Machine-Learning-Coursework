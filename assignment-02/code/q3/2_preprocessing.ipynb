{
 "cells": [
  {
   "cell_type": "code",
   "execution_count": 2,
   "metadata": {},
   "outputs": [],
   "source": [
    "import pandas as pd\n",
    "import os\n"
   ]
  },
  {
   "cell_type": "code",
   "execution_count": 14,
   "metadata": {},
   "outputs": [],
   "source": [
    "news_data = pd.read_csv('../../data/news_data.csv')\n",
    "stock_data = pd.read_csv('../../data/stock_data/AAPL_stock_data.csv')"
   ]
  },
  {
   "cell_type": "code",
   "execution_count": 15,
   "metadata": {},
   "outputs": [
    {
     "name": "stdout",
     "output_type": "stream",
     "text": [
      "Index(['Date', 'Open', 'High', 'Low', 'Close', 'Adj Close', 'Volume'], dtype='object')\n",
      "0      2022-10-31\n",
      "1      2022-11-01\n",
      "2      2022-11-02\n",
      "3      2022-11-03\n",
      "4      2022-11-04\n",
      "          ...    \n",
      "246    2023-10-24\n",
      "247    2023-10-25\n",
      "248    2023-10-26\n",
      "249    2023-10-27\n",
      "250    2023-10-30\n",
      "Name: Date, Length: 251, dtype: object\n",
      "Index(['source', 'author', 'title', 'description', 'url', 'urlToImage',\n",
      "       'publishedAt', 'content'],\n",
      "      dtype='object')\n"
     ]
    },
    {
     "data": {
      "text/plain": [
       "0    2023-10-31T20:44:09Z\n",
       "1    2023-10-31T20:36:26Z\n",
       "2    2023-10-31T20:10:05Z\n",
       "3    2023-10-31T20:00:00Z\n",
       "4    2023-10-31T19:34:00Z\n",
       "5    2023-10-31T19:24:36Z\n",
       "6    2023-10-31T18:49:32Z\n",
       "7    2023-10-31T18:48:10Z\n",
       "8    2023-10-31T18:21:00Z\n",
       "9    2023-10-31T17:36:15Z\n",
       "Name: publishedAt, dtype: object"
      ]
     },
     "execution_count": 15,
     "metadata": {},
     "output_type": "execute_result"
    }
   ],
   "source": [
    "print(stock_data.columns)\n",
    "print(stock_data.Date)\n",
    "print(news_data.columns)\n",
    "news_data.publishedAt"
   ]
  }
 ],
 "metadata": {
  "kernelspec": {
   "display_name": "Python 3",
   "language": "python",
   "name": "python3"
  },
  "language_info": {
   "codemirror_mode": {
    "name": "ipython",
    "version": 3
   },
   "file_extension": ".py",
   "mimetype": "text/x-python",
   "name": "python",
   "nbconvert_exporter": "python",
   "pygments_lexer": "ipython3",
   "version": "3.11.2"
  }
 },
 "nbformat": 4,
 "nbformat_minor": 2
}
