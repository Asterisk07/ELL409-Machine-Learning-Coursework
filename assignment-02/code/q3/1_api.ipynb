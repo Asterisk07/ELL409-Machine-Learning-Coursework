{
 "cells": [
  {
   "cell_type": "code",
   "execution_count": 43,
   "metadata": {},
   "outputs": [],
   "source": [
    "import pandas as pd\n",
    "def read_text_file(file_path,printflag=0):\n",
    "    try:\n",
    "        with open(file_path, 'r') as file:\n",
    "            # Read the entire file contents into a string\n",
    "            file_contents = file.read()\n",
    "        if printflag:\n",
    "            print(\"File contents:\")\n",
    "            print(file_contents)\n",
    "        return file_contents\n",
    "    except FileNotFoundError:\n",
    "        return f\"File not found: {file_path}\"\n",
    "    except Exception as e:\n",
    "        return f\"An error occurred: {str(e)}\"\n",
    "\n",
    "  \n"
   ]
  },
  {
   "cell_type": "code",
   "execution_count": 32,
   "metadata": {},
   "outputs": [
    {
     "name": "stdout",
     "output_type": "stream",
     "text": [
      "Data for AAPL already downloaded. Loading from ../../data/stock_data/AAPL_stock_data.csv\n"
     ]
    },
    {
     "name": "stdout",
     "output_type": "stream",
     "text": [
      "[*********************100%%**********************]  1 of 1 completed\n",
      "                  Open        High         Low       Close   Adj Close  \\\n",
      "Date                                                                     \n",
      "2022-10-31  153.160004  154.240005  151.919998  153.339996  152.435684   \n",
      "2022-11-01  155.080002  155.449997  149.130005  150.649994  149.761536   \n",
      "2022-11-02  148.949997  152.169998  145.000000  145.029999  144.174698   \n",
      "2022-11-03  142.059998  142.800003  138.750000  138.880005  138.060974   \n",
      "2022-11-04  142.089996  142.669998  134.380005  138.380005  137.792114   \n",
      "...                ...         ...         ...         ...         ...   \n",
      "2023-10-24  173.050003  173.669998  171.449997  173.440002  173.440002   \n",
      "2023-10-25  171.880005  173.059998  170.649994  171.100006  171.100006   \n",
      "2023-10-26  170.369995  171.380005  165.669998  166.889999  166.889999   \n",
      "2023-10-27  166.910004  168.960007  166.830002  168.220001  168.220001   \n",
      "2023-10-30  169.020004  171.169998  168.869995  170.289993  170.289993   \n",
      "\n",
      "               Volume  \n",
      "Date                   \n",
      "2022-10-31   97943200  \n",
      "2022-11-01   80379300  \n",
      "2022-11-02   93604600  \n",
      "2022-11-03   97918500  \n",
      "2022-11-04  140814800  \n",
      "...               ...  \n",
      "2023-10-24   43816600  \n",
      "2023-10-25   57157000  \n",
      "2023-10-26   70625300  \n",
      "2023-10-27   58499100  \n",
      "2023-10-30   51131000  \n",
      "\n",
      "[251 rows x 6 columns]\n"
     ]
    }
   ],
   "source": [
    "# stock data\n",
    "import yfinance as yf\n",
    "import os\n",
    "\n",
    "def download_stock_data(company_name, start_date, end_date, data_dir):\n",
    "    # Create a directory to store the data if it doesn't exist\n",
    "    if not os.path.exists(data_dir):\n",
    "        os.mkdir(data_dir)\n",
    "    \n",
    "    # Define the data file path\n",
    "    data_file_path = f\"{data_dir}/{company_name}_stock_data.csv\"\n",
    "    \n",
    "    if os.path.isfile(data_file_path):\n",
    "        print(f\"Data for {company_name} already downloaded. Loading from {data_file_path}\")\n",
    "        stock_data = yf.download(company_name, start=start_date, end=end_date)\n",
    "        return stock_data\n",
    "    else:\n",
    "        print(f\"Downloading data for {company_name} from Yahoo Finance...\")\n",
    "        stock_data = yf.download(company_name, start=start_date, end=end_date)\n",
    "        stock_data.to_csv(data_file_path)\n",
    "        print(f\"Data downloaded and saved to {data_file_path}\")\n",
    "        return stock_data\n",
    "\n",
    "# Define the parameters\n",
    "company_name = \"AAPL\"\n",
    "start_date = \"2022-10-31\"\n",
    "end_date = \"2023-10-31\"\n",
    "data_directory = \"../../data/stock_data\"\n",
    "\n",
    "# Call the function to download or load the data\n",
    "stock_data = download_stock_data(company_name, start_date, end_date, data_directory)\n",
    "\n",
    "# Now you have the data in the `aapl_data` DataFrame\n",
    "print(stock_data)\n",
    "\n"
   ]
  },
  {
   "cell_type": "code",
   "execution_count": 33,
   "metadata": {},
   "outputs": [
    {
     "data": {
      "text/plain": [
       "Date\n",
       "2022-10-31    153.160004\n",
       "2022-11-01    155.080002\n",
       "2022-11-02    148.949997\n",
       "2022-11-03    142.059998\n",
       "2022-11-04    142.089996\n",
       "                 ...    \n",
       "2023-10-24    173.050003\n",
       "2023-10-25    171.880005\n",
       "2023-10-26    170.369995\n",
       "2023-10-27    166.910004\n",
       "2023-10-30    169.020004\n",
       "Name: Open, Length: 251, dtype: float64"
      ]
     },
     "execution_count": 33,
     "metadata": {},
     "output_type": "execute_result"
    }
   ],
   "source": [
    "# exploring the stock data\n",
    "stock_data\n",
    "type(stock_data) #pandas dataframe\n",
    "stock_data.shape #(251,6)\n",
    "# stock_data.head()\n",
    "stock_data.describe()\n",
    "\n",
    "stock_data.columns #['Open', 'High', 'Low', 'Close', 'Adj Close', 'Volume']\n",
    "stock_data.index #['2022-10-31', ..., '2023-10-30']\n",
    "\n",
    "# Accessing a specific row by label (using .loc)\n",
    "stock_data.loc['2023-10-30']\n",
    "\n",
    "# Accessing a specific row by integer index (using .iloc)\n",
    "stock_data.iloc[2]  # Access the third row (0-based index)\n",
    "\n",
    "# --------------------------\n",
    "# Accessing a Specific Column:\n",
    "\n",
    "# Using square brackets\n",
    "stock_data['Volume']\n",
    "\n",
    "# Using dot notation\n",
    "stock_data.Open\n",
    "# ----------------------\n",
    "\n",
    "\n"
   ]
  },
  {
   "cell_type": "code",
   "execution_count": 66,
   "metadata": {},
   "outputs": [
    {
     "name": "stdout",
     "output_type": "stream",
     "text": [
      "File contents:\n",
      "0f2340d896c54adfbf54f91b9875a6d9\n",
      "\n"
     ]
    }
   ],
   "source": [
    "# news data\n",
    "# Usage example:\n",
    "from newsapi import NewsApiClient\n",
    "api_path = '../../data/newsapi_key.txt'\n",
    "api_key= read_text_file(api_path,1).strip()\n",
    "newsapi = NewsApiClient(api_key=api_key)\n"
   ]
  },
  {
   "cell_type": "code",
   "execution_count": 92,
   "metadata": {},
   "outputs": [],
   "source": [
    "\n",
    "# print(api_key)\n",
    "start_date = \"2023-10-05\"\n",
    "end_date = \"2023-10-30\"\n",
    "news_articles = newsapi.get_everything(\n",
    "    q=company_name,\n",
    "    from_param=start_date,\n",
    "    to=end_date,\n",
    "    language=\"en\",\n",
    "    sort_by=\"publishedAt\",\n",
    "    page_size=10\n",
    ")\n",
    "\n",
    "# Access the list of articles\n",
    "articles = news_articles['articles']\n",
    "news_data=pd.DataFrame(articles)"
   ]
  },
  {
   "cell_type": "code",
   "execution_count": 97,
   "metadata": {},
   "outputs": [
    {
     "data": {
      "text/plain": [
       "0    To gain an edge, this is what you need to know...\n",
       "1    Shares of Snap Inc. \\r\\n SNAP,\\r\\n +4.30%\\r\\nr...\n",
       "2    LONDON Facebook and Instagram users in Europe ...\n",
       "3    Apple CEO Tim Cook and a team of Apple executi...\n",
       "4    Apple CEO Tim Cook\\r\\nApple's fourth fiscal qu...\n",
       "5    US stocks rallied on Monday after a bruising s...\n",
       "6    Shares of Walt Disney Co. \\r\\n DIS,\\r\\n +1.70%...\n",
       "7    Shares of Verizon Communications Inc. \\r\\n VZ,...\n",
       "8    The \"Magnificent Seven\" mega-cap tech names th...\n",
       "9    Testifying in the biggest U.S. antitrust case ...\n",
       "Name: content, dtype: object"
      ]
     },
     "execution_count": 97,
     "metadata": {},
     "output_type": "execute_result"
    }
   ],
   "source": [
    "# for i in news_articles:\n",
    "    # print(i)\n",
    "news_data.content"
   ]
  },
  {
   "cell_type": "code",
   "execution_count": 95,
   "metadata": {},
   "outputs": [
    {
     "name": "stdout",
     "output_type": "stream",
     "text": [
      "10\n",
      "[{'source': {'id': None, 'name': 'Biztoc.com'}, 'author': 'benzinga.com', 'title': 'Some Chinese Abandoning Apple, Stock Buying On No Response From Iran, All Eyes On Bank Of Japan', 'description': 'To gain an edge, this is what you need to know today. Please click here for a chart of Apple Inc AAPL. • The Morning Capsule is about the big picture, not an individual stock. The chart of AAPL stock is being used to illustrate the point. • This morning inves…', 'url': 'https://biztoc.com/x/d9a3355a2a89ff80', 'urlToImage': 'https://c.biztoc.com/p/d9a3355a2a89ff80/s.webp', 'publishedAt': '2023-10-30T21:52:09Z', 'content': 'To gain an edge, this is what you need to know today.Please click here for a chart of Apple Inc AAPL.The Morning Capsule is about the big picture, not an individual stock. The chart of AAPL stock is … [+273 chars]'}, {'source': {'id': None, 'name': 'MarketWatch'}, 'author': 'MarketWatch Automation', 'title': 'Company Close Updates: Snap Inc. stock outperforms competitors on strong trading day', 'description': 'Shares of Snap Inc. rose 4.30% to $9.70 Monday, on what proved to be an all-around positive trading session for the stock market, with the NASDAQ Composite...', 'url': 'https://www.marketwatch.com/data-news/snap-inc-stock-outperforms-competitors-on-strong-trading-day-743a7900-d62e0f405e24', 'urlToImage': 'https://images.mktw.net/im-220105/social', 'publishedAt': '2023-10-30T21:35:31Z', 'content': 'Shares of Snap Inc. \\r\\n SNAP,\\r\\n +4.30%\\r\\nrose 4.30% to $9.70 Monday, on what proved to be an all-around positive trading session for the stock market, with the NASDAQ Composite Index \\r\\n COMP,\\r\\n +1.16%\\r… [+695 chars]'}, {'source': {'id': None, 'name': 'MarketWatch'}, 'author': 'Associated Press', 'title': 'Associated Press: Meta rolls out paid, ad-free option for European Facebook and Instagram users after privacy ruling', 'description': 'Facebook and Instagram users in Europe are getting the option to pay for ad-free versions of the social media platforms as a way to comply with the continent’s\\xa0strict data privacy rules, parent company Meta said Monday.', 'url': 'https://www.marketwatch.com/story/meta-rolls-out-paid-ad-free-option-for-european-facebook-and-instagram-users-after-privacy-ruling-2b76687f', 'urlToImage': 'https://images.mktw.net/im-245995/social', 'publishedAt': '2023-10-30T21:35:31Z', 'content': 'LONDON Facebook and Instagram users in Europe are getting the option to pay for ad-free versions of the social media platforms as a way to comply with the continents\\xa0strict data privacy rules, parent… [+1606 chars]'}, {'source': {'id': None, 'name': 'Macdailynews.com'}, 'author': 'MacDailyNews', 'title': 'MacDailyNews presents live coverage of Apple’s ‘Scary Fast’ special event', 'description': 'Apple CEO Tim Cook and a team of Apple execs will host the company’s “Scary Fast” special event today, Monday, Oct. 30th at 5pm PDT / 8pm EDT…\\nThe post MacDailyNews presents live coverage of Apple’s ‘Scary Fast’ special event appeared first on MacDailyNews.', 'url': 'https://macdailynews.com/2023/10/30/macdailynews-presents-live-coverage-of-apples-scary-fast-special-event/', 'urlToImage': 'https://149359564.v2.pressablecdn.com/wp-content/uploads/2023/10/231024_scary_event_01.png', 'publishedAt': '2023-10-30T21:05:27Z', 'content': 'Apple CEO Tim Cook and a team of Apple executives will host the companys Scary Fast special event today, Monday, October 30th, at 5pm PDT / 8pm EDT.\\r\\nApple’s event will be webcast from the Apple Park… [+519 chars]'}, {'source': {'id': None, 'name': 'AppleInsider'}, 'author': 'news@appleinsider.com (Malcolm Owen)', 'title': \"What to expect from Apple's Q4 2023 earnings report\", 'description': \"Apple's fourth fiscal quarter results will be issued on November 2. Here's what happened in the quarter and what to expect Apple will reveal in its figures.Apple CEO Tim CookApple confirmed on October 5 that it will announce its fourth-quarter earnings on Nov…\", 'url': 'https://appleinsider.com/articles/23/10/30/what-to-expect-from-apples-q4-2023-earnings-report', 'urlToImage': 'https://photos5.appleinsider.com/gallery/56908-115757-54123-109024-48167-94082-46756-91138-cook-financial-2022-xl-xl-xl-xl.jpg', 'publishedAt': '2023-10-30T20:46:15Z', 'content': \"Apple CEO Tim Cook\\r\\nApple's fourth fiscal quarter results will be issued on November 2. Here's what happened in the quarter and what to expect Apple will reveal in its figures.\\r\\nApple confirmed on Oc… [+7533 chars]\"}, {'source': {'id': None, 'name': 'Biztoc.com'}, 'author': 'finance.yahoo.com', 'title': 'Stock market news today: US stocks rally as investors await Fed decision, Apple earnings', 'description': \"US stocks rallied on Monday after a bruising sell-off as investors looked ahead to a big week of events, with the Federal Reserve's latest policy decision and earnings from Apple (AAPL) on the calendar. The benchmark S&P 500 (^GSPC) climbed 1.2% at the closin…\", 'url': 'https://biztoc.com/x/b39e8759e4bf1055', 'urlToImage': 'https://c.biztoc.com/p/b39e8759e4bf1055/s.webp', 'publishedAt': '2023-10-30T20:40:07Z', 'content': \"US stocks rallied on Monday after a bruising sell-off as investors looked ahead to a big week of events, with the Federal Reserve's latest policy decision and earnings from Apple (AAPL) on the calend… [+300 chars]\"}, {'source': {'id': None, 'name': 'MarketWatch'}, 'author': 'MarketWatch Automation', 'title': 'Company Close Updates: Walt Disney Co. stock outperforms competitors on strong trading day', 'description': 'Shares of Walt Disney Co. rallied 1.70% to $80.68 Monday, on what proved to be an all-around great trading session for the stock market, with the S&P 500...', 'url': 'https://www.marketwatch.com/data-news/walt-disney-co-stock-outperforms-competitors-on-strong-trading-day-7dca926e-3baa73a135fd', 'urlToImage': 'https://images.mktw.net/im-220105/social', 'publishedAt': '2023-10-30T20:38:31Z', 'content': 'Shares of Walt Disney Co. \\r\\n DIS,\\r\\n +1.70%\\r\\nrallied 1.70% to $80.68 Monday, on what proved to be an all-around great trading session for the stock market, with the S&amp;P 500 Index \\r\\n SPX,\\r\\n +1.20%\\r… [+807 chars]'}, {'source': {'id': None, 'name': 'MarketWatch'}, 'author': 'MarketWatch Automation', 'title': 'Company Close Updates: Verizon Communications Inc. stock outperforms market on strong trading day', 'description': 'Shares of Verizon Communications Inc. rose 3.53% to $34.62 Monday, on what proved to be an all-around great trading session for the stock market, with the...', 'url': 'https://www.marketwatch.com/data-news/verizon-communications-inc-stock-outperforms-market-on-strong-trading-day-b9eed657-3c030dd8d586', 'urlToImage': 'https://images.mktw.net/im-220105/social', 'publishedAt': '2023-10-30T20:38:31Z', 'content': 'Shares of Verizon Communications Inc. \\r\\n VZ,\\r\\n +3.53%\\r\\nrose 3.53% to $34.62 Monday, on what proved to be an all-around great trading session for the stock market, with the S&amp;P 500 Index \\r\\n SPX,\\r\\n… [+709 chars]'}, {'source': {'id': None, 'name': 'CNBC'}, 'author': 'Zev Fima', 'title': 'Magnificent Seven are masking a rough market. Jim Cramer says these 3 stocks are buys', 'description': 'While we do see opportunities out there, we are compelled to make sure Club members understand this tricky market.', 'url': 'https://www.cnbc.com/2023/10/30/magnificent-seven-are-masking-a-rough-market-jim-cramer-says-these-3-stocks-are-buys.html', 'urlToImage': 'https://image.cnbcfm.com/api/v1/image/107158058-1669699031699-gettyimages-1238044139-NASDAQ_FUTURES.jpeg?v=1698690202&w=1920&h=1080', 'publishedAt': '2023-10-30T19:10:30Z', 'content': 'The \"Magnificent Seven\" mega-cap tech names that grab all the headlines and rule Wall Street with their outsized influence have been masking a pretty rough year for everything else. While we do see o… [+4822 chars]'}, {'source': {'id': None, 'name': 'Biztoc.com'}, 'author': 'theglobeandmail.com', 'title': 'CEO Sundar Pichai defends paying Apple, others to make Google default search engine on devices', 'description': 'Testifying in the biggest U.S. antitrust case in a quarter century, Google CEO Sundar Pichai defended his company’s practice of paying Apple AAPL-Q and other tech companies to make Google the default search engine on their devices, saying the intent was to ma…', 'url': 'https://biztoc.com/x/88301b7a5263a464', 'urlToImage': 'https://c.biztoc.com/p/88301b7a5263a464/s.webp', 'publishedAt': '2023-10-30T18:20:19Z', 'content': 'Testifying in the biggest U.S. antitrust case in a quarter century, Google CEO Sundar Pichai defended his companys practice of paying Apple AAPL-Q and other tech companies to make Google the default … [+314 chars]'}]\n"
     ]
    }
   ],
   "source": [
    "print(len(news_articles['articles']))\n",
    "# print(articles)"
   ]
  },
  {
   "cell_type": "code",
   "execution_count": 80,
   "metadata": {},
   "outputs": [
    {
     "data": {
      "text/plain": [
       "Index(['source', 'author', 'title', 'description', 'url', 'urlToImage',\n",
       "       'publishedAt', 'content'],\n",
       "      dtype='object')"
      ]
     },
     "execution_count": 80,
     "metadata": {},
     "output_type": "execute_result"
    }
   ],
   "source": [
    "type(news_data) #pandas dataframe\n",
    "news_data.shape #(10,8)\n",
    "news_data.head()\n",
    "# news_data.describe()\n",
    "\n",
    "news_data.columns #['source', 'author', 'title', 'description', 'url', 'urlToImage', 'publishedAt', 'content']\n",
    "# text1=news_data.iloc[0]"
   ]
  },
  {
   "cell_type": "code",
   "execution_count": 79,
   "metadata": {},
   "outputs": [
    {
     "data": {
      "text/plain": [
       "(10, 8)"
      ]
     },
     "execution_count": 79,
     "metadata": {},
     "output_type": "execute_result"
    }
   ],
   "source": [
    "news_data.shape #(10,8)\n"
   ]
  },
  {
   "cell_type": "code",
   "execution_count": 81,
   "metadata": {},
   "outputs": [],
   "source": [
    "news_data.to_csv('../../data/news_data.csv', index=False)  # Use your desired file path\n"
   ]
  },
  {
   "cell_type": "code",
   "execution_count": null,
   "metadata": {},
   "outputs": [],
   "source": []
  }
 ],
 "metadata": {
  "kernelspec": {
   "display_name": "Python 3",
   "language": "python",
   "name": "python3"
  },
  "language_info": {
   "codemirror_mode": {
    "name": "ipython",
    "version": 3
   },
   "file_extension": ".py",
   "mimetype": "text/x-python",
   "name": "python",
   "nbconvert_exporter": "python",
   "pygments_lexer": "ipython3",
   "version": "3.11.2"
  }
 },
 "nbformat": 4,
 "nbformat_minor": 2
}
