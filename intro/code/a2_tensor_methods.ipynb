{
 "cells": [
  {
   "cell_type": "code",
   "execution_count": 2,
   "metadata": {},
   "outputs": [],
   "source": [
    "# Initialisation\n",
    "\n",
    "import numpy as np\n",
    "import torch"
   ]
  },
  {
   "cell_type": "code",
   "execution_count": 46,
   "metadata": {},
   "outputs": [
    {
     "name": "stdout",
     "output_type": "stream",
     "text": [
      "tensor([[1, 2],\n",
      "        [3, 4],\n",
      "        [3, 5]])\n",
      "tensor([1, 2])\n",
      "tensor(2)\n",
      "torch.Size([3, 2])\n",
      "2\n"
     ]
    }
   ],
   "source": [
    "# accessing sub-tensor is just like list\n",
    "x=torch.tensor([[1,2],[3,4],[3,5]])\n",
    "print(x)\n",
    "print(x[0])\n",
    "print(x[0][1])\n",
    "print(x.size())"
   ]
  },
  {
   "cell_type": "code",
   "execution_count": 43,
   "metadata": {},
   "outputs": [
    {
     "name": "stdout",
     "output_type": "stream",
     "text": [
      "2\n",
      "torch.Size([])\n",
      "\n",
      "item() works only on 0-D tensors , i.e. scalars\n",
      "torch.Size([2])\n"
     ]
    }
   ],
   "source": [
    "# getting actual value\n",
    "x=torch.tensor([[1,2],[3,4]])\n",
    "\n",
    "print(x[0][1].item())\n",
    "print(x[0][1].size())\n",
    "print()\n",
    "try:\n",
    "    print(x[0].item())\n",
    "except:\n",
    "    print(\"item() works only on 0-D tensors , i.e. scalars\")\n",
    "    print(x[0].size())\n",
    "    "
   ]
  },
  {
   "cell_type": "code",
   "execution_count": 49,
   "metadata": {},
   "outputs": [
    {
     "name": "stdout",
     "output_type": "stream",
     "text": [
      "size torch.Size([3, 2])\n",
      "dimensions :  2\n",
      "another way :   2\n"
     ]
    }
   ],
   "source": [
    "# size and dimension :\n",
    "\n",
    "# size is like rows,columns\n",
    "x=torch.tensor([[1,2],[3,4],[3,5]])\n",
    "print('size',x.size())\n",
    "\n",
    "# dimension is rank\n",
    "print('dimensions : ', x.dim())\n",
    "print('another way :  ', x.ndimension())"
   ]
  },
  {
   "cell_type": "code",
   "execution_count": 77,
   "metadata": {},
   "outputs": [
    {
     "name": "stdout",
     "output_type": "stream",
     "text": [
      "tensor([[0.2961, 0.5166, 0.2517],\n",
      "        [0.6886, 0.0740, 0.8665]])\n"
     ]
    }
   ],
   "source": [
    "# random with seeding: remains constant over calls\n",
    "seed= 123 \n",
    "torch.manual_seed(seed)\n",
    "x=torch.rand(2,3)\n",
    "print(x)"
   ]
  },
  {
   "cell_type": "code",
   "execution_count": 112,
   "metadata": {},
   "outputs": [
    {
     "name": "stdout",
     "output_type": "stream",
     "text": [
      "tensor([[0., 0., 0.],\n",
      "        [0., 0., 0.]])\n",
      "tensor([[6.7262e-44, 6.8664e-44, 1.1771e-43],\n",
      "        [6.8664e-44, 7.0065e-44, 8.1275e-44]])\n",
      "tensor([2., 3.])\n"
     ]
    }
   ],
   "source": [
    "# creating matrices from shape:\n",
    "shape=(2,3)\n",
    "x=torch.ones(shape)\n",
    "x=torch.zeros(shape) #this sets values to zero\n",
    "print(x)\n",
    "\n",
    "#this doesnt intialise memeory at all so we may get any value\n",
    "x=torch.empty(shape)  \n",
    "print(x)\n"
   ]
  },
  {
   "cell_type": "code",
   "execution_count": 118,
   "metadata": {},
   "outputs": [
    {
     "name": "stdout",
     "output_type": "stream",
     "text": [
      "torch.float32\n",
      "torch.int64\n",
      "torch.float32\n",
      "torch.bool\n"
     ]
    }
   ],
   "source": [
    "# tensor vs Tensor:\n",
    "\n",
    "# tensor infers datatype, but Tensor is alias for FloatTensor\n",
    "\n",
    "print(torch.Tensor([1,2,3]).dtype)\n",
    "# torch.float32\n",
    "\n",
    "print(torch.tensor([1, 2, 3]).dtype)\n",
    "# Out[32]: torch.int64\n",
    "\n",
    "print(torch.Tensor([True, False]).dtype)\n",
    "# torch.float32\n",
    "\n",
    "print(torch.tensor([True, False]).dtype)\n",
    "# torch.bool"
   ]
  },
  {
   "cell_type": "code",
   "execution_count": 122,
   "metadata": {},
   "outputs": [
    {
     "name": "stdout",
     "output_type": "stream",
     "text": [
      "torch.float32\n",
      "torch.int16\n"
     ]
    }
   ],
   "source": [
    "# to()\n",
    "# copying a tensor with changed data type\n",
    "a=torch.Tensor([1,2,3])\n",
    "print(a.dtype)\n",
    "b=a.to(torch.int16)\n",
    "print(b.dtype)"
   ]
  },
  {
   "cell_type": "code",
   "execution_count": 3,
   "metadata": {},
   "outputs": [
    {
     "data": {
      "text/plain": [
       "tensor([[6., 6., 6.],\n",
       "        [6., 6., 6.]])"
      ]
     },
     "execution_count": 3,
     "metadata": {},
     "output_type": "execute_result"
    }
   ],
   "source": [
    "# in-place operations:\n",
    "# start with _\n",
    "x=torch.ones(2,3)\n",
    "x.add_(5)\n",
    "x\n",
    "\n",
    "# warning: do not differentiate in place!"
   ]
  },
  {
   "cell_type": "code",
   "execution_count": 15,
   "metadata": {},
   "outputs": [
    {
     "name": "stdout",
     "output_type": "stream",
     "text": [
      "<class 'torch.Tensor'> <class 'numpy.ndarray'>\n",
      "tensor([[1., 1., 1., 1.]]) [[1. 1. 1. 1.]]\n",
      "tensor([[1., 1., 1., 1.]]) [[2. 2. 2. 2.]]\n",
      "tensor([[2., 2., 2., 2.]]) [[2. 2. 2. 2.]]\n"
     ]
    }
   ],
   "source": [
    "# numpy convert:\n",
    "x=torch.ones(1,4)\n",
    "n=x.numpy()\n",
    "print(type(x),type(n))\n",
    "\n",
    "print(x,n)\n",
    "# changes reflected from parent to child\n",
    "n=n+1\n",
    "print(x,n)\n",
    "\n",
    "x+=1\n",
    "print(x,n)"
   ]
  },
  {
   "cell_type": "code",
   "execution_count": 17,
   "metadata": {},
   "outputs": [
    {
     "name": "stdout",
     "output_type": "stream",
     "text": [
      "<class 'torch.Tensor'> <class 'numpy.ndarray'>\n",
      "tensor([[1., 1., 1., 1.]], dtype=torch.float64) [[1. 1. 1. 1.]]\n",
      "tensor([[1., 1., 1., 1.]], dtype=torch.float64) [[2. 2. 2. 2.]]\n",
      "tensor([[2., 2., 2., 2.]], dtype=torch.float64) [[2. 2. 2. 2.]]\n"
     ]
    }
   ],
   "source": [
    "# numpy convert:\n",
    "n=np.ones((1,4))\n",
    "x=torch.tensor(n)\n",
    "print(type(x),type(n))\n",
    "\n",
    "print(x,n)\n",
    "# changes reflected from parent to child\n",
    "n=n+1\n",
    "print(x,n)\n",
    "\n",
    "x+=1\n",
    "print(x,n)"
   ]
  },
  {
   "cell_type": "code",
   "execution_count": 20,
   "metadata": {},
   "outputs": [
    {
     "name": "stdout",
     "output_type": "stream",
     "text": [
      "<class 'torch.Tensor'> <class 'numpy.ndarray'>\n",
      "tensor([[1., 1., 1., 1.]], dtype=torch.float64) [[1. 1. 1. 1.]]\n",
      "tensor([[1., 1., 1., 1.]], dtype=torch.float64) [[2. 2. 2. 2.]]\n",
      "tensor([[2., 2., 2., 2.]], dtype=torch.float64) [[2. 2. 2. 2.]]\n",
      "tensor([[2., 2., 2., 2.]], dtype=torch.float64) [[3. 3. 3. 3.]]\n"
     ]
    }
   ],
   "source": [
    "# numpy convert:\n",
    "n=np.ones((1,4))\n",
    "x=torch.from_numpy(n)\n",
    "print(type(x),type(n))\n",
    "\n",
    "print(x,n)\n",
    "# changes reflected from parent to child\n",
    "n=n+1\n",
    "print(x,n)\n",
    "\n",
    "x+=1\n",
    "print(x,n)\n",
    "np.add(n, 1, out=n)\n",
    "print(x,n)\n"
   ]
  },
  {
   "cell_type": "code",
   "execution_count": null,
   "metadata": {},
   "outputs": [],
   "source": []
  }
 ],
 "metadata": {
  "kernelspec": {
   "display_name": "Python 3",
   "language": "python",
   "name": "python3"
  },
  "language_info": {
   "codemirror_mode": {
    "name": "ipython",
    "version": 3
   },
   "file_extension": ".py",
   "mimetype": "text/x-python",
   "name": "python",
   "nbconvert_exporter": "python",
   "pygments_lexer": "ipython3",
   "version": "3.11.2"
  },
  "orig_nbformat": 4
 },
 "nbformat": 4,
 "nbformat_minor": 2
}
