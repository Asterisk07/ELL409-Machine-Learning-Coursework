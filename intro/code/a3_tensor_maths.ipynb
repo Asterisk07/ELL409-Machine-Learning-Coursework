{
 "cells": [
  {
   "cell_type": "code",
   "execution_count": 2,
   "metadata": {},
   "outputs": [],
   "source": [
    "# Initialisation\n",
    "\n",
    "import numpy as np\n",
    "import math\n",
    "import torch"
   ]
  },
  {
   "cell_type": "code",
   "execution_count": 9,
   "metadata": {},
   "outputs": [
    {
     "data": {
      "text/plain": [
       "tensor([[5., 5., 5.],\n",
       "        [5., 5., 5.]])"
      ]
     },
     "execution_count": 9,
     "metadata": {},
     "output_type": "execute_result"
    }
   ],
   "source": [
    "x=torch.ones(2,3)\n",
    "# scalar arithmetic operations are applied elementwise\n",
    "x+4"
   ]
  },
  {
   "cell_type": "code",
   "execution_count": 6,
   "metadata": {},
   "outputs": [
    {
     "data": {
      "text/plain": [
       "tensor([[3., 3., 3.],\n",
       "        [3., 3., 3.]])"
      ]
     },
     "execution_count": 6,
     "metadata": {},
     "output_type": "execute_result"
    }
   ],
   "source": [
    "x*3"
   ]
  },
  {
   "cell_type": "code",
   "execution_count": 16,
   "metadata": {},
   "outputs": [
    {
     "data": {
      "text/plain": [
       "tensor([[25., 25., 25.],\n",
       "        [25., 25., 25.]])"
      ]
     },
     "execution_count": 16,
     "metadata": {},
     "output_type": "execute_result"
    }
   ],
   "source": [
    "(9+x)**2/4"
   ]
  },
  {
   "cell_type": "code",
   "execution_count": 26,
   "metadata": {},
   "outputs": [
    {
     "name": "stdout",
     "output_type": "stream",
     "text": [
      "tensor([[1., 1., 1.],\n",
      "        [1., 1., 1.]])\n",
      "tensor([[5., 5., 5.],\n",
      "        [5., 5., 5.]])\n"
     ]
    },
    {
     "data": {
      "text/plain": [
       "tensor([[6., 6., 6.],\n",
       "        [6., 6., 6.]])"
      ]
     },
     "execution_count": 26,
     "metadata": {},
     "output_type": "execute_result"
    }
   ],
   "source": [
    "# tensor multiplications / additions :\n",
    "# require same dimensions:\n",
    "# also performed elementwise\n",
    "y=torch.ones_like(x)\n",
    "y=y*5\n",
    "print(x)\n",
    "print(y)\n",
    "x+y"
   ]
  },
  {
   "cell_type": "code",
   "execution_count": 25,
   "metadata": {},
   "outputs": [
    {
     "name": "stdout",
     "output_type": "stream",
     "text": [
      "tensor([[1., 1., 1.],\n",
      "        [1., 1., 1.]])\n",
      "tensor([[5., 5., 5.],\n",
      "        [5., 5., 5.]])\n"
     ]
    },
    {
     "data": {
      "text/plain": [
       "tensor([[5., 5., 5.],\n",
       "        [5., 5., 5.]])"
      ]
     },
     "execution_count": 25,
     "metadata": {},
     "output_type": "execute_result"
    }
   ],
   "source": [
    "x*y"
   ]
  },
  {
   "cell_type": "code",
   "execution_count": 29,
   "metadata": {},
   "outputs": [
    {
     "name": "stdout",
     "output_type": "stream",
     "text": [
      "Error : tensor multiplications required tensors of same size\n"
     ]
    }
   ],
   "source": [
    "try:\n",
    "    a = torch.rand(2, 3)\n",
    "    b = torch.rand(3, 2)\n",
    "\n",
    "    print(a * b)\n",
    "except:\n",
    "    print(\"Error : tensor multiplications required tensors of same size\")"
   ]
  },
  {
   "cell_type": "code",
   "execution_count": 33,
   "metadata": {},
   "outputs": [
    {
     "name": "stdout",
     "output_type": "stream",
     "text": [
      "tensor([[0.5145, 0.9846, 0.2785, 0.4585],\n",
      "        [0.4936, 0.8233, 0.7879, 0.5465]])\n",
      "tensor([[1., -0., -0., 1.],\n",
      "        [1., 1., 1., -0.]])\n",
      "tensor([[ 0., -1., -1.,  0.],\n",
      "        [ 0.,  0.,  0., -1.]])\n",
      "tensor([[ 0.5000, -0.5000, -0.2785,  0.4585],\n",
      "        [ 0.4936,  0.5000,  0.5000, -0.5000]])\n",
      "tensor([3, 2, 1])\n",
      "tensor([False, False, False])\n",
      "\n",
      "Reduction ops:\n",
      "tensor(0.8794)\n",
      "0.8793984651565552\n",
      "tensor(0.0410)\n",
      "tensor(0.5435)\n",
      "tensor(5.5811e-06)\n",
      "tensor([1, 2])\n",
      "tensor([-27,  12,  -3])\n",
      "torch.return_types.svd(\n",
      "U=tensor([[-0.6609, -0.7505],\n",
      "        [-0.7505,  0.6609]]),\n",
      "S=tensor([3.2413, 1.3035]),\n",
      "V=tensor([[-0.4748,  0.8801],\n",
      "        [-0.8801, -0.4748]]))\n"
     ]
    }
   ],
   "source": [
    "# common functions\n",
    "a = torch.rand(2, 4) * 2 - 1\n",
    "\n",
    "# Simple Elementwise operations :\n",
    "print(torch.abs(a))\n",
    "print(torch.ceil(a))\n",
    "print(torch.floor(a))\n",
    "sines = torch.sin(a)\n",
    "inverses = torch.asin(sines)\n",
    "\n",
    "# clamp method:\n",
    "print(torch.clamp(a, -0.5, 0.5))\n",
    "\n",
    "# --------------------------------------\n",
    "# Initialisation of matrices and vectors\n",
    "b = torch.tensor([1, 5, 11])\n",
    "c = torch.tensor([2, 7, 10])\n",
    "\n",
    "\n",
    "m1 = torch.rand(2, 2)                  \n",
    "m2 = torch.tensor([[3., 0.], [0., 3.]])\n",
    "\n",
    "# --------------------------------------\n",
    "# Two tensor operands:\n",
    "\n",
    "# Xor\n",
    "print(torch.bitwise_xor(b, c))\n",
    "\n",
    "# equality check\n",
    "print(torch.eq(b,c)) # returns a tensor of type bool\n",
    "\n",
    "# --------------------------------------\n",
    "# reductions :\n",
    "print('\\nReduction ops:')\n",
    "\n",
    "e = torch.rand(2, 4) * 2 - 1\n",
    "\n",
    "# Statistics | return scalar :\n",
    "print(torch.max(e))        # returns a single-element tensor\n",
    "print(torch.max(e).item()) # extracts the value from the returned tensor\n",
    "print(torch.mean(e))       # average\n",
    "print(torch.std(e))        # standard deviation\n",
    "print(torch.prod(e))       # product of all numbers\n",
    "\n",
    "# returns subtensor:\n",
    "print(torch.unique(torch.tensor([1, 2, 1, 2, 1, 2]))) # filter unique elements\n",
    "\n",
    "# --------------------------------------\n",
    "# Vectors & Matrices:\n",
    "\n",
    "# cross product\n",
    "print(torch.cross(b,c)) # negative of z unit vector (v1 x v2 == -v2 x v1)\n",
    "\n",
    "# matrix multiplication (not elementwise)\n",
    "\n",
    "m3 = torch.matmul(m1, m2)\n",
    "\n",
    "# singular value decomposition\n",
    "# basically generalisation of diagonisation for non square matrices\n",
    "# it returns a tuple of three matrices P,D,Q such that A= PDQ\n",
    "# if A is square and diagonal then D is its diagonalised version and Q=P^1 (not sure, to test)\n",
    "print(torch.svd(m3))    "
   ]
  }
 ],
 "metadata": {
  "kernelspec": {
   "display_name": "Python 3",
   "language": "python",
   "name": "python3"
  },
  "language_info": {
   "codemirror_mode": {
    "name": "ipython",
    "version": 3
   },
   "file_extension": ".py",
   "mimetype": "text/x-python",
   "name": "python",
   "nbconvert_exporter": "python",
   "pygments_lexer": "ipython3",
   "version": "3.11.2"
  },
  "orig_nbformat": 4
 },
 "nbformat": 4,
 "nbformat_minor": 2
}
