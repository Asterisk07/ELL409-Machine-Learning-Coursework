{
 "cells": [
  {
   "cell_type": "markdown",
   "metadata": {},
   "source": [
    "# Jupyter Notebook Keyboard Shortcuts\n",
    "\n",
    "## Cell Actions\n",
    "\n",
    "- Run Current Cell: `Shift + Enter`\n",
    "- Run Selected Cells: `Shift + Enter` with cells selected\n",
    "- Insert Cell Below: `B` (press `B` in command mode)\n",
    "- Insert Cell Above: `A` (press `A` in command mode)\n",
    "- Delete Cell: `D`, `D` (press `D` twice in command mode)\n",
    "- Convert Cell to Code: `Y` (press `Y` in command mode)\n",
    "- Convert Cell to Markdown: `M` (press `M` in command mode)\n",
    "- Toggle Cell Line Numbers: `L` (press `L` in command mode)\n",
    "- Merge Selected Cells: `Shift + M` with cells selected\n",
    "- Split Cell: `Ctrl + Shift + -` (press `-` in command mode)\n",
    "\n",
    "## Notebook Navigation\n",
    "\n",
    "<!-- - Move Up: `Up Arrow` (press `Up Arrow` in command mode)\n",
    "- Move Down: `Down Arrow` (press `Down Arrow` in command mode) -->\n",
    "- Go to Next Cell: `J` (press `J` in command mode)\n",
    "- Go to Previous Cell: `K` (press `K` in command mode)\n"
   ]
  }
 ],
 "metadata": {
  "kernelspec": {
   "display_name": "Python 3",
   "language": "python",
   "name": "python3"
  },
  "language_info": {
   "codemirror_mode": {
    "name": "ipython",
    "version": 3
   },
   "file_extension": ".py",
   "mimetype": "text/x-python",
   "name": "python",
   "nbconvert_exporter": "python",
   "pygments_lexer": "ipython3",
   "version": "3.11.2"
  },
  "orig_nbformat": 4
 },
 "nbformat": 4,
 "nbformat_minor": 2
}
