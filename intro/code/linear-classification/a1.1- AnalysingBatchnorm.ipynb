{
 "cells": [
  {
   "cell_type": "markdown",
   "metadata": {},
   "source": []
  },
  {
   "cell_type": "markdown",
   "metadata": {},
   "source": []
  },
  {
   "cell_type": "markdown",
   "metadata": {},
   "source": [
    "### Improved Accuracy with Batch Normalization\n",
    "\n",
    "The addition of Batch Normalization to the neural network significantly improved accuracy from [70%](/code/linear-classification/a1.ipynb) to [82%](/code/linear-classification/a1-withBatchnorm.ipynb) . This improvement can be attributed to several key factors:\n",
    "\n",
    "<!-- 1. **Training Stability**: Batch Normalization stabilizes the training process by normalizing the activations within each mini-batch. This reduces the risk of issues like vanishing gradients and makes training more robust. -->\n",
    "\n",
    "<!-- 2. **Faster Convergence**: Normalized activations allow for larger learning rates, which can accelerate convergence. With BatchNorm, the network reached a good solution in fewer training epochs. -->\n",
    "\n",
    "3. **Regularization Effect**: BatchNorm introduces noise during training due to mini-batch statistics. This acts as a form of regularization, preventing overfitting and improving generalization.\n",
    "\n",
    "4. **Mitigating Covariate Shift**: BatchNorm mitigates the internal covariate shift problem by keeping the distribution of activations consistent across layers. This results in more stable and consistent training.\n",
    "\n",
    "5. **Improved Weight Initialization**: BatchNorm reduces sensitivity to weight initialization choices, allowing the model to learn effectively even with suboptimal initializations, since the mean of the parameters is zero.\n",
    "\n",
    "In summary, Batch Normalization played a crucial role in enhancing the model's training process, making it more stable, faster, and robust. These improvements led to the observed increase in accuracy from 70% to 82%.\n"
   ]
  }
 ],
 "metadata": {
  "kernelspec": {
   "display_name": "Python 3",
   "language": "python",
   "name": "python3"
  },
  "language_info": {
   "codemirror_mode": {
    "name": "ipython",
    "version": 3
   },
   "file_extension": ".py",
   "mimetype": "text/x-python",
   "name": "python",
   "nbconvert_exporter": "python",
   "pygments_lexer": "ipython3",
   "version": "3.11.2"
  },
  "orig_nbformat": 4
 },
 "nbformat": 4,
 "nbformat_minor": 2
}
