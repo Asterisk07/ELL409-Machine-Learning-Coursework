{
 "cells": [
  {
   "cell_type": "code",
   "execution_count": 27,
   "metadata": {},
   "outputs": [],
   "source": [
    "# Initialisation\n",
    "\n",
    "%matplotlib inline\n",
    "import numpy as npj\n",
    "import torch\n",
    "\n",
    "# printer function\n",
    "def p(t):\n",
    "    # t is a tuple\n",
    "    print(t)\n",
    "    for i in t:\n",
    "        print(i,end=\"\\n-----------------------------\\n\")"
   ]
  },
  {
   "cell_type": "code",
   "execution_count": 3,
   "metadata": {},
   "outputs": [
    {
     "data": {
      "text/plain": [
       "array([[1, 2],\n",
       "       [3, 4]])"
      ]
     },
     "execution_count": 3,
     "metadata": {},
     "output_type": "execute_result"
    }
   ],
   "source": [
    "# creating np array from data\n",
    "data=[[1,2],[3,4]]\n",
    "nar=np.array(data)\n",
    "nar"
   ]
  },
  {
   "cell_type": "code",
   "execution_count": 4,
   "metadata": {},
   "outputs": [
    {
     "data": {
      "text/plain": [
       "tensor([[1, 2],\n",
       "        [3, 4]])"
      ]
     },
     "execution_count": 4,
     "metadata": {},
     "output_type": "execute_result"
    }
   ],
   "source": [
    "# creating tensor from data: \n",
    "ten=torch.tensor(data)\n",
    "ten"
   ]
  },
  {
   "cell_type": "code",
   "execution_count": 5,
   "metadata": {},
   "outputs": [
    {
     "data": {
      "text/plain": [
       "tensor([[1, 2],\n",
       "        [3, 4]], dtype=torch.int32)"
      ]
     },
     "execution_count": 5,
     "metadata": {},
     "output_type": "execute_result"
    }
   ],
   "source": [
    "# creating tensor from np array: \n",
    "ten1=torch.tensor(nar)\n",
    "ten1"
   ]
  },
  {
   "cell_type": "code",
   "execution_count": 6,
   "metadata": {},
   "outputs": [
    {
     "data": {
      "text/plain": [
       "array([[1, 2],\n",
       "       [3, 4]], dtype=int64)"
      ]
     },
     "execution_count": 6,
     "metadata": {},
     "output_type": "execute_result"
    }
   ],
   "source": [
    "# creating np array from tensor: \n",
    "nar1=np.array(ten)\n",
    "nar1"
   ]
  },
  {
   "cell_type": "code",
   "execution_count": 7,
   "metadata": {},
   "outputs": [
    {
     "data": {
      "text/plain": [
       "tensor([[1, 2],\n",
       "        [3, 4]])"
      ]
     },
     "execution_count": 7,
     "metadata": {},
     "output_type": "execute_result"
    }
   ],
   "source": [
    "ten2=torch.tensor(nar1)\n",
    "ten2"
   ]
  },
  {
   "cell_type": "code",
   "execution_count": 8,
   "metadata": {},
   "outputs": [
    {
     "name": "stdout",
     "output_type": "stream",
     "text": [
      "[[1 2]\n",
      " [3 4]]\\\n",
      "[[1 2]\n",
      " [3 4]]\\\n",
      "tensor([[1, 2],\n",
      "        [3, 4]])\\\n",
      "tensor([[1, 2],\n",
      "        [3, 4]], dtype=torch.int32)\\\n",
      "tensor([[1, 2],\n",
      "        [3, 4]])\n"
     ]
    }
   ],
   "source": [
    "data[0]=[9,10]\n",
    "print(nar,nar1,ten,ten1,ten2,sep= \"\\\\\\n\")"
   ]
  },
  {
   "cell_type": "code",
   "execution_count": 9,
   "metadata": {},
   "outputs": [
    {
     "name": "stdout",
     "output_type": "stream",
     "text": [
      "[[1 2]\n",
      " [3 4]]\n",
      "tensor([[1, 2],\n",
      "        [3, 4]], dtype=torch.int32)\\\n",
      "tensor([[1, 2],\n",
      "        [3, 4]], dtype=torch.int32)\n",
      "tensor([[2, 3],\n",
      "        [3, 4]], dtype=torch.int32)\\\n",
      "tensor([[1, 2],\n",
      "        [3, 4]], dtype=torch.int32)\n",
      "2337070870384\n",
      "2337062418096\n",
      "2337031213280\n"
     ]
    }
   ],
   "source": [
    "nar[0]=[1,2]\n",
    "print(nar)\n",
    "\n",
    "# shallow copy\n",
    "ten3=torch.from_numpy(nar)\n",
    "\n",
    "# deep copy\n",
    "ten4=torch.tensor(nar)\n",
    "\n",
    "print(ten3,ten4, sep=\"\\\\\\n\")\n",
    "nar[0]=[2,3]\n",
    "print(ten3,ten4, sep=\"\\\\\\n\")\n",
    "\n",
    "# nar and ten3 have same id\n",
    "# not ten4\n",
    "print(id(nar),id(ten3),id(ten4),sep='\\n')\n"
   ]
  },
  {
   "cell_type": "code",
   "execution_count": 10,
   "metadata": {},
   "outputs": [],
   "source": [
    "# printer function\n",
    "def p(t):\n",
    "    # t is a tuple\n",
    "    print(t)\n",
    "    for i in t:\n",
    "        print(i,end=\"\\n-----------------------------\\n\")"
   ]
  },
  {
   "cell_type": "code",
   "execution_count": 29,
   "metadata": {},
   "outputs": [
    {
     "name": "stdout",
     "output_type": "stream",
     "text": [
      "Ten \n",
      " tensor([[1, 2],\n",
      "        [3, 4]])\n",
      "error, dtype must be float not int\n",
      "error, dtype must be float not int\n",
      "tensor([[1, 1],\n",
      "        [1, 1]])\n",
      "-----------------------------\n",
      "tensor([[0.9212, 0.2677],\n",
      "        [0.7044, 0.1016]])\n",
      "-----------------------------\n"
     ]
    }
   ],
   "source": [
    "# creating tensors of 1s and random valeus\n",
    "print(\"Ten \\n\",ten)\n",
    "x1=torch.ones_like(ten)\n",
    "\n",
    "# dtype must be float!\n",
    "# this is because the rand_like function is only implemented for FLOAT or DOUBLE types\n",
    "x2=torch.rand_like(ten,dtype=torch.float)\n",
    "\n",
    "try:\n",
    "    x3=torch.rand_like(ten)\n",
    "    p((x3))\n",
    "except:\n",
    "    print(\"error, dtype must be float not int\")\n",
    "try:\n",
    "    x3=torch.rand_like(ten,dtype=int32)\n",
    "    p((x3))\n",
    "except:\n",
    "    print(\"error, dtype must be float not int\")\n",
    "p((x1,x2))\n"
   ]
  },
  {
   "cell_type": "code",
   "execution_count": null,
   "metadata": {},
   "outputs": [],
   "source": [
    "# shape is a tuple of dimensions of the tensor\n",
    "shape = (2,3)\n",
    "x1=torch.rand(shape)\n",
    "print(x1)\n",
    "shape2=(1,2,3,4)\n",
    "x2=torch.zeros(shape2)\n",
    "x2"
   ]
  },
  {
   "cell_type": "code",
   "execution_count": 29,
   "metadata": {},
   "outputs": [
    {
     "name": "stdout",
     "output_type": "stream",
     "text": [
      "attributes are :\n",
      "tensor shape :  torch.Size([2, 3])\n",
      "tensor dtype :  torch.float32\n",
      "tensor device :  cpu\n"
     ]
    }
   ],
   "source": [
    "x=torch.ones(2,3)\n",
    "print('attributes are :')\n",
    "print(\"tensor shape : \",x.shape)\n",
    "print(\"tensor dtype : \",x.dtype)\n",
    "print(\"tensor device : \",x.device)"
   ]
  }
 ],
 "metadata": {
  "kernelspec": {
   "display_name": "Python 3",
   "language": "python",
   "name": "python3"
  },
  "language_info": {
   "codemirror_mode": {
    "name": "ipython",
    "version": 3
   },
   "file_extension": ".py",
   "mimetype": "text/x-python",
   "name": "python",
   "nbconvert_exporter": "python",
   "pygments_lexer": "ipython3",
   "version": "3.11.2"
  },
  "orig_nbformat": 4
 },
 "nbformat": 4,
 "nbformat_minor": 2
}
