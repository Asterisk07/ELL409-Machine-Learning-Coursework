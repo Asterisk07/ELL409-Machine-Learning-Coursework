{
 "cells": [
  {
   "cell_type": "code",
   "execution_count": 1,
   "id": "11ed3c9c",
   "metadata": {
    "execution": {
     "iopub.execute_input": "2023-09-08T23:56:47.673682Z",
     "iopub.status.busy": "2023-09-08T23:56:47.673682Z",
     "iopub.status.idle": "2023-09-08T23:56:51.092741Z",
     "shell.execute_reply": "2023-09-08T23:56:51.092741Z"
    },
    "papermill": {
     "duration": 3.42617,
     "end_time": "2023-09-08T23:56:51.092741",
     "exception": false,
     "start_time": "2023-09-08T23:56:47.666571",
     "status": "completed"
    },
    "tags": []
   },
   "outputs": [],
   "source": [
    "import torch.nn as nn\n",
    "import torch.optim as optim"
   ]
  },
  {
   "cell_type": "code",
   "execution_count": 2,
   "id": "ab12aafe",
   "metadata": {
    "execution": {
     "iopub.execute_input": "2023-09-08T23:56:51.102798Z",
     "iopub.status.busy": "2023-09-08T23:56:51.102798Z",
     "iopub.status.idle": "2023-09-08T23:56:51.106719Z",
     "shell.execute_reply": "2023-09-08T23:56:51.106719Z"
    },
    "papermill": {
     "duration": 0.008447,
     "end_time": "2023-09-08T23:56:51.106719",
     "exception": false,
     "start_time": "2023-09-08T23:56:51.098272",
     "status": "completed"
    },
    "tags": [
     "parameters"
    ]
   },
   "outputs": [],
   "source": [
    "tuning_type='optimzer_name'\n",
    "learning_rate=0.5\n",
    "reduceLR_factor=0.1\n",
    "reduceLR_patience=5\n",
    "\n",
    "weight_decay_rate=0.01\n",
    "batchSize=128\n",
    "optimizer_name='SGD'"
   ]
  },
  {
   "cell_type": "code",
   "execution_count": 3,
   "id": "ded79992",
   "metadata": {
    "execution": {
     "iopub.execute_input": "2023-09-08T23:56:51.114568Z",
     "iopub.status.busy": "2023-09-08T23:56:51.111562Z",
     "iopub.status.idle": "2023-09-08T23:56:51.117061Z",
     "shell.execute_reply": "2023-09-08T23:56:51.117061Z"
    },
    "papermill": {
     "duration": 0.007295,
     "end_time": "2023-09-08T23:56:51.118027",
     "exception": false,
     "start_time": "2023-09-08T23:56:51.110732",
     "status": "completed"
    },
    "tags": [
     "injected-parameters"
    ]
   },
   "outputs": [],
   "source": [
    "# Parameters\n",
    "optimizer_name = \"RMSprop\"\n",
    "tuning_type = \"optimizer_name\"\n"
   ]
  },
  {
   "cell_type": "code",
   "execution_count": 4,
   "id": "252a2f62",
   "metadata": {
    "execution": {
     "iopub.execute_input": "2023-09-08T23:56:51.122970Z",
     "iopub.status.busy": "2023-09-08T23:56:51.122970Z",
     "iopub.status.idle": "2023-09-08T23:56:51.129565Z",
     "shell.execute_reply": "2023-09-08T23:56:51.129565Z"
    },
    "papermill": {
     "duration": 0.010186,
     "end_time": "2023-09-08T23:56:51.130906",
     "exception": false,
     "start_time": "2023-09-08T23:56:51.120720",
     "status": "completed"
    },
    "tags": []
   },
   "outputs": [],
   "source": [
    "# editable parameters\n",
    "quesname='q1/'\n",
    "\n",
    "# batchSize=64\n",
    "savename='q1/'\n",
    "\n",
    "# learning_rate=0.01\n",
    "# reduceLR_factor=0.5\n",
    "# reduceLR_patience=5\n",
    "\n",
    "# logfilename=f\n",
    "\n",
    "# accuracy=0\n",
    "# placeholder\n",
    "\n",
    "num_epochs = 10\n",
    "\n",
    "criterion = nn.CrossEntropyLoss()\n",
    "\n",
    "\n",
    "def loginfo(converged=False,testnum=1):     \n",
    "    \n",
    "    # logging.info(f\"\\nTest {testnum}\")\n",
    "    # logging.info(f\"initial learning rate : {learning_rate:.2f} \")\n",
    "    # logging.info(f\"Accuracy: {accuracy:.2f}%\")\n",
    "    # # logging.info(f\"Training Time: {training_time:.2f} seconds\")\n",
    "    # logging.info(f\"Number of epochs to converge: {num_epochs:.2f} \")\n",
    "    print(\"jeref\")\n",
    "    logging.basicConfig(filename=tuning_type+'.log', level=logging.INFO, format='%(message)s')\n",
    "    logging.info(f\"tuning : {tuning_type}\")\n",
    "    logging.info(  f\"Accuracy: {accuracy:.2f}% | epochs: {num_epochs} | initial learning rate: {learning_rate:.2f} | LR factor: {reduceLR_factor} | Patience: {reduceLR_patience} | weight decay rate: {weight_decay_rate} | Batchsize: {batchSize} | optimizer: {optimizer_name} | training time: {round(training_time,1)} sec\\n\")\n",
    "    # logging.info(f\"reduceLR_factor: {reduceLR_factor:.2f} \")\n",
    "    # logging.info(f\"reduceLR_patience : {reduceLR_patience:.2f} \")\n",
    "\n",
    "    # logging.info(f\"Test Session Finished \\n\")\n",
    "  "
   ]
  },
  {
   "cell_type": "code",
   "execution_count": 5,
   "id": "ced74abf",
   "metadata": {
    "execution": {
     "iopub.execute_input": "2023-09-08T23:56:51.138305Z",
     "iopub.status.busy": "2023-09-08T23:56:51.138305Z",
     "iopub.status.idle": "2023-09-08T23:56:51.943903Z",
     "shell.execute_reply": "2023-09-08T23:56:51.943903Z"
    },
    "papermill": {
     "duration": 0.811607,
     "end_time": "2023-09-08T23:56:51.944923",
     "exception": false,
     "start_time": "2023-09-08T23:56:51.133316",
     "status": "completed"
    },
    "tags": []
   },
   "outputs": [],
   "source": [
    "# Initialisation\n",
    "import numpy as np\n",
    "import math\n",
    "import torch as t\n",
    "import torch \n",
    "import os\n",
    "\n",
    "\n",
    "# import torch\n",
    "# import logging\n",
    "\n",
    "log_dir = '../../log'\n",
    "os.makedirs(log_dir, exist_ok=True)\n",
    "\n",
    "log_dir=os.path.join(log_dir, quesname)\n",
    "os.makedirs(log_dir, exist_ok=True)\n",
    "from torch.utils.data import Dataset\n",
    "from torch.utils.data import DataLoader\n",
    "from torchvision import datasets\n",
    "from torchvision.transforms import ToTensor, Lambda\n",
    "\n",
    "import matplotlib.pyplot as plt\n",
    "%matplotlib inline\n",
    "\n",
    "\n",
    "# logging.basicConfig(filename=logfile, level=logging.INFO, format='%(asctime)s - %(levelname)s - %(message)s')\n",
    "\n"
   ]
  },
  {
   "cell_type": "markdown",
   "id": "9c914208",
   "metadata": {
    "papermill": {
     "duration": 0.002208,
     "end_time": "2023-09-08T23:56:51.953218",
     "exception": false,
     "start_time": "2023-09-08T23:56:51.951010",
     "status": "completed"
    },
    "tags": []
   },
   "source": []
  },
  {
   "cell_type": "code",
   "execution_count": 6,
   "id": "f1f73c15",
   "metadata": {
    "execution": {
     "iopub.execute_input": "2023-09-08T23:56:51.968289Z",
     "iopub.status.busy": "2023-09-08T23:56:51.968289Z",
     "iopub.status.idle": "2023-09-08T23:56:52.104235Z",
     "shell.execute_reply": "2023-09-08T23:56:52.104235Z"
    },
    "papermill": {
     "duration": 0.143141,
     "end_time": "2023-09-08T23:56:52.105444",
     "exception": false,
     "start_time": "2023-09-08T23:56:51.962303",
     "status": "completed"
    },
    "tags": []
   },
   "outputs": [],
   "source": [
    "\n",
    "# part 1 and 2:\n",
    "# dataset loading:\n",
    "training_data = datasets.FashionMNIST(\n",
    "    root=\"../../data/\",\n",
    "    train=True,\n",
    "    download=True,\n",
    "    transform=ToTensor() # Normalisation step\n",
    "    \n",
    ")\n",
    "\n",
    "# note that ToTensor not just converts the image into a tensor but also normalises its intensity in range 0 to 1\n",
    "\n",
    "\n",
    "test_data = datasets.FashionMNIST(\n",
    "    root=\"../../data/\",\n",
    "    train=False,\n",
    "    download=True,\n",
    "    transform=ToTensor() # Normalisation step\n",
    ")\n",
    "\n",
    "# Create data loaders for training and testing\n",
    "\n",
    "\n",
    "train_loader = DataLoader(training_data, batch_size=batchSize, shuffle=True)\n",
    "test_loader = DataLoader(test_data, batch_size=batchSize, shuffle=False)"
   ]
  },
  {
   "cell_type": "code",
   "execution_count": 7,
   "id": "db517a0b",
   "metadata": {
    "execution": {
     "iopub.execute_input": "2023-09-08T23:56:52.116679Z",
     "iopub.status.busy": "2023-09-08T23:56:52.116679Z",
     "iopub.status.idle": "2023-09-08T23:56:52.143739Z",
     "shell.execute_reply": "2023-09-08T23:56:52.143739Z"
    },
    "papermill": {
     "duration": 0.033093,
     "end_time": "2023-09-08T23:56:52.143739",
     "exception": false,
     "start_time": "2023-09-08T23:56:52.110646",
     "status": "completed"
    },
    "tags": []
   },
   "outputs": [
    {
     "name": "stdout",
     "output_type": "stream",
     "text": [
      "Checkpoint file '../../saved_models/q1/ignore.pth' not found. Model not loaded.\n",
      "model created\n"
     ]
    }
   ],
   "source": [
    "# part 3:\n",
    "\n",
    "\n",
    "\n",
    "# builtin classifier:\n",
    "\n",
    "# Define the model\n",
    "\n",
    "# model saving\n",
    "# Define a directory to save models\n",
    "save_dir = '../../saved_models/'\n",
    "save_dir=os.path.join(save_dir, savename)\n",
    "\n",
    "os.makedirs(save_dir, exist_ok=True)\n",
    "\n",
    "model = nn.Sequential(\n",
    "\n",
    "    # we need to flatten the input data from 2d tensor into 1d tensor of 784 values (28*28) since data is in form of images\n",
    "    nn.Flatten(),  # Flatten the input data\n",
    "\n",
    "    nn.Linear(in_features=784, out_features=10),  # Linear layer   \n",
    "    # nn.Linear(in_features=784, out_features=batchSize),  # Linear layer   \n",
    "\n",
    "    nn.BatchNorm1d(10),\n",
    "    # this normalsises input tensors by scaling and shifting\n",
    "    # makes mean 0 and variance 1\n",
    "\n",
    "    # softmax function, or normalized exponential function converts a vector of K real numbers into a probability distribution of K possible outcomes\n",
    "    nn.Softmax(dim=1)  # Softmax activation\n",
    "\n",
    "    \n",
    ")\n",
    "\n",
    "# Specify the path to the saved checkpoint file\n",
    "# model_path = '../../saved_models/model_checkpoint.pth'\n",
    "\n",
    "# tk\n",
    "model_path = os.path.join(save_dir, 'ignore.pth')\n",
    "\n",
    "# model_path = os.path.join(save_dir, 'model_checkpoint.pth')\n",
    "\n",
    "# Check if the file exists before loading\n",
    "if os.path.exists(model_path):\n",
    "    # Load the model checkpoint\n",
    "    checkpoint = torch.load(model_path)\n",
    "\n",
    "    # Load the model's state_dict\n",
    "    model.load_state_dict(checkpoint)\n",
    "    print(\"Model loaded successfully.\")\n",
    "else:\n",
    "    print(f\"Checkpoint file '{model_path}' not found. Model not loaded.\")\n",
    "\n",
    "# custom made classifier\n",
    "'''\n",
    "class LinearClassifier(nn.Module):\n",
    "    def __init__(self):\n",
    "        super(LinearClassifier, self).__init__()\n",
    "\n",
    "        # Define the linear layer\n",
    "        # we used 28*28 input and 10 labels because we are working with MNIST database\n",
    "        self.fc = nn.Linear(28 * 28, 10)  # 28*28 input features, 10 output classes\n",
    "        \n",
    "        # Define an activation function (e.g., softmax for classification)\n",
    "\n",
    "        # softmax function, or normalized exponential function converts a vector of K real numbers into a probability distribution of K possible outcomes\n",
    "        self.softmax = nn.Softmax(dim=1)\n",
    "\n",
    "    #IMPORTANT the name 'forward' is not arbitrary; it's a convention in PyTorch, and this method is automatically called when we pass data through our model.\n",
    "    def forward(self, x):\n",
    "\n",
    "        # we need to flatten the input data from 2d tensor into 1d tensor of 784 values (28*28) since data is in form of images\n",
    "        x = x.view(x.size(0), -1)  # Flatten the input tensor\n",
    "\n",
    "        x = self.fc(x)  # Apply the linear transformation\n",
    "        x = self.softmax(x) # Apply the activation function\n",
    "        return x\n",
    "'''\n",
    "print('model created')"
   ]
  },
  {
   "cell_type": "code",
   "execution_count": 8,
   "id": "e347817a",
   "metadata": {
    "execution": {
     "iopub.execute_input": "2023-09-08T23:56:52.156421Z",
     "iopub.status.busy": "2023-09-08T23:56:52.155414Z",
     "iopub.status.idle": "2023-09-08T23:56:52.210486Z",
     "shell.execute_reply": "2023-09-08T23:56:52.210486Z"
    },
    "papermill": {
     "duration": 0.059942,
     "end_time": "2023-09-08T23:56:52.210486",
     "exception": false,
     "start_time": "2023-09-08T23:56:52.150544",
     "status": "completed"
    },
    "tags": []
   },
   "outputs": [
    {
     "name": "stdout",
     "output_type": "stream",
     "text": [
      "Model structure before training:  Sequential(\n",
      "  (0): Flatten(start_dim=1, end_dim=-1)\n",
      "  (1): Linear(in_features=784, out_features=10, bias=True)\n",
      "  (2): BatchNorm1d(10, eps=1e-05, momentum=0.1, affine=True, track_running_stats=True)\n",
      "  (3): Softmax(dim=1)\n",
      ") \n",
      "\n",
      "\n",
      "Layer: 1.weight | Size: torch.Size([10, 784]) | Values : tensor([[ 0.0092, -0.0326, -0.0322,  ..., -0.0320,  0.0035,  0.0232],\n",
      "        [-0.0301,  0.0318, -0.0028,  ...,  0.0012,  0.0237, -0.0175]],\n",
      "       grad_fn=<SliceBackward0>) \n",
      "\n",
      "Layer: 1.bias | Size: torch.Size([10]) | Values : tensor([0.0181, 0.0294], grad_fn=<SliceBackward0>) \n",
      "\n",
      "Layer: 2.weight | Size: torch.Size([10]) | Values : tensor([1., 1.], grad_fn=<SliceBackward0>) \n",
      "\n",
      "Layer: 2.bias | Size: torch.Size([10]) | Values : tensor([0., 0.], grad_fn=<SliceBackward0>) \n",
      "\n"
     ]
    }
   ],
   "source": [
    "print(\"Model structure before training: \", model, \"\\n\\n\")\n",
    "\n",
    "for name, param in model.named_parameters():\n",
    "    print(f\"Layer: {name} | Size: {param.size()} | Values : {param[:2]} \\n\")"
   ]
  },
  {
   "cell_type": "code",
   "execution_count": 9,
   "id": "29383241",
   "metadata": {
    "execution": {
     "iopub.execute_input": "2023-09-08T23:56:52.224951Z",
     "iopub.status.busy": "2023-09-08T23:56:52.224951Z",
     "iopub.status.idle": "2023-09-08T23:56:52.229389Z",
     "shell.execute_reply": "2023-09-08T23:56:52.229389Z"
    },
    "papermill": {
     "duration": 0.013892,
     "end_time": "2023-09-08T23:56:52.232515",
     "exception": false,
     "start_time": "2023-09-08T23:56:52.218623",
     "status": "completed"
    },
    "tags": []
   },
   "outputs": [],
   "source": [
    "# optimizer = optim.SGD(model.parameters(), lr=learning_rate)\n",
    "\n",
    "# Define the optimizer based on the provided name, learning rate, and weight decay rate\n",
    "if optimizer_name == \"SGD\":\n",
    "    optimizer = optim.SGD(model.parameters(), lr=learning_rate, weight_decay=weight_decay_rate)\n",
    "elif optimizer_name == \"Adam\":\n",
    "    optimizer = optim.Adam(model.parameters(), lr=learning_rate, weight_decay=weight_decay_rate)\n",
    "elif optimizer_name == \"RMSprop\":\n",
    "    optimizer = optim.RMSprop(model.parameters(), lr=learning_rate, weight_decay=weight_decay_rate)\n",
    "else:\n",
    "    raise ValueError(\"Invalid optimizer name\")\n",
    "# type(optimizer).__name__"
   ]
  },
  {
   "cell_type": "code",
   "execution_count": 10,
   "id": "cee59b88",
   "metadata": {
    "execution": {
     "iopub.execute_input": "2023-09-08T23:56:52.243716Z",
     "iopub.status.busy": "2023-09-08T23:56:52.243716Z",
     "iopub.status.idle": "2023-09-08T23:56:52.251864Z",
     "shell.execute_reply": "2023-09-08T23:56:52.251864Z"
    },
    "papermill": {
     "duration": 0.014956,
     "end_time": "2023-09-08T23:56:52.251864",
     "exception": false,
     "start_time": "2023-09-08T23:56:52.236908",
     "status": "completed"
    },
    "tags": []
   },
   "outputs": [
    {
     "name": "stdout",
     "output_type": "stream",
     "text": [
      "part 4 done\n"
     ]
    }
   ],
   "source": [
    "# part 4:\n",
    "\n",
    "# Define the loss function\n",
    "\n",
    "\n",
    "# import torch.optim as optim\n",
    "# Define the optimizer (e.g., SGD)\n",
    "\n",
    "\n",
    "\n",
    "# optimizer = optim.SGD(model.parameters(), lr=learning_rate)\n",
    "\n",
    "'''\n",
    "about SGD: Stochastic Gradient Descent:\n",
    "basically it performs seqeuntial updation of paramters after each epoch, using formula :\n",
    "parameter = parameter - learning_rate * gradient\n",
    "\n",
    "'''\n",
    "from torch.optim.lr_scheduler import ReduceLROnPlateau\n",
    "\n",
    "scheduler = ReduceLROnPlateau(optimizer, mode='min', factor=reduceLR_factor, patience=reduceLR_patience, verbose=True)\n",
    "\n",
    "'''\n",
    "here mode = min : means reduce (instead of increase) LR when error plateaus\n",
    "\n",
    "patience = how many epochs to wait before reducing LR\n",
    "'''\n",
    "\n",
    "print('part 4 done')\n",
    "\n"
   ]
  },
  {
   "cell_type": "code",
   "execution_count": 11,
   "id": "dcb621e0",
   "metadata": {
    "execution": {
     "iopub.execute_input": "2023-09-08T23:56:52.270809Z",
     "iopub.status.busy": "2023-09-08T23:56:52.270809Z",
     "iopub.status.idle": "2023-09-08T23:59:00.914176Z",
     "shell.execute_reply": "2023-09-08T23:59:00.912789Z"
    },
    "papermill": {
     "duration": 128.652566,
     "end_time": "2023-09-08T23:59:00.916486",
     "exception": false,
     "start_time": "2023-09-08T23:56:52.263920",
     "status": "completed"
    },
    "tags": []
   },
   "outputs": [
    {
     "name": "stderr",
     "output_type": "stream",
     "text": [
      "No artists with labels found to put in legend.  Note that artists whose label start with an underscore are ignored when legend() is called with no argument.\n"
     ]
    },
    {
     "name": "stdout",
     "output_type": "stream",
     "text": [
      "Epoch [1/10] - Loss: 2.3131, Learning Rate: 0.500000\n"
     ]
    },
    {
     "name": "stdout",
     "output_type": "stream",
     "text": [
      "Epoch [2/10] - Loss: 2.3251, Learning Rate: 0.500000\n"
     ]
    },
    {
     "name": "stdout",
     "output_type": "stream",
     "text": [
      "Epoch [3/10] - Loss: 2.3248, Learning Rate: 0.500000\n"
     ]
    },
    {
     "name": "stdout",
     "output_type": "stream",
     "text": [
      "Epoch [4/10] - Loss: 2.3248, Learning Rate: 0.500000\n"
     ]
    },
    {
     "name": "stdout",
     "output_type": "stream",
     "text": [
      "Epoch [5/10] - Loss: 2.3243, Learning Rate: 0.500000\n"
     ]
    },
    {
     "name": "stdout",
     "output_type": "stream",
     "text": [
      "Epoch [6/10] - Loss: 2.3247, Learning Rate: 0.500000\n"
     ]
    },
    {
     "name": "stdout",
     "output_type": "stream",
     "text": [
      "Epoch 00007: reducing learning rate of group 0 to 5.0000e-02.\n",
      "Epoch [7/10] - Loss: 2.3250, Learning Rate: 0.500000\n"
     ]
    },
    {
     "name": "stdout",
     "output_type": "stream",
     "text": [
      "Epoch [8/10] - Loss: 1.9908, Learning Rate: 0.050000\n"
     ]
    },
    {
     "name": "stdout",
     "output_type": "stream",
     "text": [
      "Epoch [9/10] - Loss: 1.9895, Learning Rate: 0.050000\n"
     ]
    },
    {
     "name": "stdout",
     "output_type": "stream",
     "text": [
      "Epoch [10/10] - Loss: 1.9881, Learning Rate: 0.050000\n",
      "Training complete\n",
      "time taken to train :  127.94024348258972\n",
      "time per epoch :  12.79\n"
     ]
    },
    {
     "data": {
      "image/png": "[encoded data removed]",
      "text/plain": [
       "<Figure size 640x480 with 1 Axes>"
      ]
     },
     "metadata": {},
     "output_type": "display_data"
    }
   ],
   "source": [
    "# part 5\n",
    "# Define the number of training epochs\n",
    "\n",
    "\n",
    "import time\n",
    "t1=time.time()\n",
    "# Training loop\n",
    "fig, ax1 = plt.subplots()\n",
    "# running_loss_data=[]\n",
    "converged=False\n",
    "avg_loss_data=[]\n",
    "LR_data=[]\n",
    "epoch_data=[]\n",
    "# plt.ion()\n",
    "# epoch_data=np.arange(1, num_epochs+1)\n",
    "# num_epochs=10\n",
    "plt.title(f'LR = {learning_rate} ,  LRfac {reduceLR_factor},  pat {reduceLR_patience}')\n",
    "# plt.xlim(0, num_epochs+1)\n",
    "\n",
    "plt.legend()\n",
    "try:\n",
    "    \n",
    "    for epoch in range(num_epochs):\n",
    "        # Set the model in training mode\n",
    "        model.train()\n",
    "        \n",
    "        running_loss = 0.0\n",
    "        \n",
    "        # Iterate over the training dataset\n",
    "        for inputs, labels in train_loader:  # Replace train_loader with your data loader\n",
    "            # Zero the gradients\n",
    "            optimizer.zero_grad()\n",
    "            \n",
    "            # Forward pass\n",
    "            outputs = model(inputs)\n",
    "            \n",
    "            # Compute the loss\n",
    "            loss = criterion(outputs, labels)\n",
    "            \n",
    "            # Backpropagation\n",
    "            loss.backward()\n",
    "            \n",
    "            # Update the model's parameters\n",
    "            optimizer.step()\n",
    "            \n",
    "            # Track the running loss\n",
    "            running_loss += loss.item()\n",
    "        \n",
    "        # Calculate and print the average loss for this epoch\n",
    "        average_loss = running_loss / len(train_loader)\n",
    "\n",
    "\n",
    "\n",
    "        current_lr = optimizer.param_groups[0]['lr']\n",
    "        \n",
    "        # running_loss_data.append(running_loss)\n",
    "        avg_loss_data.append(average_loss)\n",
    "        epoch_data.append(epoch+1)\n",
    "        LR_data.append(current_lr)\n",
    "\n",
    "        # ax1.clear()\n",
    "    \n",
    "        # Plot the data for this epoch\n",
    "        # ax1.plot(epoch_data, avg_loss_data, label='Average Loss', color='blue')\n",
    "        # ax1.set_xlabel('Epoch')\n",
    "        # ax1.set_ylabel('Average Loss', color='blue')\n",
    "        \n",
    "        # ax2 = ax1.twinx()\n",
    "        # ax2.plot(epoch_data, LR_data, label='Learning Rate', color='red')\n",
    "        # ax2.set_ylabel('Learning Rate', color='red')\n",
    "        \n",
    "        # # Display the updated plot for this epoch\n",
    "        # plt.draw()\n",
    "        # plt.pause(0.01)  # Adjust the pause duration as needed\n",
    "        \n",
    "        \n",
    "\n",
    "        # Update the learning rate scheduler with the training loss\n",
    "        scheduler.step(average_loss)\n",
    "        \n",
    "        # ax1.xticks(epoch_data,epoch_data)\n",
    "        # i=epoch\n",
    "        # ax1.text(epoch_data[i], avg_loss_data[i]-0.2, f'{round(avg_loss_data[i],2)}', ha='center', va='top')\n",
    "\n",
    "        # ax1.clear()\n",
    "    \n",
    "        # # Plot the data for this epoch\n",
    "        # ax1.plot(epoch_data, avg_loss_data, label='Average Loss', color='blue')\n",
    "        # ax1.set_xlabel('Epoch')\n",
    "        # ax1.set_ylabel('Average Loss', color='blue')\n",
    "        \n",
    "        # ax2 = ax1.twinx()\n",
    "        # ax2.plot(epoch_data, LR_data, label='Learning Rate', color='red')\n",
    "        # ax2.set_ylabel('Learning Rate', color='red')\n",
    "        \n",
    "        # # Display the updated plot for this epoch\n",
    "        # plt.draw()\n",
    "        # plt.pause(0.01)\n",
    "\n",
    "        # plt.clear()\n",
    "        # plt.xticks(epoch_data,epoch_data)\n",
    "        # plt.title(f'LR = {learning_rate} ,  LRfac {reduceLR_factor},  pat {reduceLR_patience}')\n",
    "        # plt.plot(epoch_data,avg_loss_data, marker='o', linestyle='-', markersize=8, label='Loss', color='red')\n",
    "        # plt.plot(epoch_data,LR_data,  marker='s', linestyle='--', markersize=8, label='Learning rate', color='blue')\n",
    "        # plt.xticks(epoch_data,epoch_data)\n",
    "        # # i=epoch\n",
    "\n",
    "        # for i in range(0,epoch+1):\n",
    "        #     plt.text(epoch_data[i], avg_loss_data[i]-0.2, f'{round(avg_loss_data[i],5)}', ha='center', va='top')\n",
    "            \n",
    "        #     plt.text(epoch_data[i], LR_data[i]+0.2, f'{LR_data[i]}', ha='center', va='bottom')\n",
    "        # plt.show()\n",
    "        # plt.draw()\n",
    "        # plt.pause(0.001)\n",
    "        \n",
    "        print(f\"Epoch [{epoch+1}/{num_epochs}] - Loss: {average_loss:.4f}, Learning Rate: {current_lr:.6f}\")\n",
    "        if current_lr==0:\n",
    "            converged=True\n",
    "            print(\"training stopping\")\n",
    "            num_epochs=epoch+1\n",
    "            raise KeyboardInterrupt\n",
    "\n",
    "        \n",
    "        # print(f\"Epoch [{epoch+1}/{num_epochs}] - Loss: {average_loss:.4f}\")\n",
    "        \n",
    "except KeyboardInterrupt:\n",
    "    print(\"\\n ---------training interrupted----------- \\n\")\n",
    "\n",
    "\n",
    "# plt.ioff()\n",
    "# plt.show()\n",
    "\n",
    "\n",
    "print(\"Training complete\")\n",
    "t2=time.time()\n",
    "training_time=t2-t1\n",
    "print('time taken to train : ',training_time)\n",
    "print('time per epoch : ',round(training_time/num_epochs,2))\n",
    "\n",
    "# pltfolder=f\"{learning_rate}|{num_epochs}|{reduceLR_factor}|{reduceLR_patience}\"\n",
    "\n",
    "# Add labels for each data point (y-values)\n",
    "for i in range(num_epochs):\n",
    "    plt.text(epoch_data[i], avg_loss_data[i]-0.2, f'{round(avg_loss_data[i],2)}', ha='center', va='top')\n",
    "    plt.text(epoch_data[i], LR_data[i]+0.2, f'{LR_data[i]}', ha='center', va='bottom')\n",
    "epoch_data=np.arange(1, num_epochs+1)\n",
    "plt.plot(epoch_data,avg_loss_data, marker='o', linestyle='-', markersize=8, label='Loss', color='red')\n",
    "plt.plot(epoch_data,LR_data,  marker='s', linestyle='--', markersize=8, label='Learning rate', color='blue')\n",
    "# plt.title(tunefilename)\n",
    "plt.title(f'LR = {learning_rate} ,  LRfac {reduceLR_factor},  pat {reduceLR_patience}')\n",
    "plt.xlim(0, num_epochs+1)\n",
    "plt.xticks(epoch_data,epoch_data)\n",
    "\n",
    "plt.legend()\n",
    "plt.savefig('')\n",
    "# plt.savefig()\n",
    "# plt.savefig('pat{reduceLR_patience}, LRfac{reduceLR_factor},LR{learning_rate}')\n",
    "# # print(plotfile)\n",
    "# plt.xticks(epoch_data,epoch_data)\n",
    "# plt.title(f'LR = {learning_rate} ,  LRfac {reduceLR_factor},  pat {reduceLR_patience}')\n",
    "# plt.plot(epoch_data,avg_loss_data, marker='o', linestyle='-', markersize=8, label='Loss', color='red')\n",
    "# plt.plot(epoch_data,LR_data,  marker='s', linestyle='--', markersize=8, label='Learning rate', color='blue')\n",
    "# plt.xticks(epoch_data,epoch_data)\n",
    "# # i=epoch\n",
    "\n",
    "# for i in range(0,num_epochs):\n",
    "#     plt.text(epoch_data[i], avg_loss_data[i]-0.2, f'{round(avg_loss_data[i],5)}', ha='center', va='top')\n",
    "    \n",
    "#     plt.text(epoch_data[i], LR_data[i]+0.2, f'{LR_data[i]}', ha='center', va='bottom')\n",
    "# plt.show()\n",
    "\n",
    "\n",
    "\n",
    "# Save the model checkpoint to the specified directory\n",
    "# model_path = os.path.join(save_dir, 'model_checkpoint.pth')\n",
    "\n",
    "# tk\n",
    "# torch.save(model.state_dict(), model_path)\n"
   ]
  },
  {
   "cell_type": "code",
   "execution_count": 12,
   "id": "0f86a526",
   "metadata": {
    "execution": {
     "iopub.execute_input": "2023-09-08T23:59:00.932387Z",
     "iopub.status.busy": "2023-09-08T23:59:00.932387Z",
     "iopub.status.idle": "2023-09-08T23:59:00.942547Z",
     "shell.execute_reply": "2023-09-08T23:59:00.942547Z"
    },
    "papermill": {
     "duration": 0.018685,
     "end_time": "2023-09-08T23:59:00.942547",
     "exception": false,
     "start_time": "2023-09-08T23:59:00.923862",
     "status": "completed"
    },
    "tags": []
   },
   "outputs": [
    {
     "name": "stdout",
     "output_type": "stream",
     "text": [
      "Model structure after training:  Sequential(\n",
      "  (0): Flatten(start_dim=1, end_dim=-1)\n",
      "  (1): Linear(in_features=784, out_features=10, bias=True)\n",
      "  (2): BatchNorm1d(10, eps=1e-05, momentum=0.1, affine=True, track_running_stats=True)\n",
      "  (3): Softmax(dim=1)\n",
      ") \n",
      "\n",
      "\n",
      "jere\n",
      "Layer: 1.weight | Size: torch.Size([10, 784]) | Values : tensor([[-0.0246,  0.0271, -0.0331,  ..., -0.0177, -0.0084, -0.0138],\n",
      "        [ 0.0252,  0.0249,  0.0291,  ..., -0.0026, -0.0147, -0.0113]],\n",
      "       grad_fn=<SliceBackward0>) \n",
      "\n",
      "Layer: 1.bias | Size: torch.Size([10]) | Values : tensor([-0.0257,  0.0260], grad_fn=<SliceBackward0>) \n",
      "\n",
      "Layer: 2.weight | Size: torch.Size([10]) | Values : tensor([ 1.7815, -1.6172], grad_fn=<SliceBackward0>) \n",
      "\n",
      "Layer: 2.bias | Size: torch.Size([10]) | Values : tensor([ 0.2565, -0.1054], grad_fn=<SliceBackward0>) \n",
      "\n"
     ]
    }
   ],
   "source": [
    "print(\"Model structure after training: \", model, \"\\n\\n\")\n",
    "print(\"jere\")\n",
    "\n",
    "for name, param in model.named_parameters():\n",
    "    print(f\"Layer: {name} | Size: {param.size()} | Values : {param[:2]} \\n\")"
   ]
  },
  {
   "cell_type": "code",
   "execution_count": 13,
   "id": "22ad97a1",
   "metadata": {
    "execution": {
     "iopub.execute_input": "2023-09-08T23:59:00.958660Z",
     "iopub.status.busy": "2023-09-08T23:59:00.958660Z",
     "iopub.status.idle": "2023-09-08T23:59:03.118702Z",
     "shell.execute_reply": "2023-09-08T23:59:03.118107Z"
    },
    "papermill": {
     "duration": 2.168039,
     "end_time": "2023-09-08T23:59:03.118702",
     "exception": false,
     "start_time": "2023-09-08T23:59:00.950663",
     "status": "completed"
    },
    "tags": []
   },
   "outputs": [
    {
     "name": "stdout",
     "output_type": "stream",
     "text": [
      "Accuracy on this batch 53.12%\n",
      "Accuracy till now:  testing dataset: 53.12%\n",
      "Accuracy on this batch 54.69%\n",
      "Accuracy till now:  testing dataset: 53.91%\n",
      "Accuracy on this batch 54.69%\n",
      "Accuracy till now:  testing dataset: 54.17%\n",
      "Accuracy on this batch 50.00%\n",
      "Accuracy till now:  testing dataset: 53.12%\n"
     ]
    },
    {
     "name": "stdout",
     "output_type": "stream",
     "text": [
      "Accuracy on this batch 40.62%\n",
      "Accuracy till now:  testing dataset: 50.62%\n",
      "Accuracy on this batch 51.56%\n",
      "Accuracy till now:  testing dataset: 50.78%\n",
      "Accuracy on this batch 57.03%\n",
      "Accuracy till now:  testing dataset: 51.67%\n"
     ]
    },
    {
     "name": "stdout",
     "output_type": "stream",
     "text": [
      "Accuracy on this batch 46.88%\n",
      "Accuracy till now:  testing dataset: 51.07%\n",
      "Accuracy on this batch 50.00%\n",
      "Accuracy till now:  testing dataset: 50.95%\n",
      "Accuracy on this batch 52.34%\n",
      "Accuracy till now:  testing dataset: 51.09%\n",
      "Accuracy on this batch 60.16%\n",
      "Accuracy till now:  testing dataset: 51.92%\n",
      "Accuracy on this batch 54.69%\n",
      "Accuracy till now:  testing dataset: 52.15%\n",
      "Accuracy on this batch 51.56%\n",
      "Accuracy till now:  testing dataset: 52.10%\n",
      "Accuracy on this batch 47.66%\n",
      "Accuracy till now:  testing dataset: 51.79%\n"
     ]
    },
    {
     "name": "stdout",
     "output_type": "stream",
     "text": [
      "Accuracy on this batch 59.38%\n",
      "Accuracy till now:  testing dataset: 52.29%\n",
      "Accuracy on this batch 46.88%\n",
      "Accuracy till now:  testing dataset: 51.95%\n"
     ]
    },
    {
     "name": "stdout",
     "output_type": "stream",
     "text": [
      "Accuracy on this batch 46.88%\n",
      "Accuracy till now:  testing dataset: 51.65%\n",
      "Accuracy on this batch 53.12%\n",
      "Accuracy till now:  testing dataset: 51.74%\n",
      "Accuracy on this batch 57.03%\n",
      "Accuracy till now:  testing dataset: 52.01%\n",
      "Accuracy on this batch 48.44%\n",
      "Accuracy till now:  testing dataset: 51.84%\n",
      "Accuracy on this batch 58.59%\n",
      "Accuracy till now:  testing dataset: 52.16%\n",
      "Accuracy on this batch 60.16%\n",
      "Accuracy till now:  testing dataset: 52.52%\n"
     ]
    },
    {
     "name": "stdout",
     "output_type": "stream",
     "text": [
      "Accuracy on this batch 43.75%\n",
      "Accuracy till now:  testing dataset: 52.14%\n",
      "Accuracy on this batch 50.78%\n",
      "Accuracy till now:  testing dataset: 52.08%\n",
      "Accuracy on this batch 50.78%\n",
      "Accuracy till now:  testing dataset: 52.03%\n",
      "Accuracy on this batch 50.78%\n",
      "Accuracy till now:  testing dataset: 51.98%\n"
     ]
    },
    {
     "name": "stdout",
     "output_type": "stream",
     "text": [
      "Accuracy on this batch 52.34%\n",
      "Accuracy till now:  testing dataset: 52.00%\n",
      "Accuracy on this batch 56.25%\n",
      "Accuracy till now:  testing dataset: 52.15%\n",
      "Accuracy on this batch 52.34%\n",
      "Accuracy till now:  testing dataset: 52.16%\n",
      "Accuracy on this batch 47.66%\n",
      "Accuracy till now:  testing dataset: 52.01%\n"
     ]
    },
    {
     "name": "stdout",
     "output_type": "stream",
     "text": [
      "Accuracy on this batch 57.03%\n",
      "Accuracy till now:  testing dataset: 52.17%\n",
      "Accuracy on this batch 51.56%\n",
      "Accuracy till now:  testing dataset: 52.15%\n",
      "Accuracy on this batch 48.44%\n",
      "Accuracy till now:  testing dataset: 52.04%\n",
      "Accuracy on this batch 50.00%\n",
      "Accuracy till now:  testing dataset: 51.98%\n",
      "Accuracy on this batch 56.25%\n",
      "Accuracy till now:  testing dataset: 52.10%\n"
     ]
    },
    {
     "name": "stdout",
     "output_type": "stream",
     "text": [
      "Accuracy on this batch 61.72%\n",
      "Accuracy till now:  testing dataset: 52.37%\n",
      "Accuracy on this batch 50.00%\n",
      "Accuracy till now:  testing dataset: 52.30%\n",
      "Accuracy on this batch 48.44%\n",
      "Accuracy till now:  testing dataset: 52.20%\n",
      "Accuracy on this batch 54.69%\n",
      "Accuracy till now:  testing dataset: 52.26%\n",
      "Accuracy on this batch 45.31%\n",
      "Accuracy till now:  testing dataset: 52.09%\n",
      "Accuracy on this batch 56.25%\n",
      "Accuracy till now:  testing dataset: 52.19%\n"
     ]
    },
    {
     "name": "stdout",
     "output_type": "stream",
     "text": [
      "Accuracy on this batch 57.03%\n",
      "Accuracy till now:  testing dataset: 52.31%\n",
      "Accuracy on this batch 49.22%\n",
      "Accuracy till now:  testing dataset: 52.23%\n"
     ]
    },
    {
     "name": "stdout",
     "output_type": "stream",
     "text": [
      "Accuracy on this batch 45.31%\n",
      "Accuracy till now:  testing dataset: 52.08%\n",
      "Accuracy on this batch 50.78%\n",
      "Accuracy till now:  testing dataset: 52.05%\n",
      "Accuracy on this batch 50.78%\n",
      "Accuracy till now:  testing dataset: 52.02%\n",
      "Accuracy on this batch 46.09%\n",
      "Accuracy till now:  testing dataset: 51.89%\n",
      "Accuracy on this batch 47.66%\n",
      "Accuracy till now:  testing dataset: 51.81%\n",
      "Accuracy on this batch 49.22%\n",
      "Accuracy till now:  testing dataset: 51.75%\n"
     ]
    },
    {
     "name": "stdout",
     "output_type": "stream",
     "text": [
      "Accuracy on this batch 42.19%\n",
      "Accuracy till now:  testing dataset: 51.56%\n",
      "Accuracy on this batch 57.81%\n",
      "Accuracy till now:  testing dataset: 51.69%\n",
      "Accuracy on this batch 46.88%\n",
      "Accuracy till now:  testing dataset: 51.59%\n",
      "Accuracy on this batch 49.22%\n",
      "Accuracy till now:  testing dataset: 51.55%\n",
      "Accuracy on this batch 44.53%\n",
      "Accuracy till now:  testing dataset: 51.42%\n"
     ]
    },
    {
     "name": "stdout",
     "output_type": "stream",
     "text": [
      "Accuracy on this batch 50.00%\n",
      "Accuracy till now:  testing dataset: 51.39%\n",
      "Accuracy on this batch 48.44%\n",
      "Accuracy till now:  testing dataset: 51.34%\n",
      "Accuracy on this batch 52.34%\n",
      "Accuracy till now:  testing dataset: 51.36%\n"
     ]
    },
    {
     "name": "stdout",
     "output_type": "stream",
     "text": [
      "Accuracy on this batch 50.78%\n",
      "Accuracy till now:  testing dataset: 51.35%\n",
      "Accuracy on this batch 47.66%\n",
      "Accuracy till now:  testing dataset: 51.28%\n",
      "Accuracy on this batch 50.78%\n",
      "Accuracy till now:  testing dataset: 51.28%\n",
      "Accuracy on this batch 56.25%\n",
      "Accuracy till now:  testing dataset: 51.36%\n",
      "Accuracy on this batch 55.47%\n",
      "Accuracy till now:  testing dataset: 51.42%\n"
     ]
    },
    {
     "name": "stdout",
     "output_type": "stream",
     "text": [
      "Accuracy on this batch 50.00%\n",
      "Accuracy till now:  testing dataset: 51.40%\n",
      "Accuracy on this batch 55.47%\n",
      "Accuracy till now:  testing dataset: 51.46%\n"
     ]
    },
    {
     "name": "stdout",
     "output_type": "stream",
     "text": [
      "Accuracy on this batch 49.22%\n",
      "Accuracy till now:  testing dataset: 51.43%\n",
      "Accuracy on this batch 62.50%\n",
      "Accuracy till now:  testing dataset: 51.60%\n",
      "Accuracy on this batch 59.38%\n",
      "Accuracy till now:  testing dataset: 51.71%\n",
      "Accuracy on this batch 53.91%\n",
      "Accuracy till now:  testing dataset: 51.75%\n",
      "Accuracy on this batch 57.81%\n",
      "Accuracy till now:  testing dataset: 51.83%\n",
      "Accuracy on this batch 53.91%\n",
      "Accuracy till now:  testing dataset: 51.86%\n"
     ]
    },
    {
     "name": "stdout",
     "output_type": "stream",
     "text": [
      "Accuracy on this batch 53.12%\n",
      "Accuracy till now:  testing dataset: 51.88%\n",
      "Accuracy on this batch 44.53%\n",
      "Accuracy till now:  testing dataset: 51.78%\n",
      "Accuracy on this batch 48.44%\n",
      "Accuracy till now:  testing dataset: 51.73%\n"
     ]
    },
    {
     "name": "stdout",
     "output_type": "stream",
     "text": [
      "Accuracy on this batch 55.47%\n",
      "Accuracy till now:  testing dataset: 51.78%\n",
      "Accuracy on this batch 53.91%\n",
      "Accuracy till now:  testing dataset: 51.81%\n",
      "Accuracy on this batch 51.56%\n",
      "Accuracy till now:  testing dataset: 51.81%\n"
     ]
    },
    {
     "name": "stdout",
     "output_type": "stream",
     "text": [
      "Accuracy on this batch 61.72%\n",
      "Accuracy till now:  testing dataset: 51.94%\n",
      "Accuracy on this batch 54.69%\n",
      "Accuracy till now:  testing dataset: 51.97%\n"
     ]
    },
    {
     "name": "stdout",
     "output_type": "stream",
     "text": [
      "Accuracy on this batch 62.50%\n",
      "Accuracy till now:  testing dataset: 51.99%\n",
      "\n",
      "number of tests: 79\n",
      "Accuracy on the testing dataset: 51.99%\n",
      "time taken to train :  127.94024348258972\n",
      "51.99\n",
      "jeref\n",
      "data saved\n"
     ]
    }
   ],
   "source": [
    "# part 6 :\n",
    "# testing \n",
    "\n",
    "# Set the model to evaluation mode\n",
    "model.eval()\n",
    "\n",
    "correct_predictions = 0\n",
    "total_predictions = 0\n",
    "\n",
    "# Iterate over the testing dataset\n",
    "\n",
    "k=0\n",
    "for inputs, labels in test_loader:  # Use your test data loader\n",
    "    k+=1\n",
    "    # Forward pass to obtain predictions\n",
    "    outputs = model(inputs)\n",
    "    \n",
    "    # Get the predicted class for each example in the batch\n",
    "    _, predicted = torch.max(outputs, dim=1)\n",
    "    \n",
    "    # Count correct predictions in this batch\n",
    "    batch_correct_predictions = (predicted == labels).sum().item()\n",
    "    correct_predictions += batch_correct_predictions\n",
    "    \n",
    "    # Count total predictions in this batch\n",
    "\n",
    "    batch_total_predictions = labels.size(0)\n",
    "    total_predictions += batch_total_predictions \n",
    "\n",
    "    # Print the running accuracy for this batch\n",
    "    # Update running accuracy\n",
    "    batch_accuracy=batch_correct_predictions/batch_total_predictions * 100.0\n",
    "    print(f\"Accuracy on this batch {batch_accuracy:.2f}%\")\n",
    "\n",
    "    accuracy = (correct_predictions / total_predictions) * 100.0\n",
    "    print(f\"Accuracy till now:  testing dataset: {accuracy:.2f}%\")\n",
    "\n",
    "print()\n",
    "print(\"number of tests:\",k)\n",
    "\n",
    "# Calculate the accuracy\n",
    "accuracy = (correct_predictions / total_predictions) * 100.0\n",
    "print(f\"Accuracy on the testing dataset: {accuracy:.2f}%\")\n",
    "print('time taken to train : ',training_time)\n",
    "\n",
    "\n",
    "# saving accuracy\n",
    "\n",
    "\n",
    "  \n",
    "\n",
    "# tk\n",
    "# log_dir=\"../../log/\"\n",
    "# tunefilename=f'Accuracy {accuracy} ,pat{reduceLR_patience}, LRfac{reduceLR_factor},LR{learning_rate}'\n",
    "# plot_dir=log_dir\n",
    "# os.makedirs(plot_dir, exist_ok=True)\n",
    "# logfilename=tunefilename+'.log'\n",
    "# plotfilename=tunefilename+'.png'\n",
    "# plotfilename=f'pat{reduceLR_patience}, LRfac{reduceLR_factor},LR{learning_rate}.png'\n",
    "# plotfile=os.path.join(log_dir, plotfilename)\n",
    "# logfile=os.path.join(log_dir, logfilename)\n",
    "\n",
    "\n",
    "# tunefilename=f'patience={reduceLR_patience}_LR_factor={reduceLR_factor}'\n",
    "\n",
    "import logging\n",
    "\n",
    "# print(logfile)\n",
    "print(accuracy)\n",
    "# logging.basicConfig(filename=f'{accuracy}.log', level=logging.INFO, format='%(message)s')\n",
    "# logging.info(f\"initial learning rate : {learning_rate:.2f} | Accuracy: {accuracy:.2f}% | {num_epochs} epochs | converged : {converged}\\n\")\n",
    "# logging.info(\"ererer\")\n",
    "loginfo(accuracy)\n",
    "logging.shutdown()\n",
    "\n",
    "\n",
    "\n",
    "# plt.show()\n",
    "# loginfo(converged,accuracy)\n",
    "print(\"data saved\")\n",
    "\n"
   ]
  },
  {
   "cell_type": "code",
   "execution_count": 14,
   "id": "71df70ac",
   "metadata": {
    "execution": {
     "iopub.execute_input": "2023-09-08T23:59:03.142351Z",
     "iopub.status.busy": "2023-09-08T23:59:03.142351Z",
     "iopub.status.idle": "2023-09-08T23:59:03.150150Z",
     "shell.execute_reply": "2023-09-08T23:59:03.149583Z"
    },
    "papermill": {
     "duration": 0.024335,
     "end_time": "2023-09-08T23:59:03.150150",
     "exception": false,
     "start_time": "2023-09-08T23:59:03.125815",
     "status": "completed"
    },
    "tags": []
   },
   "outputs": [],
   "source": [
    "# loginfo(accuracy)\n",
    "# logging.shutdown()\n",
    "# logging.basicConfig(filename='new1'+'.log', level=logging.INFO, format='%(message)s')\n",
    "# logging\n",
    "\n",
    "# logging.info(\"hi\")\n",
    "# logging.info(f\"tuning : {tuning_type}\")\n",
    "# logging.info(  f\"Accuracy: {accuracy:.2f}% | epochs: {num_epochs} | initial learning rate: {learning_rate:.2f} | LR factor: {reduceLR_factor} | Patience: {reduceLR_patience} | weight decay rate: {weight_decay_rate} | Batchsize: {batchSize} | optimizer: {optimizer_name} | training time: {round(training_time,1)} sec\\n\")"
   ]
  }
 ],
 "metadata": {
  "kernelspec": {
   "display_name": "Python 3",
   "language": "python",
   "name": "python3"
  },
  "language_info": {
   "codemirror_mode": {
    "name": "ipython",
    "version": 3
   },
   "file_extension": ".py",
   "mimetype": "text/x-python",
   "name": "python",
   "nbconvert_exporter": "python",
   "pygments_lexer": "ipython3",
   "version": "3.11.2"
  },
  "papermill": {
   "default_parameters": {},
   "duration": 139.894491,
   "end_time": "2023-09-08T23:59:04.492793",
   "environment_variables": {},
   "exception": null,
   "input_path": "c:\\Users\\pande\\OneDrive\\Desktop\\code\\ML\\ELL409-Machine-Learning-Coursework\\assignment-01\\code\\q1linear-classification\\a5.ipynb",
   "output_path": "c:\\Users\\pande\\OneDrive\\Desktop\\code\\ML\\ELL409-Machine-Learning-Coursework\\assignment-01\\code\\q1linear-classification\\a5out.ipynb",
   "parameters": {
    "optimizer_name": "RMSprop",
    "tuning_type": "optimizer_name"
   },
   "start_time": "2023-09-08T23:56:44.598302",
   "version": "2.4.0"
  }
 },
 "nbformat": 4,
 "nbformat_minor": 5
}