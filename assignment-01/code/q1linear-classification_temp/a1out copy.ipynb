{
 "cells": [
  {
   "cell_type": "code",
   "execution_count": 1,
   "id": "11ed3c9c",
   "metadata": {
    "execution": {
     "iopub.execute_input": "2023-09-07T09:56:35.020308Z",
     "iopub.status.busy": "2023-09-07T09:56:35.020308Z",
     "iopub.status.idle": "2023-09-07T09:56:36.713332Z",
     "shell.execute_reply": "2023-09-07T09:56:36.712321Z"
    },
    "papermill": {
     "duration": 1.701581,
     "end_time": "2023-09-07T09:56:36.715337",
     "exception": false,
     "start_time": "2023-09-07T09:56:35.013756",
     "status": "completed"
    },
    "tags": []
   },
   "outputs": [],
   "source": [
    "import torch.nn as nn"
   ]
  },
  {
   "cell_type": "code",
   "execution_count": 2,
   "id": "ab12aafe",
   "metadata": {
    "execution": {
     "iopub.execute_input": "2023-09-07T09:56:36.722791Z",
     "iopub.status.busy": "2023-09-07T09:56:36.722791Z",
     "iopub.status.idle": "2023-09-07T09:56:36.726496Z",
     "shell.execute_reply": "2023-09-07T09:56:36.725483Z"
    },
    "papermill": {
     "duration": 0.010161,
     "end_time": "2023-09-07T09:56:36.728547",
     "exception": false,
     "start_time": "2023-09-07T09:56:36.718386",
     "status": "completed"
    },
    "tags": [
     "parameters"
    ]
   },
   "outputs": [],
   "source": [
    "learning_rate=0.01\n",
    "reduceLR_factor=0.5\n",
    "reduceLR_patience=5"
   ]
  },
  {
   "cell_type": "code",
   "execution_count": 3,
   "id": "c965bf45",
   "metadata": {
    "execution": {
     "iopub.execute_input": "2023-09-07T09:56:36.733545Z",
     "iopub.status.busy": "2023-09-07T09:56:36.733545Z",
     "iopub.status.idle": "2023-09-07T09:56:36.736209Z",
     "shell.execute_reply": "2023-09-07T09:56:36.736209Z"
    },
    "papermill": {
     "duration": 0.00872,
     "end_time": "2023-09-07T09:56:36.739219",
     "exception": false,
     "start_time": "2023-09-07T09:56:36.730499",
     "status": "completed"
    },
    "tags": [
     "injected-parameters"
    ]
   },
   "outputs": [],
   "source": [
    "# Parameters\n",
    "learning_rate = 0.01\n",
    "reduceLR_factor = 0.4\n",
    "reduceLR_patience = 5\n",
    "parent_dir = \"c:\\\\Users\\\\pande\\\\OneDrive\\\\Desktop\\\\code\\\\ML\\\\ELL409-Machine-Learning-Coursework\\\\assignment-01\\\\code\\\\q1linear-classification\"\n"
   ]
  },
  {
   "cell_type": "code",
   "execution_count": 4,
   "id": "252a2f62",
   "metadata": {
    "execution": {
     "iopub.execute_input": "2023-09-07T09:56:36.745270Z",
     "iopub.status.busy": "2023-09-07T09:56:36.745270Z",
     "iopub.status.idle": "2023-09-07T09:56:36.749107Z",
     "shell.execute_reply": "2023-09-07T09:56:36.749107Z"
    },
    "papermill": {
     "duration": 0.007904,
     "end_time": "2023-09-07T09:56:36.750169",
     "exception": false,
     "start_time": "2023-09-07T09:56:36.742265",
     "status": "completed"
    },
    "tags": []
   },
   "outputs": [],
   "source": [
    "# editable parameters\n",
    "quesname='q1/'\n",
    "\n",
    "batchSize=64\n",
    "savename='q1/'\n",
    "\n",
    "# learning_rate=0.01\n",
    "# reduceLR_factor=0.5\n",
    "# reduceLR_patience=5\n",
    "\n",
    "# logfilename=f\n",
    "tunefilename=f'patience={reduceLR_patience}_LR_factor={reduceLR_factor}'\n",
    "logfilename=tunefilename+'.log'\n",
    "plotfilename=tunefilename+'.png'\n",
    "num_epochs = 2\n",
    "\n",
    "criterion = nn.CrossEntropyLoss()\n",
    "\n",
    "\n",
    "def loginfo(converged=False,testnum=1):     \n",
    "   \n",
    "    # logging.info(f\"\\nTest {testnum}\")\n",
    "    logging.info(f\"initial learning rate : {learning_rate:.2f} \")\n",
    "    logging.info(f\"Accuracy: {accuracy:.2f}%\")\n",
    "    # logging.info(f\"Training Time: {training_time:.2f} seconds\")\n",
    "    logging.info(f\"Number of epochs to converge: {num_epochs:.2f} \")\n",
    "    \n",
    "    # logging.info(f\"reduceLR_factor: {reduceLR_factor:.2f} \")\n",
    "    # logging.info(f\"reduceLR_patience : {reduceLR_patience:.2f} \")\n",
    "\n",
    "    # logging.info(f\"Test Session Finished \\n\")\n",
    "  "
   ]
  },
  {
   "cell_type": "code",
   "execution_count": 5,
   "id": "ced74abf",
   "metadata": {
    "execution": {
     "iopub.execute_input": "2023-09-07T09:56:36.757124Z",
     "iopub.status.busy": "2023-09-07T09:56:36.757124Z",
     "iopub.status.idle": "2023-09-07T09:56:37.219459Z",
     "shell.execute_reply": "2023-09-07T09:56:37.219459Z"
    },
    "papermill": {
     "duration": 0.467339,
     "end_time": "2023-09-07T09:56:37.219459",
     "exception": false,
     "start_time": "2023-09-07T09:56:36.752120",
     "status": "completed"
    },
    "tags": []
   },
   "outputs": [],
   "source": [
    "# Initialisation\n",
    "import numpy as np\n",
    "import math\n",
    "import torch as t\n",
    "import torch \n",
    "import os\n",
    "\n",
    "\n",
    "# import torch\n",
    "from torch.utils.data import Dataset\n",
    "from torch.utils.data import DataLoader\n",
    "from torchvision import datasets\n",
    "from torchvision.transforms import ToTensor, Lambda\n",
    "\n",
    "import matplotlib.pyplot as plt\n",
    "%matplotlib inline\n",
    "import logging\n",
    "\n",
    "log_dir = '../../log'\n",
    "os.makedirs(log_dir, exist_ok=True)\n",
    "\n",
    "log_dir=os.path.join(log_dir, quesname)\n",
    "os.makedirs(log_dir, exist_ok=True)\n",
    "\n",
    "plot_dir=log_dir\n",
    "os.makedirs(plot_dir, exist_ok=True)\n",
    "\n",
    "logfile=os.path.join(log_dir, logfilename)\n",
    "plotfile=os.path.join(log_dir, plotfilename)\n",
    "\n",
    "logging.basicConfig(filename=logfile, level=logging.INFO, format='%(message)s')\n",
    "# logging.basicConfig(filename=logfile, level=logging.INFO, format='%(asctime)s - %(levelname)s - %(message)s')\n",
    "\n"
   ]
  },
  {
   "cell_type": "markdown",
   "id": "9c914208",
   "metadata": {
    "papermill": {
     "duration": 0.002005,
     "end_time": "2023-09-07T09:29:11.920285",
     "exception": false,
     "start_time": "2023-09-07T09:29:11.918280",
     "status": "completed"
    },
    "tags": []
   },
   "source": []
  },
  {
   "cell_type": "code",
   "execution_count": 6,
   "id": "f1f73c15",
   "metadata": {
    "execution": {
     "iopub.execute_input": "2023-09-07T09:56:37.219459Z",
     "iopub.status.busy": "2023-09-07T09:56:37.219459Z",
     "iopub.status.idle": "2023-09-07T09:56:37.279480Z",
     "shell.execute_reply": "2023-09-07T09:56:37.279480Z"
    },
    "papermill": {
     "duration": 0.063036,
     "end_time": "2023-09-07T09:56:37.282495",
     "exception": false,
     "start_time": "2023-09-07T09:56:37.219459",
     "status": "completed"
    },
    "tags": []
   },
   "outputs": [],
   "source": [
    "\n",
    "# part 1 and 2:\n",
    "# dataset loading:\n",
    "training_data = datasets.FashionMNIST(\n",
    "    root=\"../../data/\",\n",
    "    train=True,\n",
    "    download=True,\n",
    "    transform=ToTensor() # Normalisation step\n",
    "    \n",
    ")\n",
    "\n",
    "# note that ToTensor not just converts the image into a tensor but also normalises its intensity in range 0 to 1\n",
    "\n",
    "\n",
    "test_data = datasets.FashionMNIST(\n",
    "    root=\"../../data/\",\n",
    "    train=False,\n",
    "    download=True,\n",
    "    transform=ToTensor() # Normalisation step\n",
    ")\n",
    "\n",
    "# Create data loaders for training and testing\n",
    "\n",
    "\n",
    "train_loader = DataLoader(training_data, batch_size=batchSize, shuffle=True)\n",
    "test_loader = DataLoader(test_data, batch_size=batchSize, shuffle=False)"
   ]
  },
  {
   "cell_type": "code",
   "execution_count": 7,
   "id": "db517a0b",
   "metadata": {
    "execution": {
     "iopub.execute_input": "2023-09-07T09:56:37.289486Z",
     "iopub.status.busy": "2023-09-07T09:56:37.288481Z",
     "iopub.status.idle": "2023-09-07T09:56:37.297332Z",
     "shell.execute_reply": "2023-09-07T09:56:37.297332Z"
    },
    "papermill": {
     "duration": 0.012906,
     "end_time": "2023-09-07T09:56:37.298376",
     "exception": false,
     "start_time": "2023-09-07T09:56:37.285470",
     "status": "completed"
    },
    "tags": []
   },
   "outputs": [
    {
     "name": "stdout",
     "output_type": "stream",
     "text": [
      "Checkpoint file '../../saved_models/q1/ignore.pth' not found. Model not loaded.\n",
      "model created\n"
     ]
    }
   ],
   "source": [
    "# part 3:\n",
    "\n",
    "\n",
    "\n",
    "# builtin classifier:\n",
    "\n",
    "# Define the model\n",
    "\n",
    "# model saving\n",
    "# Define a directory to save models\n",
    "save_dir = '../../saved_models/'\n",
    "save_dir=os.path.join(save_dir, savename)\n",
    "\n",
    "os.makedirs(save_dir, exist_ok=True)\n",
    "\n",
    "model = nn.Sequential(\n",
    "\n",
    "    # we need to flatten the input data from 2d tensor into 1d tensor of 784 values (28*28) since data is in form of images\n",
    "    nn.Flatten(),  # Flatten the input data\n",
    "\n",
    "    nn.Linear(in_features=784, out_features=10),  # Linear layer   \n",
    "    # nn.Linear(in_features=784, out_features=batchSize),  # Linear layer   \n",
    "\n",
    "    nn.BatchNorm1d(10),\n",
    "    # this normalsises input tensors by scaling and shifting\n",
    "    # makes mean 0 and variance 1\n",
    "\n",
    "    # softmax function, or normalized exponential function converts a vector of K real numbers into a probability distribution of K possible outcomes\n",
    "    nn.Softmax(dim=1)  # Softmax activation\n",
    "\n",
    "    \n",
    ")\n",
    "\n",
    "# Specify the path to the saved checkpoint file\n",
    "# model_path = '../../saved_models/model_checkpoint.pth'\n",
    "\n",
    "# tk\n",
    "model_path = os.path.join(save_dir, 'ignore.pth')\n",
    "\n",
    "# model_path = os.path.join(save_dir, 'model_checkpoint.pth')\n",
    "\n",
    "# Check if the file exists before loading\n",
    "if os.path.exists(model_path):\n",
    "    # Load the model checkpoint\n",
    "    checkpoint = torch.load(model_path)\n",
    "\n",
    "    # Load the model's state_dict\n",
    "    model.load_state_dict(checkpoint)\n",
    "    print(\"Model loaded successfully.\")\n",
    "else:\n",
    "    print(f\"Checkpoint file '{model_path}' not found. Model not loaded.\")\n",
    "\n",
    "# custom made classifier\n",
    "'''\n",
    "class LinearClassifier(nn.Module):\n",
    "    def __init__(self):\n",
    "        super(LinearClassifier, self).__init__()\n",
    "\n",
    "        # Define the linear layer\n",
    "        # we used 28*28 input and 10 labels because we are working with MNIST database\n",
    "        self.fc = nn.Linear(28 * 28, 10)  # 28*28 input features, 10 output classes\n",
    "        \n",
    "        # Define an activation function (e.g., softmax for classification)\n",
    "\n",
    "        # softmax function, or normalized exponential function converts a vector of K real numbers into a probability distribution of K possible outcomes\n",
    "        self.softmax = nn.Softmax(dim=1)\n",
    "\n",
    "    #IMPORTANT the name 'forward' is not arbitrary; it's a convention in PyTorch, and this method is automatically called when we pass data through our model.\n",
    "    def forward(self, x):\n",
    "\n",
    "        # we need to flatten the input data from 2d tensor into 1d tensor of 784 values (28*28) since data is in form of images\n",
    "        x = x.view(x.size(0), -1)  # Flatten the input tensor\n",
    "\n",
    "        x = self.fc(x)  # Apply the linear transformation\n",
    "        x = self.softmax(x) # Apply the activation function\n",
    "        return x\n",
    "'''\n",
    "print('model created')"
   ]
  },
  {
   "cell_type": "code",
   "execution_count": 8,
   "id": "e347817a",
   "metadata": {
    "execution": {
     "iopub.execute_input": "2023-09-07T09:56:37.304349Z",
     "iopub.status.busy": "2023-09-07T09:56:37.303341Z",
     "iopub.status.idle": "2023-09-07T09:56:37.310644Z",
     "shell.execute_reply": "2023-09-07T09:56:37.310644Z"
    },
    "papermill": {
     "duration": 0.012225,
     "end_time": "2023-09-07T09:56:37.312650",
     "exception": false,
     "start_time": "2023-09-07T09:56:37.300425",
     "status": "completed"
    },
    "tags": []
   },
   "outputs": [
    {
     "name": "stdout",
     "output_type": "stream",
     "text": [
      "Model structure before training:  Sequential(\n",
      "  (0): Flatten(start_dim=1, end_dim=-1)\n",
      "  (1): Linear(in_features=784, out_features=10, bias=True)\n",
      "  (2): BatchNorm1d(10, eps=1e-05, momentum=0.1, affine=True, track_running_stats=True)\n",
      "  (3): Softmax(dim=1)\n",
      ") \n",
      "\n",
      "\n",
      "Layer: 1.weight | Size: torch.Size([10, 784]) | Values : tensor([[ 0.0181,  0.0109, -0.0037,  ..., -0.0079, -0.0168,  0.0289],\n",
      "        [-0.0293,  0.0205,  0.0182,  ...,  0.0047,  0.0099,  0.0316]],\n",
      "       grad_fn=<SliceBackward0>) \n",
      "\n",
      "Layer: 1.bias | Size: torch.Size([10]) | Values : tensor([0.0224, 0.0116], grad_fn=<SliceBackward0>) \n",
      "\n",
      "Layer: 2.weight | Size: torch.Size([10]) | Values : tensor([1., 1.], grad_fn=<SliceBackward0>) \n",
      "\n",
      "Layer: 2.bias | Size: torch.Size([10]) | Values : tensor([0., 0.], grad_fn=<SliceBackward0>) \n",
      "\n"
     ]
    }
   ],
   "source": [
    "print(\"Model structure before training: \", model, \"\\n\\n\")\n",
    "\n",
    "for name, param in model.named_parameters():\n",
    "    print(f\"Layer: {name} | Size: {param.size()} | Values : {param[:2]} \\n\")"
   ]
  },
  {
   "cell_type": "code",
   "execution_count": 9,
   "id": "cee59b88",
   "metadata": {
    "execution": {
     "iopub.execute_input": "2023-09-07T09:56:37.317651Z",
     "iopub.status.busy": "2023-09-07T09:56:37.317651Z",
     "iopub.status.idle": "2023-09-07T09:56:37.322613Z",
     "shell.execute_reply": "2023-09-07T09:56:37.322613Z"
    },
    "papermill": {
     "duration": 0.010103,
     "end_time": "2023-09-07T09:56:37.324754",
     "exception": false,
     "start_time": "2023-09-07T09:56:37.314651",
     "status": "completed"
    },
    "tags": []
   },
   "outputs": [
    {
     "name": "stdout",
     "output_type": "stream",
     "text": [
      "part 4 done\n"
     ]
    }
   ],
   "source": [
    "# part 4:\n",
    "\n",
    "# Define the loss function\n",
    "\n",
    "\n",
    "import torch.optim as optim\n",
    "# Define the optimizer (e.g., SGD)\n",
    "\n",
    "\n",
    "\n",
    "optimizer = optim.SGD(model.parameters(), lr=learning_rate)\n",
    "\n",
    "'''\n",
    "about SGD: Stochastic Gradient Descent:\n",
    "basically it performs seqeuntial updation of paramters after each epoch, using formula :\n",
    "parameter = parameter - learning_rate * gradient\n",
    "\n",
    "'''\n",
    "from torch.optim.lr_scheduler import ReduceLROnPlateau\n",
    "\n",
    "scheduler = ReduceLROnPlateau(optimizer, mode='min', factor=reduceLR_factor, patience=reduceLR_patience, verbose=True)\n",
    "\n",
    "'''\n",
    "here mode = min : means reduce (instead of increase) LR when error plateaus\n",
    "\n",
    "patience = how many epochs to wait before reducing LR\n",
    "'''\n",
    "\n",
    "print('part 4 done')\n",
    "\n"
   ]
  },
  {
   "cell_type": "code",
   "execution_count": 10,
   "id": "dcb621e0",
   "metadata": {
    "execution": {
     "iopub.execute_input": "2023-09-07T09:56:37.330665Z",
     "iopub.status.busy": "2023-09-07T09:56:37.330665Z",
     "iopub.status.idle": "2023-09-07T09:56:50.222366Z",
     "shell.execute_reply": "2023-09-07T09:56:50.222366Z"
    },
    "papermill": {
     "duration": 12.894746,
     "end_time": "2023-09-07T09:56:50.222366",
     "exception": false,
     "start_time": "2023-09-07T09:56:37.327620",
     "status": "completed"
    },
    "tags": []
   },
   "outputs": [
    {
     "name": "stdout",
     "output_type": "stream",
     "text": [
      "Epoch [1/2] - Loss: 1.9119, Learning Rate: 0.010000\n"
     ]
    },
    {
     "name": "stdout",
     "output_type": "stream",
     "text": [
      "Epoch [2/2] - Loss: 1.8093, Learning Rate: 0.010000\n",
      "Training complete\n",
      "time taken to train :  12.67083477973938\n",
      "time per epoch :  6.34\n"
     ]
    },
    {
     "data": {
      "image/png": "[encoded data removed]",
      "text/plain": [
       "<Figure size 640x480 with 1 Axes>"
      ]
     },
     "metadata": {},
     "output_type": "display_data"
    },
    {
     "name": "stdout",
     "output_type": "stream",
     "text": [
      "../../log\\q1/patience=5_LR_factor=0.4.png\n"
     ]
    }
   ],
   "source": [
    "# part 5\n",
    "# Define the number of training epochs\n",
    "\n",
    "\n",
    "import time\n",
    "t1=time.time()\n",
    "# Training loop\n",
    "\n",
    "# running_loss_data=[]\n",
    "converged=False\n",
    "avg_loss_data=[]\n",
    "LR_data=[]\n",
    "try:\n",
    "    \n",
    "    for epoch in range(num_epochs):\n",
    "        # Set the model in training mode\n",
    "        model.train()\n",
    "        \n",
    "        running_loss = 0.0\n",
    "        \n",
    "        # Iterate over the training dataset\n",
    "        for inputs, labels in train_loader:  # Replace train_loader with your data loader\n",
    "            # Zero the gradients\n",
    "            optimizer.zero_grad()\n",
    "            \n",
    "            # Forward pass\n",
    "            outputs = model(inputs)\n",
    "            \n",
    "            # Compute the loss\n",
    "            loss = criterion(outputs, labels)\n",
    "            \n",
    "            # Backpropagation\n",
    "            loss.backward()\n",
    "            \n",
    "            # Update the model's parameters\n",
    "            optimizer.step()\n",
    "            \n",
    "            # Track the running loss\n",
    "            running_loss += loss.item()\n",
    "        \n",
    "        # Calculate and print the average loss for this epoch\n",
    "        average_loss = running_loss / len(train_loader)\n",
    "\n",
    "\n",
    "\n",
    "        current_lr = optimizer.param_groups[0]['lr']\n",
    "        \n",
    "        # running_loss_data.append(running_loss)\n",
    "        avg_loss_data.append(average_loss)\n",
    "        LR_data.append(current_lr)\n",
    "\n",
    "        \n",
    "        \n",
    "        \n",
    "\n",
    "        # Update the learning rate scheduler with the training loss\n",
    "        scheduler.step(average_loss)\n",
    "\n",
    "        \n",
    "        print(f\"Epoch [{epoch+1}/{num_epochs}] - Loss: {average_loss:.4f}, Learning Rate: {current_lr:.6f}\")\n",
    "        if current_lr==0:\n",
    "            converged=True\n",
    "            print(\"training stopping\")\n",
    "            num_epochs=epoch+1\n",
    "            raise KeyboardInterrupt\n",
    "\n",
    "        \n",
    "        # print(f\"Epoch [{epoch+1}/{num_epochs}] - Loss: {average_loss:.4f}\")\n",
    "        \n",
    "except KeyboardInterrupt:\n",
    "    print(\"\\n ---------training interrupted----------- \\n\")\n",
    "\n",
    "\n",
    "\n",
    "\n",
    "\n",
    "print(\"Training complete\")\n",
    "t2=time.time()\n",
    "training_time=t2-t1\n",
    "print('time taken to train : ',training_time)\n",
    "print('time per epoch : ',round(training_time/num_epochs,2))\n",
    "\n",
    "# pltfolder=f\"{learning_rate}|{num_epochs}|{reduceLR_factor}|{reduceLR_patience}\"\n",
    "epoch_data=np.arange(1, num_epochs+1)\n",
    "plt.plot(epoch_data,avg_loss_data, marker='o', linestyle='-', markersize=8, label='Loss', color='red')\n",
    "plt.plot(epoch_data,LR_data,  marker='s', linestyle='--', markersize=8, label='Learning rate', color='blue')\n",
    "plt.title(tunefilename)\n",
    "plt.xlim(0, num_epochs+1)\n",
    "plt.xticks(epoch_data,epoch_data)\n",
    "# Add labels for each data point (y-values)\n",
    "for i in range(num_epochs):\n",
    "    plt.text(epoch_data[i], avg_loss_data[i]-0.2, f'{round(avg_loss_data[i],2)}', ha='center', va='top')\n",
    "    plt.text(epoch_data[i], LR_data[i]+0.2, f'{LR_data[i]}', ha='center', va='bottom')\n",
    "\n",
    "plt.legend()\n",
    "plt.savefig(plotfile)\n",
    "plt.show()\n",
    "print(plotfile)\n",
    "\n",
    "\n",
    "\n",
    "\n",
    "# Save the model checkpoint to the specified directory\n",
    "# model_path = os.path.join(save_dir, 'model_checkpoint.pth')\n",
    "\n",
    "# tk\n",
    "# torch.save(model.state_dict(), model_path)\n"
   ]
  },
  {
   "cell_type": "code",
   "execution_count": 11,
   "id": "0f86a526",
   "metadata": {
    "execution": {
     "iopub.execute_input": "2023-09-07T09:56:50.229892Z",
     "iopub.status.busy": "2023-09-07T09:56:50.229892Z",
     "iopub.status.idle": "2023-09-07T09:56:50.234926Z",
     "shell.execute_reply": "2023-09-07T09:56:50.234926Z"
    },
    "papermill": {
     "duration": 0.009526,
     "end_time": "2023-09-07T09:56:50.234926",
     "exception": false,
     "start_time": "2023-09-07T09:56:50.225400",
     "status": "completed"
    },
    "tags": []
   },
   "outputs": [
    {
     "name": "stdout",
     "output_type": "stream",
     "text": [
      "Model structure after training:  Sequential(\n",
      "  (0): Flatten(start_dim=1, end_dim=-1)\n",
      "  (1): Linear(in_features=784, out_features=10, bias=True)\n",
      "  (2): BatchNorm1d(10, eps=1e-05, momentum=0.1, affine=True, track_running_stats=True)\n",
      "  (3): Softmax(dim=1)\n",
      ") \n",
      "\n",
      "\n",
      "jere\n",
      "Layer: 1.weight | Size: torch.Size([10, 784]) | Values : tensor([[ 0.0181,  0.0109, -0.0036,  ..., -0.0153, -0.0181,  0.0288],\n",
      "        [-0.0293,  0.0205,  0.0182,  ..., -0.0007,  0.0087,  0.0315]],\n",
      "       grad_fn=<SliceBackward0>) \n",
      "\n",
      "Layer: 1.bias | Size: torch.Size([10]) | Values : tensor([0.0224, 0.0116], grad_fn=<SliceBackward0>) \n",
      "\n",
      "Layer: 2.weight | Size: torch.Size([10]) | Values : tensor([1.4509, 1.5107], grad_fn=<SliceBackward0>) \n",
      "\n",
      "Layer: 2.bias | Size: torch.Size([10]) | Values : tensor([0.0068, 0.0128], grad_fn=<SliceBackward0>) \n",
      "\n"
     ]
    }
   ],
   "source": [
    "print(\"Model structure after training: \", model, \"\\n\\n\")\n",
    "print(\"jere\")\n",
    "\n",
    "for name, param in model.named_parameters():\n",
    "    print(f\"Layer: {name} | Size: {param.size()} | Values : {param[:2]} \\n\")"
   ]
  },
  {
   "cell_type": "code",
   "execution_count": null,
   "id": "22ad97a1",
   "metadata": {
    "execution": {
     "iopub.execute_input": "2023-09-07T09:26:11.857819Z",
     "iopub.status.busy": "2023-09-07T09:26:11.857819Z",
     "iopub.status.idle": "2023-09-07T09:26:12.663302Z",
     "shell.execute_reply": "2023-09-07T09:26:12.663083Z"
    },
    "papermill": {
     "duration": null,
     "end_time": null,
     "exception": false,
     "start_time": "2023-09-07T09:56:50.234926",
     "status": "running"
    },
    "tags": []
   },
   "outputs": [],
   "source": [
    "# part 6 :\n",
    "# testing \n",
    "\n",
    "# Set the model to evaluation mode\n",
    "model.eval()\n",
    "\n",
    "correct_predictions = 0\n",
    "total_predictions = 0\n",
    "\n",
    "# Iterate over the testing dataset\n",
    "\n",
    "k=0\n",
    "for inputs, labels in test_loader:  # Use your test data loader\n",
    "    k+=1\n",
    "    # Forward pass to obtain predictions\n",
    "    outputs = model(inputs)\n",
    "    \n",
    "    # Get the predicted class for each example in the batch\n",
    "    _, predicted = torch.max(outputs, dim=1)\n",
    "    \n",
    "    # Count correct predictions in this batch\n",
    "    batch_correct_predictions = (predicted == labels).sum().item()\n",
    "    correct_predictions += batch_correct_predictions\n",
    "    \n",
    "    # Count total predictions in this batch\n",
    "\n",
    "    batch_total_predictions = labels.size(0)\n",
    "    total_predictions += batch_total_predictions \n",
    "\n",
    "    # Print the running accuracy for this batch\n",
    "    # Update running accuracy\n",
    "    batch_accuracy=batch_correct_predictions/batch_total_predictions * 100.0\n",
    "    print(f\"Accuracy on this batch {batch_accuracy:.2f}%\")\n",
    "\n",
    "    accuracy = (correct_predictions / total_predictions) * 100.0\n",
    "    print(f\"Accuracy till now:  testing dataset: {accuracy:.2f}%\")\n",
    "\n",
    "print()\n",
    "print(\"number of tests:\",k)\n",
    "\n",
    "# Calculate the accuracy\n",
    "accuracy = (correct_predictions / total_predictions) * 100.0\n",
    "print(f\"Accuracy on the testing dataset: {accuracy:.2f}%\")\n",
    "print('time taken to train : ',training_time)\n",
    "\n",
    "\n",
    "# saving accuracy\n",
    "\n",
    "\n",
    "  \n",
    "\n",
    "# tk\n",
    "loginfo(converged)\n",
    "logging.shutdown()\n",
    "print(\"data saved\")\n",
    "\n"
   ]
  }
 ],
 "metadata": {
  "kernelspec": {
   "display_name": "Python 3",
   "language": "python",
   "name": "python3"
  },
  "language_info": {
   "codemirror_mode": {
    "name": "ipython",
    "version": 3
   },
   "file_extension": ".py",
   "mimetype": "text/x-python",
   "name": "python",
   "nbconvert_exporter": "python",
   "pygments_lexer": "ipython3",
   "version": "3.11.2"
  },
  "papermill": {
   "default_parameters": {},
   "duration": null,
   "end_time": null,
   "environment_variables": {},
   "exception": null,
   "input_path": "c:\\Users\\pande\\OneDrive\\Desktop\\code\\ML\\ELL409-Machine-Learning-Coursework\\assignment-01\\code\\q1linear-classification\\a1-LR.ipynb",
   "output_path": "c:\\Users\\pande\\OneDrive\\Desktop\\code\\ML\\ELL409-Machine-Learning-Coursework\\assignment-01\\code\\q1linear-classification\\a1out.ipynb",
   "parameters": {
    "learning_rate": 0.01,
    "parent_dir": "c:\\Users\\pande\\OneDrive\\Desktop\\code\\ML\\ELL409-Machine-Learning-Coursework\\assignment-01\\code\\q1linear-classification",
    "reduceLR_factor": 0.4,
    "reduceLR_patience": 5
   },
   "start_time": "2023-09-07T09:56:33.073014",
   "version": "2.4.0"
  }
 },
 "nbformat": 4,
 "nbformat_minor": 5
}
