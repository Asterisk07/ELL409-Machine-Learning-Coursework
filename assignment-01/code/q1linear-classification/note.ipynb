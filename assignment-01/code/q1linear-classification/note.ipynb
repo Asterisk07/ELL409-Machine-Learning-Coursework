{
 "cells": [
  {
   "cell_type": "code",
   "execution_count": 1,
   "id": "45bfe6ce",
   "metadata": {
    "execution": {
     "iopub.execute_input": "2023-09-07T08:11:43.783188Z",
     "iopub.status.busy": "2023-09-07T08:11:43.783188Z",
     "iopub.status.idle": "2023-09-07T08:11:43.793381Z",
     "shell.execute_reply": "2023-09-07T08:11:43.791369Z"
    },
    "papermill": {
     "duration": 0.018182,
     "end_time": "2023-09-07T08:11:43.795375",
     "exception": false,
     "start_time": "2023-09-07T08:11:43.777193",
     "status": "completed"
    },
    "tags": [
     "parameters"
    ]
   },
   "outputs": [],
   "source": [
    "# <!-- Parameters -->\n",
    "a=1"
   ]
  },
  {
   "cell_type": "code",
   "execution_count": 2,
   "id": "1b2ca8dd",
   "metadata": {
    "execution": {
     "iopub.execute_input": "2023-09-07T08:11:43.798375Z",
     "iopub.status.busy": "2023-09-07T08:11:43.798375Z",
     "iopub.status.idle": "2023-09-07T08:11:43.801453Z",
     "shell.execute_reply": "2023-09-07T08:11:43.801453Z"
    },
    "papermill": {
     "duration": 0.005078,
     "end_time": "2023-09-07T08:11:43.801453",
     "exception": false,
     "start_time": "2023-09-07T08:11:43.796375",
     "status": "completed"
    },
    "tags": [
     "injected-parameters"
    ]
   },
   "outputs": [],
   "source": [
    "# Parameters\n",
    "a = 123\n"
   ]
  },
  {
   "cell_type": "code",
   "execution_count": 3,
   "id": "fce92ea6",
   "metadata": {
    "execution": {
     "iopub.execute_input": "2023-09-07T08:11:43.806919Z",
     "iopub.status.busy": "2023-09-07T08:11:43.805919Z",
     "iopub.status.idle": "2023-09-07T08:11:43.812688Z",
     "shell.execute_reply": "2023-09-07T08:11:43.811680Z"
    },
    "papermill": {
     "duration": 0.009773,
     "end_time": "2023-09-07T08:11:43.813685",
     "exception": false,
     "start_time": "2023-09-07T08:11:43.803912",
     "status": "completed"
    },
    "tags": []
   },
   "outputs": [
    {
     "name": "stdout",
     "output_type": "stream",
     "text": [
      "123\n"
     ]
    }
   ],
   "source": [
    "print(a)"
   ]
  },
  {
   "cell_type": "code",
   "execution_count": null,
   "id": "b19bf885",
   "metadata": {
    "papermill": {
     "duration": 0.001004,
     "end_time": "2023-09-07T08:11:43.816691",
     "exception": false,
     "start_time": "2023-09-07T08:11:43.815687",
     "status": "completed"
    },
    "tags": []
   },
   "outputs": [],
   "source": []
  }
 ],
 "metadata": {
  "kernelspec": {
   "display_name": "Python 3",
   "language": "python",
   "name": "python3"
  },
  "language_info": {
   "codemirror_mode": {
    "name": "ipython",
    "version": 3
   },
   "file_extension": ".py",
   "mimetype": "text/x-python",
   "name": "python",
   "nbconvert_exporter": "python",
   "pygments_lexer": "ipython3",
   "version": "3.11.2"
  },
  "papermill": {
   "default_parameters": {},
   "duration": 2.239625,
   "end_time": "2023-09-07T08:11:44.075046",
   "environment_variables": {},
   "exception": null,
   "input_path": "note.ipynb",
   "output_path": "note.ipynb",
   "parameters": {
    "a": 123
   },
   "start_time": "2023-09-07T08:11:41.835421",
   "version": "2.4.0"
  }
 },
 "nbformat": 4,
 "nbformat_minor": 5
}