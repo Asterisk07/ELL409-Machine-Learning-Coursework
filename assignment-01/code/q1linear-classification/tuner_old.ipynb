{
 "cells": [
  {
   "cell_type": "code",
   "execution_count": 1,
   "metadata": {},
   "outputs": [],
   "source": [
    "# import subprocess\n",
    "import os\n",
    "# Define a list of parameter sets you want to try\n",
    "# parameter_sets = [\n",
    "#     (0.01, 0.5, 5),\n",
    "#     (0.005, 0.7, 7),\n",
    "#     (0.02, 0.4, 3),\n",
    "#     # Add more parameter sets as needed\n",
    "# ]\n",
    "learning_rates = [0.01,0.05, 0.1, 0.3, 0.5, 0.7, 0.9]\n",
    "reduceLR_factors = [0.1, 0.3, 0.5, 0.7, 0.9]\n",
    "reduceLR_patience_values = [5, 7, 9]\n",
    "\n",
    "\n",
    "\n",
    "\n",
    "# Run the terminal command\n",
    "os.system('jupyter nbconvert --to script a1-LR.ipynb')\n",
    "testnum=1\n",
    "# for reduceLR_patience in reduceLR_patience_values:\n",
    "#     for reduceLR_factor in reduceLR_factors:\n",
    "#         for learning_rate in learning_rates:\n",
    "\n",
    "#             # Define the terminal command you want to run\n",
    "#             command = f\"python a1-LR.ipynb {learning_rate} {reduceLR_factor} {reduceLR_patience}\"  # Replace with your actual command\n",
    "\n",
    "#             # Run the terminal command\n",
    "#             os.system(command)\n",
    "\n",
    "#             # subprocess.call([\"python\", \"main_script.py\", (learning_rate), (reduceLR_factor), (reduceLR_patience),testnum])\n",
    "#             testnum+=1\n",
    "\n",
    "\n",
    "# # Loop through the parameter sets and run the main script with each set\n",
    "# for reduceLR_patience in range(3,8,2):\n",
    "#     for reduceLR_factor in range(0.1,0.9,0.2):\n",
    "#         for learning_rate in [0.01,0.1,0.2,0.5,0.7,0.9]:\n",
    "#             subprocess.call([\"python\", \"main_script.py\", str(learning_rate), str(reduceLR_factor), str(reduceLR_patience)])\n"
   ]
  },
  {
   "cell_type": "code",
   "execution_count": null,
   "metadata": {},
   "outputs": [],
   "source": []
  }
 ],
 "metadata": {
  "kernelspec": {
   "display_name": "Python 3",
   "language": "python",
   "name": "python3"
  },
  "language_info": {
   "codemirror_mode": {
    "name": "ipython",
    "version": 3
   },
   "file_extension": ".py",
   "mimetype": "text/x-python",
   "name": "python",
   "nbconvert_exporter": "python",
   "pygments_lexer": "ipython3",
   "version": "3.11.2"
  },
  "orig_nbformat": 4
 },
 "nbformat": 4,
 "nbformat_minor": 2
}
