{
 "cells": [
  {
   "cell_type": "code",
   "execution_count": 1,
   "metadata": {},
   "outputs": [
    {
     "ename": "NameError",
     "evalue": "name '__file__' is not defined",
     "output_type": "error",
     "traceback": [
      "\u001b[1;31m---------------------------------------------------------------------------\u001b[0m",
      "\u001b[1;31mNameError\u001b[0m                                 Traceback (most recent call last)",
      "Cell \u001b[1;32mIn[1], line 5\u001b[0m\n\u001b[0;32m      2\u001b[0m \u001b[39mimport\u001b[39;00m \u001b[39mos\u001b[39;00m\n\u001b[0;32m      4\u001b[0m \u001b[39m# Get the directory of the currently executing script\u001b[39;00m\n\u001b[1;32m----> 5\u001b[0m script_directory \u001b[39m=\u001b[39m os\u001b[39m.\u001b[39mpath\u001b[39m.\u001b[39mdirname(os\u001b[39m.\u001b[39mpath\u001b[39m.\u001b[39mabspath(\u001b[39m__file__\u001b[39;49m))\n\u001b[0;32m      7\u001b[0m \u001b[39m# Define the filename you want to join to the script directory\u001b[39;00m\n\u001b[0;32m      8\u001b[0m filename \u001b[39m=\u001b[39m \u001b[39m\"\u001b[39m\u001b[39ma1-LR.ipynb\u001b[39m\u001b[39m\"\u001b[39m  \u001b[39m# Replace with your desired filename\u001b[39;00m\n",
      "\u001b[1;31mNameError\u001b[0m: name '__file__' is not defined"
     ]
    }
   ],
   "source": [
    "import papermill as pm\n",
    "import os\n",
    "\n",
    "# Get the directory of the currently executing script\n",
    "script_directory = os.path.dirname(os.path.abspath(__file__))\n",
    "\n",
    "# Define the filename you want to join to the script directory\n",
    "filename = \"a1-LR.ipynb\"  # Replace with your desired filename\n",
    "\n",
    "# Join the script directory and the filename\n",
    "file_path = os.path.join(script_directory, filename)\n",
    "\n",
    "\n",
    "learning_rates = [0.01,0.05, 0.1, 0.3, 0.5, 0.7, 0.9]\n",
    "reduceLR_factors = [0.1, 0.3, 0.5, 0.7, 0.9]\n",
    "reduceLR_patience_values = [5, 7, 9]\n",
    "\n",
    "# Loop through the parameter sets and run the main script with each set\n",
    "for reduceLR_patience in range(3,8,2):\n",
    "    for reduceLR_factor in range(0.1,0.9,0.2):\n",
    "        for learning_rate in [0.01,0.1,0.2,0.5,0.7,0.9]:\n",
    "            pm.execute_notebook(input_notebook, parameters=parameters)\n",
    "            # Replace 'your_command' with the actual command you want to run\n",
    "            command = f'papermill {file_path} {file_path} -p learning_rate {learning_rate} -p reduceLR_factor {reduceLR_factor} -p reduceLR_patience {reduceLR_patience}'\n",
    "\n",
    "            # Execute the command in the terminal\n",
    "            os.system(command)\n",
    "\n",
    "            # subprocess.call([\"python\", \"main_script.py\", str(learning_rate), str(reduceLR_factor), str(reduceLR_patience)])\n",
    "\n",
    "# Define the parameters you want to set\n",
    "# parameters = {\n",
    "#     \"learning_rate\": 0.01,\n",
    "#     \"batch_size\": 32,\n",
    "#     \"num_epochs\": 10,\n",
    "# }\n",
    "\n",
    "# Execute the notebook without specifying an output file\n",
    "# pm.execute_notebook(input_notebook, parameters=parameters)\n"
   ]
  },
  {
   "cell_type": "code",
   "execution_count": null,
   "metadata": {},
   "outputs": [],
   "source": []
  }
 ],
 "metadata": {
  "kernelspec": {
   "display_name": "Python 3",
   "language": "python",
   "name": "python3"
  },
  "language_info": {
   "codemirror_mode": {
    "name": "ipython",
    "version": 3
   },
   "file_extension": ".py",
   "mimetype": "text/x-python",
   "name": "python",
   "nbconvert_exporter": "python",
   "pygments_lexer": "ipython3",
   "version": "3.11.2"
  },
  "orig_nbformat": 4
 },
 "nbformat": 4,
 "nbformat_minor": 2
}
