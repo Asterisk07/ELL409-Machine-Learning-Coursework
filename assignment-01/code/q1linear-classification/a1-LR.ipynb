{
 "cells": [
  {
   "cell_type": "code",
   "execution_count": 1,
   "id": "11ed3c9c",
   "metadata": {
    "execution": {
     "iopub.execute_input": "2023-09-07T09:27:13.098813Z",
     "iopub.status.busy": "2023-09-07T09:27:13.098418Z",
     "iopub.status.idle": "2023-09-07T09:27:13.749524Z",
     "shell.execute_reply": "2023-09-07T09:27:13.749189Z"
    },
    "papermill": {
     "duration": 0.660319,
     "end_time": "2023-09-07T09:27:13.750514",
     "exception": false,
     "start_time": "2023-09-07T09:27:13.090195",
     "status": "completed"
    },
    "tags": []
   },
   "outputs": [],
   "source": [
    "import torch.nn as nn"
   ]
  },
  {
   "cell_type": "code",
   "execution_count": 2,
   "id": "ab12aafe",
   "metadata": {
    "execution": {
     "iopub.execute_input": "2023-09-07T09:27:13.753552Z",
     "iopub.status.busy": "2023-09-07T09:27:13.753364Z",
     "iopub.status.idle": "2023-09-07T09:27:13.754974Z",
     "shell.execute_reply": "2023-09-07T09:27:13.754773Z"
    },
    "papermill": {
     "duration": 0.003787,
     "end_time": "2023-09-07T09:27:13.755653",
     "exception": false,
     "start_time": "2023-09-07T09:27:13.751866",
     "status": "completed"
    },
    "tags": [
     "parameters"
    ]
   },
   "outputs": [],
   "source": [
    "learning_rate=0.01\n",
    "reduceLR_factor=0.5\n",
    "reduceLR_patience=5"
   ]
  },
  {
   "cell_type": "code",
   "execution_count": 3,
   "id": "4304d39c",
   "metadata": {
    "execution": {
     "iopub.execute_input": "2023-09-07T09:27:13.758122Z",
     "iopub.status.busy": "2023-09-07T09:27:13.758027Z",
     "iopub.status.idle": "2023-09-07T09:27:13.759448Z",
     "shell.execute_reply": "2023-09-07T09:27:13.759226Z"
    },
    "papermill": {
     "duration": 0.003508,
     "end_time": "2023-09-07T09:27:13.760174",
     "exception": false,
     "start_time": "2023-09-07T09:27:13.756666",
     "status": "completed"
    },
    "tags": [
     "injected-parameters"
    ]
   },
   "outputs": [],
   "source": [
    "# Parameters\n",
    "learning_rate = 0.01\n",
    "reduceLR_factor = 0.1\n",
    "reduceLR_patience = 5\n"
   ]
  },
  {
   "cell_type": "code",
   "execution_count": 4,
   "id": "252a2f62",
   "metadata": {
    "execution": {
     "iopub.execute_input": "2023-09-07T09:27:13.763110Z",
     "iopub.status.busy": "2023-09-07T09:27:13.762985Z",
     "iopub.status.idle": "2023-09-07T09:27:13.765294Z",
     "shell.execute_reply": "2023-09-07T09:27:13.765088Z"
    },
    "papermill": {
     "duration": 0.004544,
     "end_time": "2023-09-07T09:27:13.765975",
     "exception": false,
     "start_time": "2023-09-07T09:27:13.761431",
     "status": "completed"
    },
    "tags": []
   },
   "outputs": [],
   "source": [
    "# editable parameters\n",
    "quesname='q1/'\n",
    "\n",
    "batchSize=64\n",
    "savename='q1/'\n",
    "\n",
    "# learning_rate=0.01\n",
    "# reduceLR_factor=0.5\n",
    "# reduceLR_patience=5\n",
    "\n",
    "# logfilename=f\n",
    "tunefilename=f'patience={reduceLR_patience}_LR_factor={reduceLR_factor}'\n",
    "logfilename=tunefilename+'.log'\n",
    "plotfilename=tunefilename+'.png'\n",
    "num_epochs = 2\n",
    "\n",
    "criterion = nn.CrossEntropyLoss()\n",
    "\n",
    "\n",
    "def loginfo(converged=False,testnum=1):     \n",
    "   \n",
    "    # logging.info(f\"\\nTest {testnum}\")\n",
    "    logging.info(f\"initial learning rate : {learning_rate:.2f} \")\n",
    "    logging.info(f\"Accuracy: {accuracy:.2f}%\")\n",
    "    # logging.info(f\"Training Time: {training_time:.2f} seconds\")\n",
    "    logging.info(f\"Number of epochs to converge: {num_epochs:.2f} \")\n",
    "    \n",
    "    # logging.info(f\"reduceLR_factor: {reduceLR_factor:.2f} \")\n",
    "    # logging.info(f\"reduceLR_patience : {reduceLR_patience:.2f} \")\n",
    "\n",
    "    # logging.info(f\"Test Session Finished \\n\")\n",
    "  "
   ]
  },
  {
   "cell_type": "code",
   "execution_count": 5,
   "id": "ced74abf",
   "metadata": {
    "execution": {
     "iopub.execute_input": "2023-09-07T09:27:13.768572Z",
     "iopub.status.busy": "2023-09-07T09:27:13.768489Z",
     "iopub.status.idle": "2023-09-07T09:27:14.015309Z",
     "shell.execute_reply": "2023-09-07T09:27:14.014997Z"
    },
    "papermill": {
     "duration": 0.249135,
     "end_time": "2023-09-07T09:27:14.016245",
     "exception": false,
     "start_time": "2023-09-07T09:27:13.767110",
     "status": "completed"
    },
    "tags": []
   },
   "outputs": [],
   "source": [
    "# Initialisation\n",
    "import numpy as np\n",
    "import math\n",
    "import torch as t\n",
    "import torch \n",
    "import os\n",
    "\n",
    "\n",
    "# import torch\n",
    "from torch.utils.data import Dataset\n",
    "from torch.utils.data import DataLoader\n",
    "from torchvision import datasets\n",
    "from torchvision.transforms import ToTensor, Lambda\n",
    "\n",
    "import matplotlib.pyplot as plt\n",
    "%matplotlib inline\n",
    "import logging\n",
    "\n",
    "log_dir = '../../log'\n",
    "os.makedirs(log_dir, exist_ok=True)\n",
    "\n",
    "log_dir=os.path.join(log_dir, quesname)\n",
    "os.makedirs(log_dir, exist_ok=True)\n",
    "\n",
    "plot_dir=log_dir\n",
    "os.makedirs(plot_dir, exist_ok=True)\n",
    "\n",
    "logfile=os.path.join(log_dir, logfilename)\n",
    "plotfile=os.path.join(log_dir, plotfilename)\n",
    "\n",
    "logging.basicConfig(filename=logfile, level=logging.INFO, format='%(message)s')\n",
    "# logging.basicConfig(filename=logfile, level=logging.INFO, format='%(asctime)s - %(levelname)s - %(message)s')\n",
    "\n"
   ]
  },
  {
   "cell_type": "markdown",
   "id": "9c914208",
   "metadata": {
    "papermill": {
     "duration": 0.001074,
     "end_time": "2023-09-07T09:27:14.018578",
     "exception": false,
     "start_time": "2023-09-07T09:27:14.017504",
     "status": "completed"
    },
    "tags": []
   },
   "source": []
  },
  {
   "cell_type": "code",
   "execution_count": 6,
   "id": "f1f73c15",
   "metadata": {
    "execution": {
     "iopub.execute_input": "2023-09-07T09:27:14.021743Z",
     "iopub.status.busy": "2023-09-07T09:27:14.021621Z"
    },
    "papermill": {
     "duration": null,
     "end_time": null,
     "exception": false,
     "start_time": "2023-09-07T09:27:14.020180",
     "status": "running"
    },
    "tags": []
   },
   "outputs": [
    {
     "name": "stdout",
     "output_type": "stream",
     "text": [
      "Downloading http://fashion-mnist.s3-website.eu-central-1.amazonaws.com/train-images-idx3-ubyte.gz\n"
     ]
    },
    {
     "name": "stdout",
     "output_type": "stream",
     "text": [
      "Downloading http://fashion-mnist.s3-website.eu-central-1.amazonaws.com/train-images-idx3-ubyte.gz to ../../data/FashionMNIST/raw/train-images-idx3-ubyte.gz\n"
     ]
    },
    {
     "name": "stderr",
     "output_type": "stream",
     "text": [
      "\r\n",
      "  0%|                                                                             | 0/26421880 [00:00<?, ?it/s]"
     ]
    },
    {
     "name": "stderr",
     "output_type": "stream",
     "text": [
      "\r\n",
      "  0%|                                                              | 32768/26421880 [00:00<07:51, 55920.39it/s]"
     ]
    },
    {
     "name": "stderr",
     "output_type": "stream",
     "text": [
      "\r\n",
      "  0%|▏                                                             | 65536/26421880 [00:00<06:28, 67906.82it/s]"
     ]
    },
    {
     "name": "stderr",
     "output_type": "stream",
     "text": [
      "\r\n",
      "  0%|▏                                                             | 98304/26421880 [00:01<05:54, 74245.35it/s]"
     ]
    },
    {
     "name": "stderr",
     "output_type": "stream",
     "text": [
      "\r\n",
      "  0%|▎                                                            | 131072/26421880 [00:01<05:44, 76423.52it/s]"
     ]
    },
    {
     "name": "stderr",
     "output_type": "stream",
     "text": [
      "\r\n",
      "  1%|▍                                                            | 163840/26421880 [00:02<05:28, 79820.13it/s]"
     ]
    },
    {
     "name": "stderr",
     "output_type": "stream",
     "text": [
      "\r\n",
      "  1%|▍                                                            | 196608/26421880 [00:02<05:27, 79986.54it/s]"
     ]
    },
    {
     "name": "stderr",
     "output_type": "stream",
     "text": [
      "\r\n",
      "  1%|▌                                                            | 229376/26421880 [00:03<06:10, 70684.62it/s]"
     ]
    },
    {
     "name": "stderr",
     "output_type": "stream",
     "text": [
      "\r\n",
      "  1%|▌                                                            | 262144/26421880 [00:04<07:59, 54508.44it/s]"
     ]
    },
    {
     "name": "stderr",
     "output_type": "stream",
     "text": [
      "\r\n",
      "  1%|▋                                                            | 294912/26421880 [00:04<07:51, 55375.52it/s]"
     ]
    },
    {
     "name": "stderr",
     "output_type": "stream",
     "text": [
      "\r\n",
      "  1%|▊                                                            | 327680/26421880 [00:06<11:05, 39228.67it/s]"
     ]
    },
    {
     "name": "stderr",
     "output_type": "stream",
     "text": [
      "\r\n",
      "  1%|▊                                                            | 360448/26421880 [00:06<10:55, 39731.96it/s]"
     ]
    },
    {
     "name": "stderr",
     "output_type": "stream",
     "text": [
      "\r\n",
      "  1%|▉                                                            | 393216/26421880 [00:07<11:19, 38283.45it/s]"
     ]
    },
    {
     "name": "stderr",
     "output_type": "stream",
     "text": [
      "\r\n",
      "  2%|▉                                                            | 425984/26421880 [00:08<10:17, 42068.60it/s]"
     ]
    },
    {
     "name": "stderr",
     "output_type": "stream",
     "text": [
      "\r\n",
      "  2%|█                                                            | 458752/26421880 [00:09<11:18, 38250.59it/s]"
     ]
    },
    {
     "name": "stderr",
     "output_type": "stream",
     "text": [
      "\r\n",
      "  2%|█▏                                                           | 491520/26421880 [00:10<11:02, 39147.11it/s]"
     ]
    },
    {
     "name": "stderr",
     "output_type": "stream",
     "text": [
      "\r\n",
      "  2%|█▏                                                           | 524288/26421880 [00:10<10:46, 40089.04it/s]"
     ]
    },
    {
     "name": "stderr",
     "output_type": "stream",
     "text": [
      "\r\n",
      "  2%|█▎                                                           | 557056/26421880 [00:11<10:45, 40040.51it/s]"
     ]
    },
    {
     "name": "stderr",
     "output_type": "stream",
     "text": [
      "\r\n",
      "  2%|█▎                                                           | 589824/26421880 [00:12<10:32, 40809.45it/s]"
     ]
    },
    {
     "name": "stderr",
     "output_type": "stream",
     "text": [
      "\r\n",
      "  2%|█▍                                                           | 622592/26421880 [00:13<10:28, 41037.94it/s]"
     ]
    },
    {
     "name": "stderr",
     "output_type": "stream",
     "text": [
      "\r\n",
      "  2%|█▌                                                           | 655360/26421880 [00:13<09:35, 44808.17it/s]"
     ]
    },
    {
     "name": "stderr",
     "output_type": "stream",
     "text": [
      "\r\n",
      "  3%|█▌                                                           | 688128/26421880 [00:14<08:55, 48026.71it/s]"
     ]
    },
    {
     "name": "stderr",
     "output_type": "stream",
     "text": [
      "\r\n",
      "  3%|█▋                                                           | 720896/26421880 [00:15<08:31, 50261.60it/s]"
     ]
    },
    {
     "name": "stderr",
     "output_type": "stream",
     "text": [
      "\r\n",
      "  3%|█▋                                                           | 753664/26421880 [00:15<08:13, 52028.01it/s]"
     ]
    },
    {
     "name": "stderr",
     "output_type": "stream",
     "text": [
      "\r\n",
      "  3%|█▊                                                           | 786432/26421880 [00:16<07:54, 54001.28it/s]"
     ]
    },
    {
     "name": "stderr",
     "output_type": "stream",
     "text": [
      "\r\n",
      "  3%|█▉                                                           | 819200/26421880 [00:16<07:46, 54921.94it/s]"
     ]
    },
    {
     "name": "stderr",
     "output_type": "stream",
     "text": [
      "\r\n",
      "  3%|█▉                                                           | 851968/26421880 [00:17<07:49, 54453.45it/s]"
     ]
    },
    {
     "name": "stderr",
     "output_type": "stream",
     "text": [
      "\r\n",
      "  3%|██                                                           | 884736/26421880 [00:17<07:00, 60770.42it/s]"
     ]
    },
    {
     "name": "stderr",
     "output_type": "stream",
     "text": [
      "\r\n",
      "  3%|██                                                           | 917504/26421880 [00:18<07:53, 53837.22it/s]"
     ]
    },
    {
     "name": "stderr",
     "output_type": "stream",
     "text": [
      "\r\n",
      "  4%|██▏                                                          | 950272/26421880 [00:19<09:19, 45551.87it/s]"
     ]
    },
    {
     "name": "stderr",
     "output_type": "stream",
     "text": [
      "\r\n",
      "  4%|██▎                                                          | 983040/26421880 [00:20<09:33, 44387.34it/s]"
     ]
    },
    {
     "name": "stderr",
     "output_type": "stream",
     "text": [
      "\r\n",
      "  4%|██▎                                                         | 1015808/26421880 [00:20<09:25, 44932.00it/s]"
     ]
    },
    {
     "name": "stderr",
     "output_type": "stream",
     "text": [
      "\r\n",
      "  4%|██▍                                                         | 1048576/26421880 [00:21<08:44, 48348.03it/s]"
     ]
    },
    {
     "name": "stderr",
     "output_type": "stream",
     "text": [
      "\r\n",
      "  4%|██▍                                                         | 1081344/26421880 [00:22<08:17, 50920.48it/s]"
     ]
    },
    {
     "name": "stderr",
     "output_type": "stream",
     "text": [
      "\r\n",
      "  4%|██▌                                                         | 1114112/26421880 [00:22<07:23, 57088.12it/s]"
     ]
    },
    {
     "name": "stderr",
     "output_type": "stream",
     "text": [
      "\r\n",
      "  4%|██▌                                                         | 1146880/26421880 [00:23<09:40, 43547.86it/s]"
     ]
    },
    {
     "name": "stderr",
     "output_type": "stream",
     "text": [
      "\r\n",
      "  4%|██▋                                                         | 1179648/26421880 [00:24<09:43, 43274.49it/s]"
     ]
    },
    {
     "name": "stderr",
     "output_type": "stream",
     "text": [
      "\r\n",
      "  5%|██▊                                                         | 1212416/26421880 [00:25<09:36, 43755.57it/s]"
     ]
    },
    {
     "name": "stderr",
     "output_type": "stream",
     "text": [
      "\r\n",
      "  5%|██▊                                                         | 1245184/26421880 [00:25<08:54, 47145.61it/s]"
     ]
    },
    {
     "name": "stderr",
     "output_type": "stream",
     "text": [
      "\r\n",
      "  5%|██▉                                                         | 1277952/26421880 [00:26<07:46, 53933.07it/s]"
     ]
    },
    {
     "name": "stderr",
     "output_type": "stream",
     "text": [
      "\r\n",
      "  5%|██▉                                                         | 1310720/26421880 [00:26<06:52, 60857.99it/s]"
     ]
    },
    {
     "name": "stderr",
     "output_type": "stream",
     "text": [
      "\r\n",
      "  5%|███                                                         | 1343488/26421880 [00:26<06:13, 67090.58it/s]"
     ]
    },
    {
     "name": "stderr",
     "output_type": "stream",
     "text": [
      "\r\n",
      "  5%|███▏                                                        | 1376256/26421880 [00:27<05:43, 72853.30it/s]"
     ]
    },
    {
     "name": "stderr",
     "output_type": "stream",
     "text": [
      "\r\n",
      "  5%|███▏                                                        | 1409024/26421880 [00:27<05:22, 77529.27it/s]"
     ]
    },
    {
     "name": "stderr",
     "output_type": "stream",
     "text": [
      "\r\n",
      "  5%|███▎                                                        | 1441792/26421880 [00:27<04:41, 88845.50it/s]"
     ]
    },
    {
     "name": "stderr",
     "output_type": "stream",
     "text": [
      "\r\n",
      "  6%|███▎                                                       | 1474560/26421880 [00:28<04:02, 102778.76it/s]"
     ]
    },
    {
     "name": "stderr",
     "output_type": "stream",
     "text": [
      "\r\n",
      "  6%|███▎                                                       | 1507328/26421880 [00:28<03:31, 117957.26it/s]"
     ]
    },
    {
     "name": "stderr",
     "output_type": "stream",
     "text": [
      "\r\n",
      "  6%|███▍                                                       | 1540096/26421880 [00:28<03:08, 131774.57it/s]"
     ]
    },
    {
     "name": "stderr",
     "output_type": "stream",
     "text": [
      "\r\n",
      "  6%|███▌                                                       | 1572864/26421880 [00:28<02:46, 149186.77it/s]"
     ]
    },
    {
     "name": "stderr",
     "output_type": "stream",
     "text": [
      "\r\n",
      "  6%|███▌                                                       | 1605632/26421880 [00:28<02:29, 166407.42it/s]"
     ]
    },
    {
     "name": "stderr",
     "output_type": "stream",
     "text": [
      "\r\n",
      "  6%|███▋                                                       | 1671168/26421880 [00:28<02:06, 196425.38it/s]"
     ]
    },
    {
     "name": "stderr",
     "output_type": "stream",
     "text": [
      "\r\n",
      "  6%|███▊                                                       | 1703936/26421880 [00:29<01:59, 206453.25it/s]"
     ]
    },
    {
     "name": "stderr",
     "output_type": "stream",
     "text": [
      "\r\n",
      "  7%|███▉                                                       | 1736704/26421880 [00:29<02:01, 203969.60it/s]"
     ]
    },
    {
     "name": "stderr",
     "output_type": "stream",
     "text": [
      "\r\n",
      "  7%|███▉                                                       | 1769472/26421880 [00:29<02:04, 198191.82it/s]"
     ]
    },
    {
     "name": "stderr",
     "output_type": "stream",
     "text": [
      "\r\n",
      "  7%|████                                                       | 1835008/26421880 [00:29<01:46, 231940.00it/s]"
     ]
    },
    {
     "name": "stderr",
     "output_type": "stream",
     "text": [
      "\r\n",
      "  7%|████▏                                                      | 1867776/26421880 [00:30<02:29, 164410.14it/s]"
     ]
    },
    {
     "name": "stderr",
     "output_type": "stream",
     "text": [
      "\r\n",
      "  7%|████▏                                                      | 1900544/26421880 [00:30<02:30, 163123.26it/s]"
     ]
    },
    {
     "name": "stderr",
     "output_type": "stream",
     "text": [
      "\r\n",
      "  7%|████▎                                                      | 1933312/26421880 [00:30<02:28, 164906.09it/s]"
     ]
    },
    {
     "name": "stderr",
     "output_type": "stream",
     "text": [
      "\r\n",
      "  7%|████▍                                                      | 1966080/26421880 [00:30<03:05, 131706.56it/s]"
     ]
    },
    {
     "name": "stderr",
     "output_type": "stream",
     "text": [
      "\r\n",
      "  8%|████▍                                                      | 1998848/26421880 [00:31<03:26, 118181.82it/s]"
     ]
    },
    {
     "name": "stderr",
     "output_type": "stream",
     "text": [
      "\r\n",
      "  8%|████▌                                                      | 2031616/26421880 [00:31<03:49, 106075.47it/s]"
     ]
    },
    {
     "name": "stderr",
     "output_type": "stream",
     "text": [
      "\r\n",
      "  8%|████▌                                                      | 2064384/26421880 [00:31<03:27, 117459.70it/s]"
     ]
    },
    {
     "name": "stderr",
     "output_type": "stream",
     "text": [
      "\r\n",
      "  8%|████▋                                                      | 2097152/26421880 [00:32<03:43, 108833.62it/s]"
     ]
    },
    {
     "name": "stderr",
     "output_type": "stream",
     "text": [
      "\r\n",
      "  8%|████▊                                                      | 2129920/26421880 [00:32<03:23, 119321.19it/s]"
     ]
    },
    {
     "name": "stderr",
     "output_type": "stream",
     "text": [
      "\r\n",
      "  8%|████▊                                                      | 2162688/26421880 [00:32<03:42, 109230.93it/s]"
     ]
    },
    {
     "name": "stderr",
     "output_type": "stream",
     "text": [
      "\r\n",
      "  8%|████▉                                                      | 2195456/26421880 [00:32<03:24, 118716.44it/s]"
     ]
    },
    {
     "name": "stderr",
     "output_type": "stream",
     "text": [
      "\r\n",
      "  8%|████▉                                                      | 2228224/26421880 [00:33<03:26, 117341.96it/s]"
     ]
    },
    {
     "name": "stderr",
     "output_type": "stream",
     "text": [
      "\r\n",
      "  9%|█████                                                      | 2260992/26421880 [00:33<03:49, 105270.01it/s]"
     ]
    },
    {
     "name": "stderr",
     "output_type": "stream",
     "text": [
      "\r\n",
      "  9%|█████                                                      | 2293760/26421880 [00:33<04:00, 100283.83it/s]"
     ]
    },
    {
     "name": "stderr",
     "output_type": "stream",
     "text": [
      "\r\n",
      "  9%|█████▏                                                     | 2326528/26421880 [00:34<03:43, 107634.20it/s]"
     ]
    },
    {
     "name": "stderr",
     "output_type": "stream",
     "text": [
      "\r\n",
      "  9%|█████▎                                                     | 2359296/26421880 [00:34<03:49, 104822.81it/s]"
     ]
    },
    {
     "name": "stderr",
     "output_type": "stream",
     "text": [
      "\r\n",
      "  9%|█████▍                                                      | 2392064/26421880 [00:34<04:05, 97852.79it/s]"
     ]
    },
    {
     "name": "stderr",
     "output_type": "stream",
     "text": [
      "\r\n",
      "  9%|█████▍                                                     | 2424832/26421880 [00:35<03:40, 108891.75it/s]"
     ]
    },
    {
     "name": "stderr",
     "output_type": "stream",
     "text": [
      "\r\n",
      "  9%|█████▍                                                     | 2457600/26421880 [00:35<03:53, 102573.37it/s]"
     ]
    },
    {
     "name": "stderr",
     "output_type": "stream",
     "text": [
      "\r\n",
      "  9%|█████▌                                                     | 2490368/26421880 [00:35<03:26, 116163.40it/s]"
     ]
    },
    {
     "name": "stderr",
     "output_type": "stream",
     "text": [
      "\r\n",
      " 10%|█████▋                                                      | 2523136/26421880 [00:36<04:33, 87245.61it/s]"
     ]
    },
    {
     "name": "stderr",
     "output_type": "stream",
     "text": [
      "\r\n",
      " 10%|█████▊                                                      | 2555904/26421880 [00:36<05:17, 75081.55it/s]"
     ]
    },
    {
     "name": "stderr",
     "output_type": "stream",
     "text": [
      "\r\n",
      " 10%|█████▉                                                      | 2588672/26421880 [00:37<05:12, 76318.55it/s]"
     ]
    },
    {
     "name": "stderr",
     "output_type": "stream",
     "text": [
      "\r\n",
      " 10%|█████▉                                                      | 2621440/26421880 [00:37<05:51, 67642.96it/s]"
     ]
    },
    {
     "name": "stderr",
     "output_type": "stream",
     "text": [
      "\r\n",
      " 10%|██████                                                      | 2654208/26421880 [00:38<06:43, 58958.92it/s]"
     ]
    },
    {
     "name": "stderr",
     "output_type": "stream",
     "text": [
      "\r\n",
      " 10%|██████                                                      | 2686976/26421880 [00:39<06:42, 58947.33it/s]"
     ]
    },
    {
     "name": "stderr",
     "output_type": "stream",
     "text": [
      "\r\n",
      " 10%|██████▏                                                     | 2719744/26421880 [00:39<06:47, 58128.61it/s]"
     ]
    },
    {
     "name": "stderr",
     "output_type": "stream",
     "text": [
      "\r\n",
      " 10%|██████▎                                                     | 2752512/26421880 [00:40<06:15, 62968.79it/s]"
     ]
    },
    {
     "name": "stderr",
     "output_type": "stream",
     "text": [
      "\r\n",
      " 11%|██████▎                                                     | 2785280/26421880 [00:40<06:22, 61754.13it/s]"
     ]
    },
    {
     "name": "stderr",
     "output_type": "stream",
     "text": [
      "\r\n",
      " 11%|██████▍                                                     | 2818048/26421880 [00:41<05:54, 66670.88it/s]"
     ]
    },
    {
     "name": "stderr",
     "output_type": "stream",
     "text": [
      "\r\n",
      " 11%|██████▍                                                     | 2850816/26421880 [00:41<05:25, 72499.78it/s]"
     ]
    },
    {
     "name": "stderr",
     "output_type": "stream",
     "text": [
      "\r\n",
      " 11%|██████▌                                                     | 2883584/26421880 [00:41<05:03, 77600.79it/s]"
     ]
    },
    {
     "name": "stderr",
     "output_type": "stream",
     "text": [
      "\r\n",
      " 11%|██████▌                                                     | 2916352/26421880 [00:42<04:51, 80758.72it/s]"
     ]
    },
    {
     "name": "stderr",
     "output_type": "stream",
     "text": [
      "\r\n",
      " 11%|██████▋                                                     | 2949120/26421880 [00:42<04:15, 91775.27it/s]"
     ]
    },
    {
     "name": "stderr",
     "output_type": "stream",
     "text": [
      "\r\n",
      " 11%|██████▊                                                     | 2981888/26421880 [00:42<04:14, 92171.79it/s]"
     ]
    },
    {
     "name": "stderr",
     "output_type": "stream",
     "text": [
      "\r\n",
      " 11%|██████▊                                                     | 3014656/26421880 [00:43<05:45, 67711.26it/s]"
     ]
    },
    {
     "name": "stderr",
     "output_type": "stream",
     "text": [
      "\r\n",
      " 12%|██████▉                                                     | 3047424/26421880 [00:44<06:50, 56981.52it/s]"
     ]
    },
    {
     "name": "stderr",
     "output_type": "stream",
     "text": [
      "\r\n",
      " 12%|██████▉                                                     | 3080192/26421880 [00:45<07:18, 53174.69it/s]"
     ]
    },
    {
     "name": "stderr",
     "output_type": "stream",
     "text": [
      "\r\n",
      " 12%|███████                                                     | 3112960/26421880 [00:45<07:12, 53841.89it/s]"
     ]
    },
    {
     "name": "stderr",
     "output_type": "stream",
     "text": [
      "\r\n",
      " 12%|███████▏                                                    | 3145728/26421880 [00:46<07:03, 55020.81it/s]"
     ]
    },
    {
     "name": "stderr",
     "output_type": "stream",
     "text": [
      "\r\n",
      " 12%|███████▏                                                    | 3178496/26421880 [00:46<07:03, 54946.28it/s]"
     ]
    },
    {
     "name": "stderr",
     "output_type": "stream",
     "text": [
      "\r\n",
      " 12%|███████▎                                                    | 3211264/26421880 [00:47<06:57, 55553.95it/s]"
     ]
    },
    {
     "name": "stderr",
     "output_type": "stream",
     "text": [
      "\r\n",
      " 12%|███████▎                                                    | 3244032/26421880 [00:47<06:16, 61524.52it/s]"
     ]
    },
    {
     "name": "stderr",
     "output_type": "stream",
     "text": [
      "\r\n",
      " 12%|███████▍                                                    | 3276800/26421880 [00:48<06:20, 60858.17it/s]"
     ]
    },
    {
     "name": "stderr",
     "output_type": "stream",
     "text": [
      "\r\n",
      " 13%|███████▌                                                    | 3309568/26421880 [00:48<05:59, 64270.14it/s]"
     ]
    },
    {
     "name": "stderr",
     "output_type": "stream",
     "text": [
      "\r\n",
      " 13%|███████▌                                                    | 3342336/26421880 [00:49<06:15, 61499.84it/s]"
     ]
    },
    {
     "name": "stderr",
     "output_type": "stream",
     "text": [
      "\r\n",
      " 13%|███████▋                                                    | 3375104/26421880 [00:49<05:47, 66379.95it/s]"
     ]
    },
    {
     "name": "stderr",
     "output_type": "stream",
     "text": [
      "\r\n",
      " 13%|███████▋                                                    | 3407872/26421880 [00:50<06:07, 62595.42it/s]"
     ]
    },
    {
     "name": "stderr",
     "output_type": "stream",
     "text": [
      "\r\n",
      " 13%|███████▊                                                    | 3440640/26421880 [00:51<06:19, 60523.56it/s]"
     ]
    },
    {
     "name": "stderr",
     "output_type": "stream",
     "text": [
      "\r\n",
      " 13%|███████▉                                                    | 3473408/26421880 [00:51<05:46, 66221.58it/s]"
     ]
    },
    {
     "name": "stderr",
     "output_type": "stream",
     "text": [
      "\r\n",
      " 13%|███████▉                                                    | 3506176/26421880 [00:51<05:54, 64594.31it/s]"
     ]
    },
    {
     "name": "stderr",
     "output_type": "stream",
     "text": [
      "\r\n",
      " 13%|████████                                                    | 3538944/26421880 [00:52<05:32, 68878.65it/s]"
     ]
    },
    {
     "name": "stderr",
     "output_type": "stream",
     "text": [
      "\r\n",
      " 14%|████████                                                    | 3571712/26421880 [00:52<05:54, 64427.85it/s]"
     ]
    },
    {
     "name": "stderr",
     "output_type": "stream",
     "text": [
      "\r\n",
      " 14%|████████▏                                                   | 3604480/26421880 [00:53<06:07, 62078.66it/s]"
     ]
    },
    {
     "name": "stderr",
     "output_type": "stream",
     "text": [
      "\r\n",
      " 14%|████████▎                                                   | 3637248/26421880 [00:54<06:17, 60346.90it/s]"
     ]
    },
    {
     "name": "stderr",
     "output_type": "stream",
     "text": [
      "\r\n",
      " 14%|████████▎                                                   | 3670016/26421880 [00:54<05:45, 65926.05it/s]"
     ]
    },
    {
     "name": "stderr",
     "output_type": "stream",
     "text": [
      "\r\n",
      " 14%|████████▍                                                   | 3702784/26421880 [00:55<06:46, 55896.80it/s]"
     ]
    },
    {
     "name": "stderr",
     "output_type": "stream",
     "text": [
      "\r\n",
      " 14%|████████▍                                                   | 3735552/26421880 [00:55<06:45, 55961.81it/s]"
     ]
    },
    {
     "name": "stderr",
     "output_type": "stream",
     "text": [
      "\r\n",
      " 14%|████████▌                                                   | 3768320/26421880 [00:56<07:17, 51788.72it/s]"
     ]
    },
    {
     "name": "stderr",
     "output_type": "stream",
     "text": [
      "\r\n",
      " 14%|████████▋                                                   | 3801088/26421880 [00:57<07:04, 53286.43it/s]"
     ]
    },
    {
     "name": "stderr",
     "output_type": "stream",
     "text": [
      "\r\n",
      " 15%|████████▋                                                   | 3833856/26421880 [00:57<06:45, 55680.34it/s]"
     ]
    },
    {
     "name": "stderr",
     "output_type": "stream",
     "text": [
      "\r\n",
      " 15%|████████▊                                                   | 3866624/26421880 [00:58<06:05, 61774.79it/s]"
     ]
    },
    {
     "name": "stderr",
     "output_type": "stream",
     "text": [
      "\r\n",
      " 15%|████████▊                                                   | 3899392/26421880 [00:58<06:07, 61331.39it/s]"
     ]
    },
    {
     "name": "stderr",
     "output_type": "stream",
     "text": [
      "\r\n",
      " 15%|████████▉                                                   | 3932160/26421880 [00:59<05:35, 67129.33it/s]"
     ]
    },
    {
     "name": "stderr",
     "output_type": "stream",
     "text": [
      "\r\n",
      " 15%|█████████                                                   | 3964928/26421880 [00:59<04:38, 80640.63it/s]"
     ]
    },
    {
     "name": "stderr",
     "output_type": "stream",
     "text": [
      "\r\n",
      " 15%|█████████                                                   | 3997696/26421880 [00:59<05:02, 74076.96it/s]"
     ]
    },
    {
     "name": "stderr",
     "output_type": "stream",
     "text": [
      "\r\n",
      " 15%|█████████▏                                                  | 4030464/26421880 [00:59<04:17, 86876.00it/s]"
     ]
    },
    {
     "name": "stderr",
     "output_type": "stream",
     "text": [
      "\r\n",
      " 15%|█████████▏                                                  | 4063232/26421880 [01:00<04:19, 86176.48it/s]"
     ]
    },
    {
     "name": "stderr",
     "output_type": "stream",
     "text": [
      "\r\n",
      " 16%|█████████▎                                                  | 4096000/26421880 [01:00<04:17, 86732.47it/s]"
     ]
    },
    {
     "name": "stderr",
     "output_type": "stream",
     "text": [
      "\r\n",
      " 16%|█████████▍                                                  | 4128768/26421880 [01:01<04:18, 86353.53it/s]"
     ]
    },
    {
     "name": "stderr",
     "output_type": "stream",
     "text": [
      "\r\n",
      " 16%|█████████▍                                                  | 4161536/26421880 [01:01<04:19, 85868.24it/s]"
     ]
    },
    {
     "name": "stderr",
     "output_type": "stream",
     "text": [
      "\r\n",
      " 16%|█████████▌                                                  | 4194304/26421880 [01:01<04:17, 86270.67it/s]"
     ]
    },
    {
     "name": "stderr",
     "output_type": "stream",
     "text": [
      "\r\n",
      " 16%|█████████▌                                                  | 4227072/26421880 [01:02<04:19, 85498.39it/s]"
     ]
    },
    {
     "name": "stderr",
     "output_type": "stream",
     "text": [
      "\r\n",
      " 16%|█████████▋                                                  | 4259840/26421880 [01:02<04:22, 84577.08it/s]"
     ]
    },
    {
     "name": "stderr",
     "output_type": "stream",
     "text": [
      "\r\n",
      " 16%|█████████▋                                                  | 4292608/26421880 [01:03<04:22, 84154.41it/s]"
     ]
    },
    {
     "name": "stderr",
     "output_type": "stream",
     "text": [
      "\r\n",
      " 16%|█████████▊                                                  | 4325376/26421880 [01:03<04:22, 84142.89it/s]"
     ]
    },
    {
     "name": "stderr",
     "output_type": "stream",
     "text": [
      "\r\n",
      " 16%|█████████▉                                                  | 4358144/26421880 [01:04<05:07, 71674.92it/s]"
     ]
    },
    {
     "name": "stderr",
     "output_type": "stream",
     "text": [
      "\r\n",
      " 17%|█████████▉                                                  | 4390912/26421880 [01:04<06:11, 59356.15it/s]"
     ]
    },
    {
     "name": "stderr",
     "output_type": "stream",
     "text": [
      "\r\n",
      " 17%|██████████                                                  | 4423680/26421880 [01:05<06:15, 58636.41it/s]"
     ]
    },
    {
     "name": "stderr",
     "output_type": "stream",
     "text": [
      "\r\n",
      " 17%|██████████                                                  | 4456448/26421880 [01:05<06:18, 58080.31it/s]"
     ]
    },
    {
     "name": "stderr",
     "output_type": "stream",
     "text": [
      "\r\n",
      " 17%|██████████▏                                                 | 4489216/26421880 [01:06<06:24, 57112.37it/s]"
     ]
    },
    {
     "name": "stderr",
     "output_type": "stream",
     "text": [
      "\r\n",
      " 17%|██████████▎                                                 | 4521984/26421880 [01:07<06:19, 57759.53it/s]"
     ]
    },
    {
     "name": "stderr",
     "output_type": "stream",
     "text": [
      "\r\n",
      " 17%|██████████▎                                                 | 4554752/26421880 [01:07<06:18, 57843.73it/s]"
     ]
    },
    {
     "name": "stderr",
     "output_type": "stream",
     "text": [
      "\r\n",
      " 17%|██████████▍                                                 | 4587520/26421880 [01:08<05:40, 64035.51it/s]"
     ]
    },
    {
     "name": "stderr",
     "output_type": "stream",
     "text": [
      "\r\n",
      " 17%|██████████▍                                                 | 4620288/26421880 [01:08<05:53, 61674.16it/s]"
     ]
    },
    {
     "name": "stderr",
     "output_type": "stream",
     "text": [
      "\r\n",
      " 18%|██████████▌                                                 | 4653056/26421880 [01:09<06:03, 59908.71it/s]"
     ]
    },
    {
     "name": "stderr",
     "output_type": "stream",
     "text": [
      "\r\n",
      " 18%|██████████▋                                                 | 4685824/26421880 [01:09<06:05, 59487.89it/s]"
     ]
    },
    {
     "name": "stderr",
     "output_type": "stream",
     "text": [
      "\r\n",
      " 18%|██████████▋                                                 | 4718592/26421880 [01:10<06:15, 57804.21it/s]"
     ]
    },
    {
     "name": "stderr",
     "output_type": "stream",
     "text": [
      "\r\n",
      " 18%|██████████▊                                                 | 4751360/26421880 [01:10<06:14, 57835.99it/s]"
     ]
    },
    {
     "name": "stderr",
     "output_type": "stream",
     "text": [
      "\r\n",
      " 18%|██████████▊                                                 | 4784128/26421880 [01:11<06:08, 58731.24it/s]"
     ]
    },
    {
     "name": "stderr",
     "output_type": "stream",
     "text": [
      "\r\n",
      " 18%|██████████▉                                                 | 4816896/26421880 [01:11<05:41, 63264.84it/s]"
     ]
    },
    {
     "name": "stderr",
     "output_type": "stream",
     "text": [
      "\r\n",
      " 18%|███████████                                                 | 4849664/26421880 [01:12<05:53, 60949.35it/s]"
     ]
    },
    {
     "name": "stderr",
     "output_type": "stream",
     "text": [
      "\r\n",
      " 18%|███████████                                                 | 4882432/26421880 [01:12<05:25, 66172.78it/s]"
     ]
    },
    {
     "name": "stderr",
     "output_type": "stream",
     "text": [
      "\r\n",
      " 19%|███████████▏                                                | 4915200/26421880 [01:13<05:43, 62573.87it/s]"
     ]
    },
    {
     "name": "stderr",
     "output_type": "stream",
     "text": [
      "\r\n",
      " 19%|███████████▏                                                | 4947968/26421880 [01:14<06:17, 56853.56it/s]"
     ]
    },
    {
     "name": "stderr",
     "output_type": "stream",
     "text": [
      "\r\n",
      " 19%|███████████▎                                                | 4980736/26421880 [01:14<06:26, 55448.58it/s]"
     ]
    },
    {
     "name": "stderr",
     "output_type": "stream",
     "text": [
      "\r\n",
      " 19%|███████████▍                                                | 5013504/26421880 [01:15<05:48, 61367.50it/s]"
     ]
    },
    {
     "name": "stderr",
     "output_type": "stream",
     "text": [
      "\r\n",
      " 19%|███████████▍                                                | 5046272/26421880 [01:15<06:01, 59074.85it/s]"
     ]
    },
    {
     "name": "stderr",
     "output_type": "stream",
     "text": [
      "\r\n",
      " 19%|███████████▌                                                | 5079040/26421880 [01:16<06:53, 51663.27it/s]"
     ]
    },
    {
     "name": "stderr",
     "output_type": "stream",
     "text": [
      "\r\n",
      " 19%|███████████▌                                                | 5111808/26421880 [01:17<06:43, 52791.49it/s]"
     ]
    },
    {
     "name": "stderr",
     "output_type": "stream",
     "text": [
      "\r\n",
      " 19%|███████████▋                                                | 5144576/26421880 [01:18<07:11, 49253.17it/s]"
     ]
    },
    {
     "name": "stderr",
     "output_type": "stream",
     "text": [
      "\r\n",
      " 20%|███████████▊                                                | 5177344/26421880 [01:18<07:35, 46631.96it/s]"
     ]
    },
    {
     "name": "stderr",
     "output_type": "stream",
     "text": [
      "\r\n",
      " 20%|███████████▊                                                | 5210112/26421880 [01:19<07:46, 45492.58it/s]"
     ]
    },
    {
     "name": "stderr",
     "output_type": "stream",
     "text": [
      "\r\n",
      " 20%|███████████▉                                                | 5242880/26421880 [01:20<07:22, 47824.31it/s]"
     ]
    },
    {
     "name": "stderr",
     "output_type": "stream",
     "text": [
      "\r\n",
      " 20%|███████████▉                                                | 5275648/26421880 [01:20<06:59, 50454.81it/s]"
     ]
    },
    {
     "name": "stderr",
     "output_type": "stream",
     "text": [
      "\r\n",
      " 20%|████████████                                                | 5308416/26421880 [01:21<06:39, 52826.37it/s]"
     ]
    },
    {
     "name": "stderr",
     "output_type": "stream",
     "text": [
      "\r\n",
      " 20%|████████████▏                                               | 5341184/26421880 [01:21<06:25, 54752.41it/s]"
     ]
    },
    {
     "name": "stderr",
     "output_type": "stream",
     "text": [
      "\r\n",
      " 20%|████████████▏                                               | 5373952/26421880 [01:22<05:42, 61517.09it/s]"
     ]
    },
    {
     "name": "stderr",
     "output_type": "stream",
     "text": [
      "\r\n",
      " 20%|████████████▎                                               | 5406720/26421880 [01:22<05:12, 67156.44it/s]"
     ]
    },
    {
     "name": "stderr",
     "output_type": "stream",
     "text": [
      "\r\n",
      " 21%|████████████▎                                               | 5439488/26421880 [01:22<04:55, 71109.88it/s]"
     ]
    },
    {
     "name": "stderr",
     "output_type": "stream",
     "text": [
      "\r\n",
      " 21%|████████████▍                                               | 5472256/26421880 [01:23<05:13, 66897.18it/s]"
     ]
    },
    {
     "name": "stderr",
     "output_type": "stream",
     "text": [
      "\r\n",
      " 21%|████████████▌                                               | 5505024/26421880 [01:23<04:56, 70625.32it/s]"
     ]
    },
    {
     "name": "stderr",
     "output_type": "stream",
     "text": [
      "\r\n",
      " 21%|████████████▌                                               | 5537792/26421880 [01:24<04:41, 74122.50it/s]"
     ]
    },
    {
     "name": "stderr",
     "output_type": "stream",
     "text": [
      "\r\n",
      " 21%|████████████▋                                               | 5570560/26421880 [01:25<05:43, 60632.99it/s]"
     ]
    },
    {
     "name": "stderr",
     "output_type": "stream",
     "text": [
      "\r\n",
      " 21%|████████████▋                                               | 5603328/26421880 [01:25<05:53, 58822.72it/s]"
     ]
    },
    {
     "name": "stderr",
     "output_type": "stream",
     "text": [
      "\r\n",
      " 21%|████████████▊                                               | 5636096/26421880 [01:26<06:37, 52244.23it/s]"
     ]
    },
    {
     "name": "stderr",
     "output_type": "stream",
     "text": [
      "\r\n",
      " 21%|████████████▊                                               | 5668864/26421880 [01:27<06:26, 53661.63it/s]"
     ]
    },
    {
     "name": "stderr",
     "output_type": "stream",
     "text": [
      "\r\n",
      " 22%|████████████▉                                               | 5701632/26421880 [01:27<06:20, 54520.50it/s]"
     ]
    },
    {
     "name": "stderr",
     "output_type": "stream",
     "text": [
      "\r\n",
      " 22%|█████████████                                               | 5734400/26421880 [01:28<05:43, 60242.06it/s]"
     ]
    },
    {
     "name": "stderr",
     "output_type": "stream",
     "text": [
      "\r\n",
      " 22%|█████████████                                               | 5767168/26421880 [01:28<06:27, 53323.37it/s]"
     ]
    },
    {
     "name": "stderr",
     "output_type": "stream",
     "text": [
      "\r\n",
      " 22%|█████████████▏                                              | 5799936/26421880 [01:29<05:43, 59969.74it/s]"
     ]
    },
    {
     "name": "stderr",
     "output_type": "stream",
     "text": [
      "\r\n",
      " 22%|█████████████▏                                              | 5832704/26421880 [01:29<05:48, 59028.57it/s]"
     ]
    },
    {
     "name": "stderr",
     "output_type": "stream",
     "text": [
      "\r\n",
      " 22%|█████████████▎                                              | 5865472/26421880 [01:30<06:31, 52442.55it/s]"
     ]
    },
    {
     "name": "stderr",
     "output_type": "stream",
     "text": [
      "\r\n",
      " 22%|█████████████▍                                              | 5898240/26421880 [01:31<06:49, 50149.08it/s]"
     ]
    },
    {
     "name": "stderr",
     "output_type": "stream",
     "text": [
      "\r\n",
      " 22%|█████████████▍                                              | 5931008/26421880 [01:32<07:06, 48049.43it/s]"
     ]
    },
    {
     "name": "stderr",
     "output_type": "stream",
     "text": [
      "\r\n",
      " 23%|█████████████▌                                              | 5963776/26421880 [01:32<06:47, 50251.42it/s]"
     ]
    },
    {
     "name": "stderr",
     "output_type": "stream",
     "text": [
      "\r\n",
      " 23%|█████████████▌                                              | 5996544/26421880 [01:33<05:58, 56902.71it/s]"
     ]
    },
    {
     "name": "stderr",
     "output_type": "stream",
     "text": [
      "\r\n",
      " 23%|█████████████▋                                              | 6029312/26421880 [01:33<06:39, 51101.05it/s]"
     ]
    },
    {
     "name": "stderr",
     "output_type": "stream",
     "text": [
      "\r\n",
      " 23%|█████████████▊                                              | 6062080/26421880 [01:34<06:29, 52237.76it/s]"
     ]
    },
    {
     "name": "stderr",
     "output_type": "stream",
     "text": [
      "\r\n",
      " 23%|█████████████▊                                              | 6094848/26421880 [01:35<06:22, 53149.97it/s]"
     ]
    },
    {
     "name": "stderr",
     "output_type": "stream",
     "text": [
      "\r\n",
      " 23%|█████████████▉                                              | 6127616/26421880 [01:35<06:13, 54282.05it/s]"
     ]
    },
    {
     "name": "stderr",
     "output_type": "stream",
     "text": [
      "\r\n",
      " 23%|█████████████▉                                              | 6160384/26421880 [01:36<06:09, 54775.94it/s]"
     ]
    },
    {
     "name": "stderr",
     "output_type": "stream",
     "text": [
      "\r\n",
      " 23%|██████████████                                              | 6193152/26421880 [01:36<06:05, 55270.77it/s]"
     ]
    },
    {
     "name": "stderr",
     "output_type": "stream",
     "text": [
      "\r\n",
      " 24%|██████████████▏                                             | 6225920/26421880 [01:37<07:02, 47828.10it/s]"
     ]
    },
    {
     "name": "stderr",
     "output_type": "stream",
     "text": [
      "\r\n",
      " 24%|██████████████▏                                             | 6258688/26421880 [01:38<07:17, 46099.75it/s]"
     ]
    },
    {
     "name": "stderr",
     "output_type": "stream",
     "text": [
      "\r\n",
      " 24%|██████████████▎                                             | 6291456/26421880 [01:39<08:06, 41402.13it/s]"
     ]
    },
    {
     "name": "stderr",
     "output_type": "stream",
     "text": [
      "\r\n",
      " 24%|██████████████▎                                             | 6324224/26421880 [01:40<08:04, 41514.99it/s]"
     ]
    },
    {
     "name": "stderr",
     "output_type": "stream",
     "text": [
      "\r\n",
      " 24%|██████████████▍                                             | 6356992/26421880 [01:40<08:01, 41699.43it/s]"
     ]
    },
    {
     "name": "stderr",
     "output_type": "stream",
     "text": [
      "\r\n",
      " 24%|██████████████▌                                             | 6389760/26421880 [01:42<09:10, 36386.27it/s]"
     ]
    },
    {
     "name": "stderr",
     "output_type": "stream",
     "text": [
      "\r\n",
      " 24%|██████████████▌                                             | 6422528/26421880 [01:42<08:12, 40566.67it/s]"
     ]
    },
    {
     "name": "stderr",
     "output_type": "stream",
     "text": [
      "\r\n",
      " 24%|██████████████▋                                             | 6455296/26421880 [01:43<08:05, 41110.22it/s]"
     ]
    },
    {
     "name": "stderr",
     "output_type": "stream",
     "text": [
      "\r\n",
      " 25%|██████████████▋                                             | 6488064/26421880 [01:44<07:23, 44940.54it/s]"
     ]
    },
    {
     "name": "stderr",
     "output_type": "stream",
     "text": [
      "\r\n",
      " 25%|██████████████▊                                             | 6520832/26421880 [01:44<06:55, 47871.88it/s]"
     ]
    },
    {
     "name": "stderr",
     "output_type": "stream",
     "text": [
      "\r\n",
      " 25%|██████████████▉                                             | 6553600/26421880 [01:45<06:39, 49790.52it/s]"
     ]
    },
    {
     "name": "stderr",
     "output_type": "stream",
     "text": [
      "\r\n",
      " 25%|██████████████▉                                             | 6586368/26421880 [01:45<05:49, 56713.91it/s]"
     ]
    },
    {
     "name": "stderr",
     "output_type": "stream",
     "text": [
      "\r\n",
      " 25%|███████████████                                             | 6619136/26421880 [01:46<05:48, 56742.80it/s]"
     ]
    },
    {
     "name": "stderr",
     "output_type": "stream",
     "text": [
      "\r\n",
      " 25%|███████████████                                             | 6651904/26421880 [01:46<05:49, 56642.75it/s]"
     ]
    },
    {
     "name": "stderr",
     "output_type": "stream",
     "text": [
      "\r\n",
      " 25%|███████████████▏                                            | 6684672/26421880 [01:47<05:15, 62569.00it/s]"
     ]
    },
    {
     "name": "stderr",
     "output_type": "stream",
     "text": [
      "\r\n",
      " 25%|███████████████▎                                            | 6717440/26421880 [01:47<04:50, 67781.25it/s]"
     ]
    },
    {
     "name": "stderr",
     "output_type": "stream",
     "text": [
      "\r\n",
      " 26%|███████████████▎                                            | 6750208/26421880 [01:48<05:00, 65367.54it/s]"
     ]
    },
    {
     "name": "stderr",
     "output_type": "stream",
     "text": [
      "\r\n",
      " 26%|███████████████▍                                            | 6782976/26421880 [01:48<04:41, 69674.87it/s]"
     ]
    },
    {
     "name": "stderr",
     "output_type": "stream",
     "text": [
      "\r\n",
      " 26%|███████████████▍                                            | 6815744/26421880 [01:48<04:24, 74079.67it/s]"
     ]
    },
    {
     "name": "stderr",
     "output_type": "stream",
     "text": [
      "\r\n",
      " 26%|███████████████▌                                            | 6848512/26421880 [01:49<04:13, 77252.76it/s]"
     ]
    },
    {
     "name": "stderr",
     "output_type": "stream",
     "text": [
      "\r\n",
      " 26%|███████████████▋                                            | 6881280/26421880 [01:49<04:36, 70786.22it/s]"
     ]
    },
    {
     "name": "stderr",
     "output_type": "stream",
     "text": [
      "\r\n",
      " 26%|███████████████▋                                            | 6914048/26421880 [01:50<04:23, 74007.49it/s]"
     ]
    },
    {
     "name": "stderr",
     "output_type": "stream",
     "text": [
      "\r\n",
      " 26%|███████████████▊                                            | 6946816/26421880 [01:50<04:13, 76824.06it/s]"
     ]
    },
    {
     "name": "stderr",
     "output_type": "stream",
     "text": [
      "\r\n",
      " 26%|███████████████▊                                            | 6979584/26421880 [01:51<04:06, 78940.35it/s]"
     ]
    },
    {
     "name": "stderr",
     "output_type": "stream",
     "text": [
      "\r\n",
      " 27%|███████████████▉                                            | 7012352/26421880 [01:51<04:33, 71084.61it/s]"
     ]
    },
    {
     "name": "stderr",
     "output_type": "stream",
     "text": [
      "\r\n",
      " 27%|███████████████▉                                            | 7045120/26421880 [01:51<04:19, 74584.49it/s]"
     ]
    },
    {
     "name": "stderr",
     "output_type": "stream",
     "text": [
      "\r\n",
      " 27%|████████████████                                            | 7077888/26421880 [01:52<04:11, 77046.98it/s]"
     ]
    },
    {
     "name": "stderr",
     "output_type": "stream",
     "text": [
      "\r\n",
      " 27%|████████████████▏                                           | 7110656/26421880 [01:52<04:03, 79400.54it/s]"
     ]
    },
    {
     "name": "stderr",
     "output_type": "stream",
     "text": [
      "\r\n",
      " 27%|████████████████▏                                           | 7143424/26421880 [01:53<03:56, 81544.57it/s]"
     ]
    },
    {
     "name": "stderr",
     "output_type": "stream",
     "text": [
      "\r\n",
      " 27%|████████████████▎                                           | 7176192/26421880 [01:53<03:51, 83183.58it/s]"
     ]
    },
    {
     "name": "stderr",
     "output_type": "stream",
     "text": [
      "\r\n",
      " 27%|████████████████▎                                           | 7208960/26421880 [01:53<03:48, 84133.67it/s]"
     ]
    },
    {
     "name": "stderr",
     "output_type": "stream",
     "text": [
      "\r\n",
      " 27%|████████████████▍                                           | 7241728/26421880 [01:54<04:34, 69878.90it/s]"
     ]
    },
    {
     "name": "stderr",
     "output_type": "stream",
     "text": [
      "\r\n",
      " 28%|████████████████▌                                           | 7274496/26421880 [01:54<04:18, 74060.48it/s]"
     ]
    },
    {
     "name": "stderr",
     "output_type": "stream",
     "text": [
      "\r\n",
      " 28%|████████████████▌                                           | 7307264/26421880 [01:55<04:09, 76583.03it/s]"
     ]
    },
    {
     "name": "stderr",
     "output_type": "stream",
     "text": [
      "\r\n",
      " 28%|████████████████▋                                           | 7340032/26421880 [01:55<04:33, 69806.64it/s]"
     ]
    },
    {
     "name": "stderr",
     "output_type": "stream",
     "text": [
      "\r\n",
      " 28%|████████████████▋                                           | 7372800/26421880 [01:56<04:17, 74064.73it/s]"
     ]
    },
    {
     "name": "stderr",
     "output_type": "stream",
     "text": [
      "\r\n",
      " 28%|████████████████▊                                           | 7405568/26421880 [01:56<04:09, 76196.73it/s]"
     ]
    },
    {
     "name": "stderr",
     "output_type": "stream",
     "text": [
      "\r\n",
      " 28%|████████████████▉                                           | 7438336/26421880 [01:57<04:36, 68579.32it/s]"
     ]
    },
    {
     "name": "stderr",
     "output_type": "stream",
     "text": [
      "\r\n",
      " 28%|████████████████▉                                           | 7471104/26421880 [01:57<04:59, 63327.22it/s]"
     ]
    },
    {
     "name": "stderr",
     "output_type": "stream",
     "text": [
      "\r\n",
      " 28%|█████████████████                                           | 7503872/26421880 [01:58<05:40, 55512.11it/s]"
     ]
    },
    {
     "name": "stderr",
     "output_type": "stream",
     "text": [
      "\r\n",
      " 29%|█████████████████                                           | 7536640/26421880 [01:59<05:38, 55840.03it/s]"
     ]
    },
    {
     "name": "stderr",
     "output_type": "stream",
     "text": [
      "\r\n",
      " 29%|█████████████████▏                                          | 7569408/26421880 [01:59<05:36, 56000.08it/s]"
     ]
    },
    {
     "name": "stderr",
     "output_type": "stream",
     "text": [
      "\r\n",
      " 29%|█████████████████▎                                          | 7602176/26421880 [02:00<06:11, 50691.14it/s]"
     ]
    },
    {
     "name": "stderr",
     "output_type": "stream",
     "text": [
      "\r\n",
      " 29%|█████████████████▎                                          | 7634944/26421880 [02:01<06:37, 47285.01it/s]"
     ]
    },
    {
     "name": "stderr",
     "output_type": "stream",
     "text": [
      "\r\n",
      " 29%|█████████████████▍                                          | 7667712/26421880 [02:01<06:18, 49561.87it/s]"
     ]
    },
    {
     "name": "stderr",
     "output_type": "stream",
     "text": [
      "\r\n",
      " 29%|█████████████████▍                                          | 7700480/26421880 [02:02<06:01, 51853.46it/s]"
     ]
    },
    {
     "name": "stderr",
     "output_type": "stream",
     "text": [
      "\r\n",
      " 29%|█████████████████▌                                          | 7733248/26421880 [02:03<05:52, 53090.18it/s]"
     ]
    },
    {
     "name": "stderr",
     "output_type": "stream",
     "text": [
      "\r\n",
      " 29%|█████████████████▋                                          | 7766016/26421880 [02:03<05:15, 59119.03it/s]"
     ]
    },
    {
     "name": "stderr",
     "output_type": "stream",
     "text": [
      "\r\n",
      " 30%|█████████████████▋                                          | 7798784/26421880 [02:04<05:19, 58316.78it/s]"
     ]
    },
    {
     "name": "stderr",
     "output_type": "stream",
     "text": [
      "\r\n",
      " 30%|█████████████████▊                                          | 7831552/26421880 [02:04<04:51, 63881.75it/s]"
     ]
    },
    {
     "name": "stderr",
     "output_type": "stream",
     "text": [
      "\r\n",
      " 30%|█████████████████▊                                          | 7864320/26421880 [02:05<06:14, 49569.28it/s]"
     ]
    },
    {
     "name": "stderr",
     "output_type": "stream",
     "text": [
      "\r\n",
      " 30%|█████████████████▉                                          | 7897088/26421880 [02:06<07:49, 39464.15it/s]"
     ]
    },
    {
     "name": "stderr",
     "output_type": "stream",
     "text": [
      "\r\n",
      " 30%|██████████████████                                          | 7929856/26421880 [02:07<07:41, 40064.19it/s]"
     ]
    },
    {
     "name": "stderr",
     "output_type": "stream",
     "text": [
      "\r\n",
      " 30%|██████████████████                                          | 7962624/26421880 [02:08<07:30, 40963.76it/s]"
     ]
    },
    {
     "name": "stderr",
     "output_type": "stream",
     "text": [
      "\r\n",
      " 30%|██████████████████▏                                         | 7995392/26421880 [02:09<07:27, 41158.56it/s]"
     ]
    },
    {
     "name": "stderr",
     "output_type": "stream",
     "text": [
      "\r\n",
      " 30%|██████████████████▏                                         | 8028160/26421880 [02:09<06:51, 44753.37it/s]"
     ]
    },
    {
     "name": "stderr",
     "output_type": "stream",
     "text": [
      "\r\n",
      " 31%|██████████████████▎                                         | 8060928/26421880 [02:10<07:00, 43713.19it/s]"
     ]
    },
    {
     "name": "stderr",
     "output_type": "stream",
     "text": [
      "\r\n",
      " 31%|██████████████████▍                                         | 8093696/26421880 [02:11<06:59, 43693.98it/s]"
     ]
    },
    {
     "name": "stderr",
     "output_type": "stream",
     "text": [
      "\r\n",
      " 31%|██████████████████▍                                         | 8126464/26421880 [02:11<06:28, 47084.19it/s]"
     ]
    },
    {
     "name": "stderr",
     "output_type": "stream",
     "text": [
      "\r\n",
      " 31%|██████████████████▌                                         | 8159232/26421880 [02:12<06:36, 46056.60it/s]"
     ]
    },
    {
     "name": "stderr",
     "output_type": "stream",
     "text": [
      "\r\n",
      " 31%|██████████████████▌                                         | 8192000/26421880 [02:13<06:49, 44543.53it/s]"
     ]
    },
    {
     "name": "stderr",
     "output_type": "stream",
     "text": [
      "\r\n",
      " 31%|██████████████████▋                                         | 8224768/26421880 [02:13<06:23, 47455.17it/s]"
     ]
    },
    {
     "name": "stderr",
     "output_type": "stream",
     "text": [
      "\r\n",
      " 31%|██████████████████▊                                         | 8257536/26421880 [02:14<06:35, 45969.81it/s]"
     ]
    },
    {
     "name": "stderr",
     "output_type": "stream",
     "text": [
      "\r\n",
      " 31%|██████████████████▊                                         | 8290304/26421880 [02:15<06:10, 48904.02it/s]"
     ]
    },
    {
     "name": "stderr",
     "output_type": "stream",
     "text": [
      "\r\n",
      " 32%|██████████████████▉                                         | 8323072/26421880 [02:15<05:53, 51208.71it/s]"
     ]
    },
    {
     "name": "stderr",
     "output_type": "stream",
     "text": [
      "\r\n",
      " 32%|██████████████████▉                                         | 8355840/26421880 [02:16<05:40, 52984.63it/s]"
     ]
    },
    {
     "name": "stderr",
     "output_type": "stream",
     "text": [
      "\r\n",
      " 32%|███████████████████                                         | 8388608/26421880 [02:16<05:01, 59816.81it/s]"
     ]
    },
    {
     "name": "stderr",
     "output_type": "stream",
     "text": [
      "\r\n",
      " 32%|███████████████████                                         | 8421376/26421880 [02:17<04:33, 65720.23it/s]"
     ]
    },
    {
     "name": "stderr",
     "output_type": "stream",
     "text": [
      "\r\n",
      " 32%|███████████████████▏                                        | 8454144/26421880 [02:17<04:14, 70540.66it/s]"
     ]
    },
    {
     "name": "stderr",
     "output_type": "stream",
     "text": [
      "\r\n",
      " 32%|███████████████████▎                                        | 8486912/26421880 [02:17<04:01, 74263.84it/s]"
     ]
    },
    {
     "name": "stderr",
     "output_type": "stream",
     "text": [
      "\r\n",
      " 32%|███████████████████▎                                        | 8519680/26421880 [02:18<03:53, 76795.08it/s]"
     ]
    },
    {
     "name": "stderr",
     "output_type": "stream",
     "text": [
      "\r\n",
      " 32%|███████████████████▍                                        | 8552448/26421880 [02:18<03:43, 79860.21it/s]"
     ]
    },
    {
     "name": "stderr",
     "output_type": "stream",
     "text": [
      "\r\n",
      " 32%|███████████████████▍                                        | 8585216/26421880 [02:19<03:39, 81114.05it/s]"
     ]
    },
    {
     "name": "stderr",
     "output_type": "stream",
     "text": [
      "\r\n",
      " 33%|███████████████████▌                                        | 8617984/26421880 [02:19<03:36, 82142.11it/s]"
     ]
    },
    {
     "name": "stderr",
     "output_type": "stream",
     "text": [
      "\r\n",
      " 33%|███████████████████▋                                        | 8650752/26421880 [02:19<03:31, 83848.20it/s]"
     ]
    },
    {
     "name": "stderr",
     "output_type": "stream",
     "text": [
      "\r\n",
      " 33%|███████████████████▋                                        | 8683520/26421880 [02:20<03:30, 84467.61it/s]"
     ]
    },
    {
     "name": "stderr",
     "output_type": "stream",
     "text": [
      "\r\n",
      " 33%|███████████████████▊                                        | 8716288/26421880 [02:20<03:29, 84440.29it/s]"
     ]
    },
    {
     "name": "stderr",
     "output_type": "stream",
     "text": [
      "\r\n",
      " 33%|███████████████████▊                                        | 8749056/26421880 [02:20<03:26, 85497.36it/s]"
     ]
    },
    {
     "name": "stderr",
     "output_type": "stream",
     "text": [
      "\r\n",
      " 33%|███████████████████▉                                        | 8781824/26421880 [02:21<03:25, 85821.85it/s]"
     ]
    },
    {
     "name": "stderr",
     "output_type": "stream",
     "text": [
      "\r\n",
      " 33%|████████████████████                                        | 8814592/26421880 [02:21<03:00, 97488.59it/s]"
     ]
    },
    {
     "name": "stderr",
     "output_type": "stream",
     "text": [
      "\r\n",
      " 33%|████████████████████                                        | 8847360/26421880 [02:21<03:07, 93779.73it/s]"
     ]
    },
    {
     "name": "stderr",
     "output_type": "stream",
     "text": [
      "\r\n",
      " 34%|████████████████████▏                                       | 8880128/26421880 [02:22<03:08, 93181.59it/s]"
     ]
    },
    {
     "name": "stderr",
     "output_type": "stream",
     "text": [
      "\r\n",
      " 34%|████████████████████▏                                       | 8912896/26421880 [02:22<03:10, 91683.17it/s]"
     ]
    },
    {
     "name": "stderr",
     "output_type": "stream",
     "text": [
      "\r\n",
      " 34%|███████████████████▉                                       | 8945664/26421880 [02:22<02:49, 103357.57it/s]"
     ]
    },
    {
     "name": "stderr",
     "output_type": "stream",
     "text": [
      "\r\n",
      " 34%|████████████████████▍                                       | 8978432/26421880 [02:23<02:57, 98247.17it/s]"
     ]
    },
    {
     "name": "stderr",
     "output_type": "stream",
     "text": [
      "\r\n",
      " 34%|████████████████████▍                                       | 9011200/26421880 [02:23<03:07, 92993.63it/s]"
     ]
    },
    {
     "name": "stderr",
     "output_type": "stream",
     "text": [
      "\r\n",
      " 34%|████████████████████▌                                       | 9043968/26421880 [02:24<03:12, 90070.59it/s]"
     ]
    },
    {
     "name": "stderr",
     "output_type": "stream",
     "text": [
      "\r\n",
      " 34%|████████████████████▎                                      | 9076736/26421880 [02:24<02:50, 101832.53it/s]"
     ]
    },
    {
     "name": "stderr",
     "output_type": "stream",
     "text": [
      "\r\n",
      " 34%|████████████████████▋                                       | 9109504/26421880 [02:24<02:56, 98244.89it/s]"
     ]
    },
    {
     "name": "stderr",
     "output_type": "stream",
     "text": [
      "\r\n",
      " 35%|████████████████████▊                                       | 9142272/26421880 [02:24<03:02, 94720.05it/s]"
     ]
    },
    {
     "name": "stderr",
     "output_type": "stream",
     "text": [
      "\r\n",
      " 35%|████████████████████▊                                       | 9175040/26421880 [02:25<03:07, 92094.39it/s]"
     ]
    },
    {
     "name": "stderr",
     "output_type": "stream",
     "text": [
      "\r\n",
      " 35%|████████████████████▌                                      | 9207808/26421880 [02:25<02:45, 104160.54it/s]"
     ]
    },
    {
     "name": "stderr",
     "output_type": "stream",
     "text": [
      "\r\n",
      " 35%|████████████████████▉                                       | 9240576/26421880 [02:25<02:52, 99390.98it/s]"
     ]
    },
    {
     "name": "stderr",
     "output_type": "stream",
     "text": [
      "\r\n",
      " 35%|█████████████████████                                       | 9273344/26421880 [02:26<02:58, 96149.99it/s]"
     ]
    },
    {
     "name": "stderr",
     "output_type": "stream",
     "text": [
      "\r\n",
      " 35%|████████████████████▊                                      | 9306112/26421880 [02:26<02:38, 108220.86it/s]"
     ]
    },
    {
     "name": "stderr",
     "output_type": "stream",
     "text": [
      "\r\n",
      " 35%|████████████████████▊                                      | 9338880/26421880 [02:26<02:50, 100290.24it/s]"
     ]
    },
    {
     "name": "stderr",
     "output_type": "stream",
     "text": [
      "\r\n",
      " 35%|████████████████████▉                                      | 9371648/26421880 [02:27<02:29, 113802.19it/s]"
     ]
    },
    {
     "name": "stderr",
     "output_type": "stream",
     "text": [
      "\r\n",
      " 36%|█████████████████████                                      | 9404416/26421880 [02:27<02:44, 103273.89it/s]"
     ]
    },
    {
     "name": "stderr",
     "output_type": "stream",
     "text": [
      "\r\n",
      " 36%|█████████████████████                                      | 9437184/26421880 [02:27<02:45, 102869.69it/s]"
     ]
    },
    {
     "name": "stderr",
     "output_type": "stream",
     "text": [
      "\r\n",
      " 36%|█████████████████████▌                                      | 9469952/26421880 [02:28<02:55, 96516.89it/s]"
     ]
    },
    {
     "name": "stderr",
     "output_type": "stream",
     "text": [
      "\r\n",
      " 36%|█████████████████████▌                                      | 9502720/26421880 [02:28<03:03, 92333.18it/s]"
     ]
    },
    {
     "name": "stderr",
     "output_type": "stream",
     "text": [
      "\r\n",
      " 36%|█████████████████████▋                                      | 9535488/26421880 [02:28<03:07, 90204.04it/s]"
     ]
    },
    {
     "name": "stderr",
     "output_type": "stream",
     "text": [
      "\r\n",
      " 36%|█████████████████████▋                                      | 9568256/26421880 [02:29<03:12, 87691.41it/s]"
     ]
    },
    {
     "name": "stderr",
     "output_type": "stream",
     "text": [
      "\r\n",
      " 36%|█████████████████████▊                                      | 9601024/26421880 [02:29<03:18, 84692.52it/s]"
     ]
    },
    {
     "name": "stderr",
     "output_type": "stream",
     "text": [
      "\r\n",
      " 36%|█████████████████████▉                                      | 9633792/26421880 [02:30<03:18, 84388.75it/s]"
     ]
    },
    {
     "name": "stderr",
     "output_type": "stream",
     "text": [
      "\r\n",
      " 37%|█████████████████████▉                                      | 9666560/26421880 [02:30<03:18, 84381.27it/s]"
     ]
    },
    {
     "name": "stderr",
     "output_type": "stream",
     "text": [
      "\r\n",
      " 37%|██████████████████████                                      | 9699328/26421880 [02:30<03:17, 84545.12it/s]"
     ]
    },
    {
     "name": "stderr",
     "output_type": "stream",
     "text": [
      "\r\n",
      " 37%|██████████████████████                                      | 9732096/26421880 [02:31<04:29, 61873.95it/s]"
     ]
    },
    {
     "name": "stderr",
     "output_type": "stream",
     "text": [
      "\r\n",
      " 37%|██████████████████████▏                                     | 9764864/26421880 [02:32<04:27, 62297.71it/s]"
     ]
    },
    {
     "name": "stderr",
     "output_type": "stream",
     "text": [
      "\r\n",
      " 37%|██████████████████████▏                                     | 9797632/26421880 [02:32<03:36, 76660.19it/s]"
     ]
    },
    {
     "name": "stderr",
     "output_type": "stream",
     "text": [
      "\r\n",
      " 37%|██████████████████████▎                                     | 9830400/26421880 [02:32<03:29, 79095.46it/s]"
     ]
    },
    {
     "name": "stderr",
     "output_type": "stream",
     "text": [
      "\r\n",
      " 37%|██████████████████████▍                                     | 9863168/26421880 [02:33<03:23, 81320.43it/s]"
     ]
    },
    {
     "name": "stderr",
     "output_type": "stream",
     "text": [
      "\r\n",
      " 37%|██████████████████████▍                                     | 9895936/26421880 [02:33<03:22, 81505.08it/s]"
     ]
    },
    {
     "name": "stderr",
     "output_type": "stream",
     "text": [
      "\r\n",
      " 38%|██████████████████████▌                                     | 9928704/26421880 [02:34<03:21, 82015.87it/s]"
     ]
    },
    {
     "name": "stderr",
     "output_type": "stream",
     "text": [
      "\r\n",
      " 38%|██████████████████████▌                                     | 9961472/26421880 [02:34<03:21, 81877.62it/s]"
     ]
    },
    {
     "name": "stderr",
     "output_type": "stream",
     "text": [
      "\r\n",
      " 38%|██████████████████████▋                                     | 9994240/26421880 [02:35<04:37, 59120.85it/s]"
     ]
    },
    {
     "name": "stderr",
     "output_type": "stream",
     "text": [
      "\r\n",
      " 38%|██████████████████████▍                                    | 10027008/26421880 [02:36<06:02, 45278.10it/s]"
     ]
    },
    {
     "name": "stderr",
     "output_type": "stream",
     "text": [
      "\r\n",
      " 38%|██████████████████████▍                                    | 10059776/26421880 [02:37<06:38, 41058.59it/s]"
     ]
    },
    {
     "name": "stderr",
     "output_type": "stream",
     "text": [
      "\r\n",
      " 38%|██████████████████████▌                                    | 10092544/26421880 [02:38<07:04, 38464.31it/s]"
     ]
    },
    {
     "name": "stderr",
     "output_type": "stream",
     "text": [
      "\r\n",
      " 38%|██████████████████████▌                                    | 10125312/26421880 [02:39<06:53, 39412.66it/s]"
     ]
    },
    {
     "name": "stderr",
     "output_type": "stream",
     "text": [
      "\r\n",
      " 38%|██████████████████████▋                                    | 10158080/26421880 [02:40<07:27, 36369.76it/s]"
     ]
    },
    {
     "name": "stderr",
     "output_type": "stream",
     "text": [
      "\r\n",
      " 39%|██████████████████████▊                                    | 10190848/26421880 [02:41<07:08, 37903.68it/s]"
     ]
    },
    {
     "name": "stderr",
     "output_type": "stream",
     "text": [
      "\r\n",
      " 39%|██████████████████████▊                                    | 10223616/26421880 [02:41<06:54, 39053.03it/s]"
     ]
    },
    {
     "name": "stderr",
     "output_type": "stream",
     "text": [
      "\r\n",
      " 39%|██████████████████████▉                                    | 10256384/26421880 [02:42<07:18, 36871.44it/s]"
     ]
    },
    {
     "name": "stderr",
     "output_type": "stream",
     "text": [
      "\r\n",
      " 39%|██████████████████████▉                                    | 10289152/26421880 [02:43<07:28, 35968.29it/s]"
     ]
    },
    {
     "name": "stderr",
     "output_type": "stream",
     "text": [
      "\r\n",
      " 39%|███████████████████████                                    | 10321920/26421880 [02:44<07:08, 37614.23it/s]"
     ]
    },
    {
     "name": "stderr",
     "output_type": "stream",
     "text": [
      "\r\n",
      " 39%|███████████████████████                                    | 10354688/26421880 [02:45<07:25, 36097.31it/s]"
     ]
    },
    {
     "name": "stderr",
     "output_type": "stream",
     "text": [
      "\r\n",
      " 39%|███████████████████████▏                                   | 10387456/26421880 [02:46<07:35, 35184.83it/s]"
     ]
    },
    {
     "name": "stderr",
     "output_type": "stream",
     "text": [
      "\r\n",
      " 39%|███████████████████████▎                                   | 10420224/26421880 [02:47<07:42, 34604.20it/s]"
     ]
    },
    {
     "name": "stderr",
     "output_type": "stream",
     "text": [
      "\r\n",
      " 40%|███████████████████████▎                                   | 10452992/26421880 [02:48<07:15, 36677.74it/s]"
     ]
    },
    {
     "name": "stderr",
     "output_type": "stream",
     "text": [
      "\r\n",
      " 40%|███████████████████████▍                                   | 10485760/26421880 [02:49<06:55, 38396.00it/s]"
     ]
    },
    {
     "name": "stderr",
     "output_type": "stream",
     "text": [
      "\r\n",
      " 40%|███████████████████████▍                                   | 10518528/26421880 [02:49<06:41, 39592.14it/s]"
     ]
    },
    {
     "name": "stderr",
     "output_type": "stream",
     "text": [
      "\r\n",
      " 40%|███████████████████████▌                                   | 10551296/26421880 [02:50<06:03, 43627.49it/s]"
     ]
    },
    {
     "name": "stderr",
     "output_type": "stream",
     "text": [
      "\r\n",
      " 40%|███████████████████████▋                                   | 10584064/26421880 [02:51<06:06, 43169.55it/s]"
     ]
    },
    {
     "name": "stderr",
     "output_type": "stream",
     "text": [
      "\r\n",
      " 40%|███████████████████████▋                                   | 10616832/26421880 [02:52<06:35, 39992.92it/s]"
     ]
    },
    {
     "name": "stderr",
     "output_type": "stream",
     "text": [
      "\r\n",
      " 40%|███████████████████████▊                                   | 10649600/26421880 [02:52<06:24, 40999.50it/s]"
     ]
    },
    {
     "name": "stderr",
     "output_type": "stream",
     "text": [
      "\r\n",
      " 40%|███████████████████████▊                                   | 10682368/26421880 [02:53<06:49, 38392.33it/s]"
     ]
    },
    {
     "name": "stderr",
     "output_type": "stream",
     "text": [
      "\r\n",
      " 41%|███████████████████████▉                                   | 10715136/26421880 [02:54<06:38, 39426.97it/s]"
     ]
    },
    {
     "name": "stderr",
     "output_type": "stream",
     "text": [
      "\r\n",
      " 41%|████████████████████████                                   | 10747904/26421880 [02:55<06:03, 43095.73it/s]"
     ]
    },
    {
     "name": "stderr",
     "output_type": "stream",
     "text": [
      "\r\n",
      " 41%|████████████████████████                                   | 10780672/26421880 [02:56<06:07, 42529.58it/s]"
     ]
    },
    {
     "name": "stderr",
     "output_type": "stream",
     "text": [
      "\r\n",
      " 41%|████████████████████████▏                                  | 10813440/26421880 [02:56<05:41, 45764.03it/s]"
     ]
    },
    {
     "name": "stderr",
     "output_type": "stream",
     "text": [
      "\r\n",
      " 41%|████████████████████████▏                                  | 10846208/26421880 [02:57<05:22, 48267.93it/s]"
     ]
    },
    {
     "name": "stderr",
     "output_type": "stream",
     "text": [
      "\r\n",
      " 41%|████████████████████████▎                                  | 10878976/26421880 [02:57<05:07, 50503.93it/s]"
     ]
    },
    {
     "name": "stderr",
     "output_type": "stream",
     "text": [
      "\r\n",
      " 41%|████████████████████████▎                                  | 10911744/26421880 [02:58<05:29, 47007.92it/s]"
     ]
    },
    {
     "name": "stderr",
     "output_type": "stream",
     "text": [
      "\r\n",
      " 41%|████████████████████████▍                                  | 10944512/26421880 [02:59<06:37, 38918.62it/s]"
     ]
    },
    {
     "name": "stderr",
     "output_type": "stream",
     "text": [
      "\r\n",
      " 42%|████████████████████████▌                                  | 10977280/26421880 [03:00<06:54, 37223.66it/s]"
     ]
    },
    {
     "name": "stderr",
     "output_type": "stream",
     "text": [
      "\r\n",
      " 42%|████████████████████████▌                                  | 11010048/26421880 [03:01<06:57, 36889.20it/s]"
     ]
    },
    {
     "name": "stderr",
     "output_type": "stream",
     "text": [
      "\r\n",
      " 42%|████████████████████████▋                                  | 11042816/26421880 [03:02<06:43, 38122.22it/s]"
     ]
    },
    {
     "name": "stderr",
     "output_type": "stream",
     "text": [
      "\r\n",
      " 42%|████████████████████████▋                                  | 11075584/26421880 [03:03<06:28, 39470.82it/s]"
     ]
    },
    {
     "name": "stderr",
     "output_type": "stream",
     "text": [
      "\r\n",
      " 42%|████████████████████████▊                                  | 11108352/26421880 [03:03<05:53, 43378.75it/s]"
     ]
    },
    {
     "name": "stderr",
     "output_type": "stream",
     "text": [
      "\r\n",
      " 42%|████████████████████████▉                                  | 11141120/26421880 [03:04<05:54, 43094.97it/s]"
     ]
    },
    {
     "name": "stderr",
     "output_type": "stream",
     "text": [
      "\r\n",
      " 42%|████████████████████████▉                                  | 11173888/26421880 [03:05<05:30, 46183.29it/s]"
     ]
    },
    {
     "name": "stderr",
     "output_type": "stream",
     "text": [
      "\r\n",
      " 42%|█████████████████████████                                  | 11206656/26421880 [03:05<05:38, 44915.75it/s]"
     ]
    },
    {
     "name": "stderr",
     "output_type": "stream",
     "text": [
      "\r\n",
      " 43%|█████████████████████████                                  | 11239424/26421880 [03:06<05:18, 47738.62it/s]"
     ]
    },
    {
     "name": "stderr",
     "output_type": "stream",
     "text": [
      "\r\n",
      " 43%|█████████████████████████▏                                 | 11272192/26421880 [03:07<05:00, 50362.18it/s]"
     ]
    },
    {
     "name": "stderr",
     "output_type": "stream",
     "text": [
      "\r\n",
      " 43%|█████████████████████████▏                                 | 11304960/26421880 [03:07<04:48, 52369.16it/s]"
     ]
    },
    {
     "name": "stderr",
     "output_type": "stream",
     "text": [
      "\r\n",
      " 43%|█████████████████████████▎                                 | 11337728/26421880 [03:08<04:37, 54316.92it/s]"
     ]
    },
    {
     "name": "stderr",
     "output_type": "stream",
     "text": [
      "\r\n",
      " 43%|█████████████████████████▍                                 | 11370496/26421880 [03:08<04:07, 60924.10it/s]"
     ]
    },
    {
     "name": "stderr",
     "output_type": "stream",
     "text": [
      "\r\n",
      " 43%|█████████████████████████▍                                 | 11403264/26421880 [03:09<04:03, 61647.73it/s]"
     ]
    },
    {
     "name": "stderr",
     "output_type": "stream",
     "text": [
      "\r\n",
      " 43%|█████████████████████████▌                                 | 11436032/26421880 [03:09<03:43, 67186.97it/s]"
     ]
    },
    {
     "name": "stderr",
     "output_type": "stream",
     "text": [
      "\r\n",
      " 43%|█████████████████████████▌                                 | 11468800/26421880 [03:09<03:34, 69587.91it/s]"
     ]
    },
    {
     "name": "stderr",
     "output_type": "stream",
     "text": [
      "\r\n",
      " 44%|█████████████████████████▋                                 | 11501568/26421880 [03:10<03:20, 74356.47it/s]"
     ]
    },
    {
     "name": "stderr",
     "output_type": "stream",
     "text": [
      "\r\n",
      " 44%|█████████████████████████▊                                 | 11534336/26421880 [03:10<03:18, 75134.01it/s]"
     ]
    },
    {
     "name": "stderr",
     "output_type": "stream",
     "text": [
      "\r\n",
      " 44%|█████████████████████████▊                                 | 11567104/26421880 [03:11<03:08, 78763.62it/s]"
     ]
    },
    {
     "name": "stderr",
     "output_type": "stream",
     "text": [
      "\r\n",
      " 44%|█████████████████████████▉                                 | 11599872/26421880 [03:11<03:04, 80403.60it/s]"
     ]
    },
    {
     "name": "stderr",
     "output_type": "stream",
     "text": [
      "\r\n",
      " 44%|█████████████████████████▉                                 | 11632640/26421880 [03:12<03:13, 76413.06it/s]"
     ]
    },
    {
     "name": "stderr",
     "output_type": "stream",
     "text": [
      "\r\n",
      " 44%|██████████████████████████                                 | 11665408/26421880 [03:12<03:04, 80120.63it/s]"
     ]
    },
    {
     "name": "stderr",
     "output_type": "stream",
     "text": [
      "\r\n",
      " 44%|██████████████████████████                                 | 11698176/26421880 [03:12<03:00, 81453.39it/s]"
     ]
    },
    {
     "name": "stderr",
     "output_type": "stream",
     "text": [
      "\r\n",
      " 44%|██████████████████████████▏                                | 11730944/26421880 [03:13<02:51, 85436.59it/s]"
     ]
    },
    {
     "name": "stderr",
     "output_type": "stream",
     "text": [
      "\r\n",
      " 45%|██████████████████████████▎                                | 11763712/26421880 [03:13<02:45, 88471.94it/s]"
     ]
    },
    {
     "name": "stderr",
     "output_type": "stream",
     "text": [
      "\r\n",
      " 45%|██████████████████████████▎                                | 11796480/26421880 [03:13<02:53, 84393.03it/s]"
     ]
    },
    {
     "name": "stderr",
     "output_type": "stream",
     "text": [
      "\r\n",
      " 45%|██████████████████████████▍                                | 11829248/26421880 [03:14<02:33, 94899.49it/s]"
     ]
    },
    {
     "name": "stderr",
     "output_type": "stream",
     "text": [
      "\r\n",
      " 45%|██████████████████████████▍                                | 11862016/26421880 [03:14<02:34, 94026.31it/s]"
     ]
    },
    {
     "name": "stderr",
     "output_type": "stream",
     "text": [
      "\r\n",
      " 45%|██████████████████████████                                | 11894784/26421880 [03:14<02:21, 102826.22it/s]"
     ]
    },
    {
     "name": "stderr",
     "output_type": "stream",
     "text": [
      "\r\n",
      " 45%|██████████████████████████▏                               | 11927552/26421880 [03:15<02:21, 102683.49it/s]"
     ]
    },
    {
     "name": "stderr",
     "output_type": "stream",
     "text": [
      "\r\n",
      " 45%|██████████████████████████▋                                | 11960320/26421880 [03:15<02:25, 99365.36it/s]"
     ]
    },
    {
     "name": "stderr",
     "output_type": "stream",
     "text": [
      "\r\n",
      " 45%|██████████████████████████▊                                | 11993088/26421880 [03:15<02:36, 92479.85it/s]"
     ]
    },
    {
     "name": "stderr",
     "output_type": "stream",
     "text": [
      "\r\n",
      " 46%|██████████████████████████▊                                | 12025856/26421880 [03:16<02:42, 88539.98it/s]"
     ]
    },
    {
     "name": "stderr",
     "output_type": "stream",
     "text": [
      "\r\n",
      " 46%|██████████████████████████▉                                | 12058624/26421880 [03:16<03:08, 76247.33it/s]"
     ]
    },
    {
     "name": "stderr",
     "output_type": "stream",
     "text": [
      "\r\n",
      " 46%|███████████████████████████                                | 12091392/26421880 [03:17<03:28, 68826.80it/s]"
     ]
    },
    {
     "name": "stderr",
     "output_type": "stream",
     "text": [
      "\r\n",
      " 46%|███████████████████████████                                | 12124160/26421880 [03:17<03:40, 64813.33it/s]"
     ]
    },
    {
     "name": "stderr",
     "output_type": "stream",
     "text": [
      "\r\n",
      " 46%|███████████████████████████▏                               | 12156928/26421880 [03:18<03:25, 69578.21it/s]"
     ]
    },
    {
     "name": "stderr",
     "output_type": "stream",
     "text": [
      "\r\n",
      " 46%|███████████████████████████▏                               | 12189696/26421880 [03:18<03:11, 74168.38it/s]"
     ]
    },
    {
     "name": "stderr",
     "output_type": "stream",
     "text": [
      "\r\n",
      " 46%|███████████████████████████▎                               | 12222464/26421880 [03:19<03:03, 77394.00it/s]"
     ]
    },
    {
     "name": "stderr",
     "output_type": "stream",
     "text": [
      "\r\n",
      " 46%|███████████████████████████▎                               | 12255232/26421880 [03:19<02:57, 79684.59it/s]"
     ]
    },
    {
     "name": "stderr",
     "output_type": "stream",
     "text": [
      "\r\n",
      " 47%|███████████████████████████▍                               | 12288000/26421880 [03:19<02:54, 80971.42it/s]"
     ]
    },
    {
     "name": "stderr",
     "output_type": "stream",
     "text": [
      "\r\n",
      " 47%|███████████████████████████▌                               | 12320768/26421880 [03:20<02:51, 82206.40it/s]"
     ]
    },
    {
     "name": "stderr",
     "output_type": "stream",
     "text": [
      "\r\n",
      " 47%|███████████████████████████▌                               | 12353536/26421880 [03:20<02:46, 84601.62it/s]"
     ]
    },
    {
     "name": "stderr",
     "output_type": "stream",
     "text": [
      "\r\n",
      " 47%|███████████████████████████▋                               | 12386304/26421880 [03:20<02:26, 96058.80it/s]"
     ]
    },
    {
     "name": "stderr",
     "output_type": "stream",
     "text": [
      "\r\n",
      " 47%|███████████████████████████▋                               | 12419072/26421880 [03:21<02:27, 94914.60it/s]"
     ]
    },
    {
     "name": "stderr",
     "output_type": "stream",
     "text": [
      "\r\n",
      " 47%|███████████████████████████▎                              | 12451840/26421880 [03:21<02:13, 104358.72it/s]"
     ]
    },
    {
     "name": "stderr",
     "output_type": "stream",
     "text": [
      "\r\n",
      " 47%|███████████████████████████▉                               | 12484608/26421880 [03:21<02:22, 97691.50it/s]"
     ]
    },
    {
     "name": "stderr",
     "output_type": "stream",
     "text": [
      "\r\n",
      " 47%|███████████████████████████▉                               | 12517376/26421880 [03:22<02:21, 97955.78it/s]"
     ]
    },
    {
     "name": "stderr",
     "output_type": "stream",
     "text": [
      "\r\n",
      " 47%|████████████████████████████                               | 12550144/26421880 [03:22<02:28, 93109.29it/s]"
     ]
    },
    {
     "name": "stderr",
     "output_type": "stream",
     "text": [
      "\r\n",
      " 48%|████████████████████████████                               | 12582912/26421880 [03:22<02:32, 91025.64it/s]"
     ]
    },
    {
     "name": "stderr",
     "output_type": "stream",
     "text": [
      "\r\n",
      " 48%|████████████████████████████▏                              | 12615680/26421880 [03:23<02:38, 87199.99it/s]"
     ]
    },
    {
     "name": "stderr",
     "output_type": "stream",
     "text": [
      "\r\n",
      " 48%|████████████████████████████▏                              | 12648448/26421880 [03:23<02:36, 87874.31it/s]"
     ]
    },
    {
     "name": "stderr",
     "output_type": "stream",
     "text": [
      "\r\n",
      " 48%|████████████████████████████▎                              | 12681216/26421880 [03:24<02:38, 86837.29it/s]"
     ]
    },
    {
     "name": "stderr",
     "output_type": "stream",
     "text": [
      "\r\n",
      " 48%|███████████████████████████▉                              | 12713984/26421880 [03:24<02:16, 100228.46it/s]"
     ]
    },
    {
     "name": "stderr",
     "output_type": "stream",
     "text": [
      "\r\n",
      " 48%|████████████████████████████▍                              | 12746752/26421880 [03:24<02:24, 94858.97it/s]"
     ]
    },
    {
     "name": "stderr",
     "output_type": "stream",
     "text": [
      "\r\n",
      " 48%|████████████████████████████▌                              | 12779520/26421880 [03:25<02:23, 94975.95it/s]"
     ]
    },
    {
     "name": "stderr",
     "output_type": "stream",
     "text": [
      "\r\n",
      " 48%|████████████████████████████▌                              | 12812288/26421880 [03:25<02:29, 91171.53it/s]"
     ]
    },
    {
     "name": "stderr",
     "output_type": "stream",
     "text": [
      "\r\n",
      " 49%|████████████████████████████▋                              | 12845056/26421880 [03:26<03:44, 60371.87it/s]"
     ]
    },
    {
     "name": "stderr",
     "output_type": "stream",
     "text": [
      "\r\n",
      " 49%|████████████████████████████▊                              | 12877824/26421880 [03:27<05:44, 39300.42it/s]"
     ]
    },
    {
     "name": "stderr",
     "output_type": "stream",
     "text": [
      "\r\n",
      " 49%|████████████████████████████▊                              | 12910592/26421880 [03:28<06:02, 37270.16it/s]"
     ]
    },
    {
     "name": "stderr",
     "output_type": "stream",
     "text": [
      "\r\n",
      " 49%|████████████████████████████▉                              | 12943360/26421880 [03:29<06:16, 35806.97it/s]"
     ]
    },
    {
     "name": "stderr",
     "output_type": "stream",
     "text": [
      "\r\n",
      " 49%|████████████████████████████▉                              | 12976128/26421880 [03:30<06:17, 35636.61it/s]"
     ]
    },
    {
     "name": "stderr",
     "output_type": "stream",
     "text": [
      "\r\n",
      " 49%|█████████████████████████████                              | 13008896/26421880 [03:31<05:38, 39643.66it/s]"
     ]
    },
    {
     "name": "stderr",
     "output_type": "stream",
     "text": [
      "\r\n",
      " 49%|█████████████████████████████                              | 13041664/26421880 [03:31<05:04, 43900.88it/s]"
     ]
    },
    {
     "name": "stderr",
     "output_type": "stream",
     "text": [
      "\r\n",
      " 49%|█████████████████████████████▏                             | 13074432/26421880 [03:32<05:00, 44392.89it/s]"
     ]
    },
    {
     "name": "stderr",
     "output_type": "stream",
     "text": [
      "\r\n",
      " 50%|█████████████████████████████▎                             | 13107200/26421880 [03:33<04:42, 47154.85it/s]"
     ]
    },
    {
     "name": "stderr",
     "output_type": "stream",
     "text": [
      "\r\n",
      " 50%|█████████████████████████████▎                             | 13139968/26421880 [03:34<04:53, 45196.92it/s]"
     ]
    },
    {
     "name": "stderr",
     "output_type": "stream",
     "text": [
      "\r\n",
      " 50%|█████████████████████████████▍                             | 13172736/26421880 [03:35<05:26, 40549.15it/s]"
     ]
    },
    {
     "name": "stderr",
     "output_type": "stream",
     "text": [
      "\r\n",
      " 50%|█████████████████████████████▍                             | 13205504/26421880 [03:35<05:23, 40807.70it/s]"
     ]
    },
    {
     "name": "stderr",
     "output_type": "stream",
     "text": [
      "\r\n",
      " 50%|█████████████████████████████▌                             | 13238272/26421880 [03:36<05:41, 38563.87it/s]"
     ]
    },
    {
     "name": "stderr",
     "output_type": "stream",
     "text": [
      "\r\n",
      " 50%|█████████████████████████████▋                             | 13271040/26421880 [03:37<05:33, 39408.55it/s]"
     ]
    },
    {
     "name": "stderr",
     "output_type": "stream",
     "text": [
      "\r\n",
      " 50%|█████████████████████████████▋                             | 13303808/26421880 [03:38<05:28, 39969.87it/s]"
     ]
    },
    {
     "name": "stderr",
     "output_type": "stream",
     "text": [
      "\r\n",
      " 50%|█████████████████████████████▊                             | 13336576/26421880 [03:39<06:45, 32301.60it/s]"
     ]
    },
    {
     "name": "stderr",
     "output_type": "stream",
     "text": [
      "\r\n",
      " 51%|█████████████████████████████▊                             | 13369344/26421880 [03:40<06:22, 34087.94it/s]"
     ]
    },
    {
     "name": "stderr",
     "output_type": "stream",
     "text": [
      "\r\n",
      " 51%|█████████████████████████████▉                             | 13402112/26421880 [03:41<06:46, 32041.41it/s]"
     ]
    },
    {
     "name": "stderr",
     "output_type": "stream",
     "text": [
      "\r\n",
      " 51%|██████████████████████████████                             | 13434880/26421880 [03:42<06:17, 34431.51it/s]"
     ]
    },
    {
     "name": "stderr",
     "output_type": "stream",
     "text": [
      "\r\n",
      " 51%|██████████████████████████████                             | 13467648/26421880 [03:43<05:56, 36297.78it/s]"
     ]
    },
    {
     "name": "stderr",
     "output_type": "stream",
     "text": [
      "\r\n",
      " 51%|██████████████████████████████▏                            | 13500416/26421880 [03:44<06:05, 35392.25it/s]"
     ]
    },
    {
     "name": "stderr",
     "output_type": "stream",
     "text": [
      "\r\n",
      " 51%|██████████████████████████████▏                            | 13533184/26421880 [03:45<06:13, 34522.30it/s]"
     ]
    },
    {
     "name": "stderr",
     "output_type": "stream",
     "text": [
      "\r\n",
      " 51%|██████████████████████████████▎                            | 13565952/26421880 [03:46<05:54, 36269.10it/s]"
     ]
    },
    {
     "name": "stderr",
     "output_type": "stream",
     "text": [
      "\r\n",
      " 51%|██████████████████████████████▎                            | 13598720/26421880 [03:47<05:54, 36125.28it/s]"
     ]
    },
    {
     "name": "stderr",
     "output_type": "stream",
     "text": [
      "\r\n",
      " 52%|██████████████████████████████▍                            | 13631488/26421880 [03:47<05:36, 37973.19it/s]"
     ]
    },
    {
     "name": "stderr",
     "output_type": "stream",
     "text": [
      "\r\n",
      " 52%|██████████████████████████████▌                            | 13664256/26421880 [03:48<05:49, 36468.77it/s]"
     ]
    },
    {
     "name": "stderr",
     "output_type": "stream",
     "text": [
      "\r\n",
      " 52%|██████████████████████████████▌                            | 13697024/26421880 [03:50<06:20, 33473.20it/s]"
     ]
    },
    {
     "name": "stderr",
     "output_type": "stream",
     "text": [
      "\r\n",
      " 52%|██████████████████████████████▋                            | 13729792/26421880 [03:51<07:13, 29260.94it/s]"
     ]
    },
    {
     "name": "stderr",
     "output_type": "stream",
     "text": [
      "\r\n",
      " 52%|██████████████████████████████▋                            | 13762560/26421880 [03:52<06:55, 30483.50it/s]"
     ]
    },
    {
     "name": "stderr",
     "output_type": "stream",
     "text": [
      "\r\n",
      " 52%|██████████████████████████████▊                            | 13795328/26421880 [03:53<06:43, 31306.89it/s]"
     ]
    },
    {
     "name": "stderr",
     "output_type": "stream",
     "text": [
      "\r\n",
      " 52%|██████████████████████████████▉                            | 13828096/26421880 [03:54<06:34, 31950.50it/s]"
     ]
    },
    {
     "name": "stderr",
     "output_type": "stream",
     "text": [
      "\r\n",
      " 52%|██████████████████████████████▉                            | 13860864/26421880 [03:55<06:24, 32674.39it/s]"
     ]
    },
    {
     "name": "stderr",
     "output_type": "stream",
     "text": [
      "\r\n",
      " 53%|███████████████████████████████                            | 13893632/26421880 [03:56<06:00, 34769.81it/s]"
     ]
    },
    {
     "name": "stderr",
     "output_type": "stream",
     "text": [
      "\r\n",
      " 53%|███████████████████████████████                            | 13926400/26421880 [03:57<05:42, 36513.54it/s]"
     ]
    },
    {
     "name": "stderr",
     "output_type": "stream",
     "text": [
      "\r\n",
      " 53%|███████████████████████████████▏                           | 13959168/26421880 [03:57<05:24, 38427.36it/s]"
     ]
    },
    {
     "name": "stderr",
     "output_type": "stream",
     "text": [
      "\r\n",
      " 53%|███████████████████████████████▏                           | 13991936/26421880 [03:58<04:51, 42591.65it/s]"
     ]
    },
    {
     "name": "stderr",
     "output_type": "stream",
     "text": [
      "\r\n",
      " 53%|███████████████████████████████▎                           | 14024704/26421880 [03:59<04:52, 42347.64it/s]"
     ]
    },
    {
     "name": "stderr",
     "output_type": "stream",
     "text": [
      "\r\n",
      " 53%|███████████████████████████████▍                           | 14057472/26421880 [03:59<04:54, 42055.75it/s]"
     ]
    },
    {
     "name": "stderr",
     "output_type": "stream",
     "text": [
      "\r\n",
      " 53%|███████████████████████████████▍                           | 14090240/26421880 [04:00<05:15, 39048.64it/s]"
     ]
    },
    {
     "name": "stderr",
     "output_type": "stream",
     "text": [
      "\r\n",
      " 53%|███████████████████████████████▌                           | 14123008/26421880 [04:02<05:52, 34915.73it/s]"
     ]
    }
   ],
   "source": [
    "\n",
    "# part 1 and 2:\n",
    "# dataset loading:\n",
    "training_data = datasets.FashionMNIST(\n",
    "    root=\"../../data/\",\n",
    "    train=True,\n",
    "    download=True,\n",
    "    transform=ToTensor() # Normalisation step\n",
    "    \n",
    ")\n",
    "\n",
    "# note that ToTensor not just converts the image into a tensor but also normalises its intensity in range 0 to 1\n",
    "\n",
    "\n",
    "test_data = datasets.FashionMNIST(\n",
    "    root=\"../../data/\",\n",
    "    train=False,\n",
    "    download=True,\n",
    "    transform=ToTensor() # Normalisation step\n",
    ")\n",
    "\n",
    "# Create data loaders for training and testing\n",
    "\n",
    "\n",
    "train_loader = DataLoader(training_data, batch_size=batchSize, shuffle=True)\n",
    "test_loader = DataLoader(test_data, batch_size=batchSize, shuffle=False)"
   ]
  },
  {
   "cell_type": "code",
   "execution_count": null,
   "id": "db517a0b",
   "metadata": {
    "execution": {
     "iopub.execute_input": "2023-09-07T09:07:14.669350Z",
     "iopub.status.busy": "2023-09-07T09:07:14.669350Z",
     "iopub.status.idle": "2023-09-07T09:07:14.694899Z",
     "shell.execute_reply": "2023-09-07T09:07:14.694899Z"
    },
    "papermill": {
     "duration": null,
     "end_time": null,
     "exception": null,
     "start_time": null,
     "status": "pending"
    },
    "tags": []
   },
   "outputs": [],
   "source": [
    "# part 3:\n",
    "\n",
    "\n",
    "\n",
    "# builtin classifier:\n",
    "\n",
    "# Define the model\n",
    "\n",
    "# model saving\n",
    "# Define a directory to save models\n",
    "save_dir = '../../saved_models/'\n",
    "save_dir=os.path.join(save_dir, savename)\n",
    "\n",
    "os.makedirs(save_dir, exist_ok=True)\n",
    "\n",
    "model = nn.Sequential(\n",
    "\n",
    "    # we need to flatten the input data from 2d tensor into 1d tensor of 784 values (28*28) since data is in form of images\n",
    "    nn.Flatten(),  # Flatten the input data\n",
    "\n",
    "    nn.Linear(in_features=784, out_features=10),  # Linear layer   \n",
    "    # nn.Linear(in_features=784, out_features=batchSize),  # Linear layer   \n",
    "\n",
    "    nn.BatchNorm1d(10),\n",
    "    # this normalsises input tensors by scaling and shifting\n",
    "    # makes mean 0 and variance 1\n",
    "\n",
    "    # softmax function, or normalized exponential function converts a vector of K real numbers into a probability distribution of K possible outcomes\n",
    "    nn.Softmax(dim=1)  # Softmax activation\n",
    "\n",
    "    \n",
    ")\n",
    "\n",
    "# Specify the path to the saved checkpoint file\n",
    "# model_path = '../../saved_models/model_checkpoint.pth'\n",
    "\n",
    "# tk\n",
    "model_path = os.path.join(save_dir, 'ignore.pth')\n",
    "\n",
    "# model_path = os.path.join(save_dir, 'model_checkpoint.pth')\n",
    "\n",
    "# Check if the file exists before loading\n",
    "if os.path.exists(model_path):\n",
    "    # Load the model checkpoint\n",
    "    checkpoint = torch.load(model_path)\n",
    "\n",
    "    # Load the model's state_dict\n",
    "    model.load_state_dict(checkpoint)\n",
    "    print(\"Model loaded successfully.\")\n",
    "else:\n",
    "    print(f\"Checkpoint file '{model_path}' not found. Model not loaded.\")\n",
    "\n",
    "# custom made classifier\n",
    "'''\n",
    "class LinearClassifier(nn.Module):\n",
    "    def __init__(self):\n",
    "        super(LinearClassifier, self).__init__()\n",
    "\n",
    "        # Define the linear layer\n",
    "        # we used 28*28 input and 10 labels because we are working with MNIST database\n",
    "        self.fc = nn.Linear(28 * 28, 10)  # 28*28 input features, 10 output classes\n",
    "        \n",
    "        # Define an activation function (e.g., softmax for classification)\n",
    "\n",
    "        # softmax function, or normalized exponential function converts a vector of K real numbers into a probability distribution of K possible outcomes\n",
    "        self.softmax = nn.Softmax(dim=1)\n",
    "\n",
    "    #IMPORTANT the name 'forward' is not arbitrary; it's a convention in PyTorch, and this method is automatically called when we pass data through our model.\n",
    "    def forward(self, x):\n",
    "\n",
    "        # we need to flatten the input data from 2d tensor into 1d tensor of 784 values (28*28) since data is in form of images\n",
    "        x = x.view(x.size(0), -1)  # Flatten the input tensor\n",
    "\n",
    "        x = self.fc(x)  # Apply the linear transformation\n",
    "        x = self.softmax(x) # Apply the activation function\n",
    "        return x\n",
    "'''\n",
    "print('model created')"
   ]
  },
  {
   "cell_type": "code",
   "execution_count": null,
   "id": "e347817a",
   "metadata": {
    "execution": {
     "iopub.execute_input": "2023-09-07T09:07:14.703909Z",
     "iopub.status.busy": "2023-09-07T09:07:14.703909Z",
     "iopub.status.idle": "2023-09-07T09:07:14.759310Z",
     "shell.execute_reply": "2023-09-07T09:07:14.758304Z"
    },
    "papermill": {
     "duration": null,
     "end_time": null,
     "exception": null,
     "start_time": null,
     "status": "pending"
    },
    "tags": []
   },
   "outputs": [],
   "source": [
    "print(\"Model structure before training: \", model, \"\\n\\n\")\n",
    "\n",
    "for name, param in model.named_parameters():\n",
    "    print(f\"Layer: {name} | Size: {param.size()} | Values : {param[:2]} \\n\")"
   ]
  },
  {
   "cell_type": "code",
   "execution_count": null,
   "id": "cee59b88",
   "metadata": {
    "execution": {
     "iopub.execute_input": "2023-09-07T09:07:14.765310Z",
     "iopub.status.busy": "2023-09-07T09:07:14.765310Z",
     "iopub.status.idle": "2023-09-07T09:07:14.769246Z",
     "shell.execute_reply": "2023-09-07T09:07:14.768966Z"
    },
    "papermill": {
     "duration": null,
     "end_time": null,
     "exception": null,
     "start_time": null,
     "status": "pending"
    },
    "tags": []
   },
   "outputs": [],
   "source": [
    "# part 4:\n",
    "\n",
    "# Define the loss function\n",
    "\n",
    "\n",
    "import torch.optim as optim\n",
    "# Define the optimizer (e.g., SGD)\n",
    "\n",
    "\n",
    "\n",
    "optimizer = optim.SGD(model.parameters(), lr=learning_rate)\n",
    "\n",
    "'''\n",
    "about SGD: Stochastic Gradient Descent:\n",
    "basically it performs seqeuntial updation of paramters after each epoch, using formula :\n",
    "parameter = parameter - learning_rate * gradient\n",
    "\n",
    "'''\n",
    "from torch.optim.lr_scheduler import ReduceLROnPlateau\n",
    "\n",
    "scheduler = ReduceLROnPlateau(optimizer, mode='min', factor=reduceLR_factor, patience=reduceLR_patience, verbose=True)\n",
    "\n",
    "'''\n",
    "here mode = min : means reduce (instead of increase) LR when error plateaus\n",
    "\n",
    "patience = how many epochs to wait before reducing LR\n",
    "'''\n",
    "\n",
    "print('part 4 done')\n",
    "\n"
   ]
  },
  {
   "cell_type": "code",
   "execution_count": null,
   "id": "dcb621e0",
   "metadata": {
    "execution": {
     "iopub.execute_input": "2023-09-07T09:07:14.776649Z",
     "iopub.status.busy": "2023-09-07T09:07:14.776649Z",
     "iopub.status.idle": "2023-09-07T09:11:06.658853Z",
     "shell.execute_reply": "2023-09-07T09:11:06.658853Z"
    },
    "papermill": {
     "duration": null,
     "end_time": null,
     "exception": null,
     "start_time": null,
     "status": "pending"
    },
    "tags": []
   },
   "outputs": [],
   "source": [
    "# part 5\n",
    "# Define the number of training epochs\n",
    "\n",
    "\n",
    "import time\n",
    "t1=time.time()\n",
    "# Training loop\n",
    "\n",
    "# running_loss_data=[]\n",
    "converged=False\n",
    "avg_loss_data=[]\n",
    "LR_data=[]\n",
    "try:\n",
    "    \n",
    "    for epoch in range(num_epochs):\n",
    "        # Set the model in training mode\n",
    "        model.train()\n",
    "        \n",
    "        running_loss = 0.0\n",
    "        \n",
    "        # Iterate over the training dataset\n",
    "        for inputs, labels in train_loader:  # Replace train_loader with your data loader\n",
    "            # Zero the gradients\n",
    "            optimizer.zero_grad()\n",
    "            \n",
    "            # Forward pass\n",
    "            outputs = model(inputs)\n",
    "            \n",
    "            # Compute the loss\n",
    "            loss = criterion(outputs, labels)\n",
    "            \n",
    "            # Backpropagation\n",
    "            loss.backward()\n",
    "            \n",
    "            # Update the model's parameters\n",
    "            optimizer.step()\n",
    "            \n",
    "            # Track the running loss\n",
    "            running_loss += loss.item()\n",
    "        \n",
    "        # Calculate and print the average loss for this epoch\n",
    "        average_loss = running_loss / len(train_loader)\n",
    "\n",
    "\n",
    "\n",
    "        current_lr = optimizer.param_groups[0]['lr']\n",
    "        \n",
    "        # running_loss_data.append(running_loss)\n",
    "        avg_loss_data.append(average_loss)\n",
    "        LR_data.append(current_lr)\n",
    "\n",
    "        \n",
    "        \n",
    "        \n",
    "\n",
    "        # Update the learning rate scheduler with the training loss\n",
    "        scheduler.step(average_loss)\n",
    "\n",
    "        \n",
    "        print(f\"Epoch [{epoch+1}/{num_epochs}] - Loss: {average_loss:.4f}, Learning Rate: {current_lr:.6f}\")\n",
    "        if current_lr==0:\n",
    "            converged=True\n",
    "            print(\"training stopping\")\n",
    "            num_epochs=epoch+1\n",
    "            raise KeyboardInterrupt\n",
    "\n",
    "        \n",
    "        # print(f\"Epoch [{epoch+1}/{num_epochs}] - Loss: {average_loss:.4f}\")\n",
    "        \n",
    "except KeyboardInterrupt:\n",
    "    print(\"\\n ---------training interrupted----------- \\n\")\n",
    "\n",
    "\n",
    "\n",
    "\n",
    "\n",
    "print(\"Training complete\")\n",
    "t2=time.time()\n",
    "training_time=t2-t1\n",
    "print('time taken to train : ',training_time)\n",
    "print('time per epoch : ',round(training_time/num_epochs,2))\n",
    "\n",
    "# pltfolder=f\"{learning_rate}|{num_epochs}|{reduceLR_factor}|{reduceLR_patience}\"\n",
    "epoch_data=np.arange(1, num_epochs+1)\n",
    "plt.plot(epoch_data,avg_loss_data, marker='o', linestyle='-', markersize=8, label='Loss', color='red')\n",
    "plt.plot(epoch_data,LR_data,  marker='s', linestyle='--', markersize=8, label='Learning rate', color='blue')\n",
    "plt.title(tunefilename)\n",
    "plt.xlim(0, num_epochs+1)\n",
    "plt.xticks(epoch_data,epoch_data)\n",
    "# Add labels for each data point (y-values)\n",
    "for i in range(num_epochs):\n",
    "    plt.text(epoch_data[i], avg_loss_data[i]-0.2, f'{round(avg_loss_data[i],2)}', ha='center', va='top')\n",
    "    plt.text(epoch_data[i], LR_data[i]+0.2, f'{LR_data[i]}', ha='center', va='bottom')\n",
    "\n",
    "plt.legend()\n",
    "plt.savefig(plotfile)\n",
    "plt.show()\n",
    "print(plotfile)\n",
    "\n",
    "\n",
    "\n",
    "\n",
    "# Save the model checkpoint to the specified directory\n",
    "# model_path = os.path.join(save_dir, 'model_checkpoint.pth')\n",
    "\n",
    "# tk\n",
    "# torch.save(model.state_dict(), model_path)\n"
   ]
  },
  {
   "cell_type": "code",
   "execution_count": null,
   "id": "0f86a526",
   "metadata": {
    "execution": {
     "iopub.execute_input": "2023-09-07T09:11:06.658853Z",
     "iopub.status.busy": "2023-09-07T09:11:06.658853Z",
     "iopub.status.idle": "2023-09-07T09:11:06.675703Z",
     "shell.execute_reply": "2023-09-07T09:11:06.675703Z"
    },
    "papermill": {
     "duration": null,
     "end_time": null,
     "exception": null,
     "start_time": null,
     "status": "pending"
    },
    "tags": []
   },
   "outputs": [],
   "source": [
    "print(\"Model structure after training: \", model, \"\\n\\n\")\n",
    "print(\"jere\")\n",
    "\n",
    "for name, param in model.named_parameters():\n",
    "    print(f\"Layer: {name} | Size: {param.size()} | Values : {param[:2]} \\n\")"
   ]
  },
  {
   "cell_type": "code",
   "execution_count": null,
   "id": "22ad97a1",
   "metadata": {
    "execution": {
     "iopub.execute_input": "2023-09-07T09:11:06.675703Z",
     "iopub.status.busy": "2023-09-07T09:11:06.675703Z",
     "iopub.status.idle": "2023-09-07T09:11:07.555416Z",
     "shell.execute_reply": "2023-09-07T09:11:07.555416Z"
    },
    "papermill": {
     "duration": null,
     "end_time": null,
     "exception": null,
     "start_time": null,
     "status": "pending"
    },
    "tags": []
   },
   "outputs": [],
   "source": [
    "# part 6 :\n",
    "# testing \n",
    "\n",
    "# Set the model to evaluation mode\n",
    "model.eval()\n",
    "\n",
    "correct_predictions = 0\n",
    "total_predictions = 0\n",
    "\n",
    "# Iterate over the testing dataset\n",
    "\n",
    "k=0\n",
    "for inputs, labels in test_loader:  # Use your test data loader\n",
    "    k+=1\n",
    "    # Forward pass to obtain predictions\n",
    "    outputs = model(inputs)\n",
    "    \n",
    "    # Get the predicted class for each example in the batch\n",
    "    _, predicted = torch.max(outputs, dim=1)\n",
    "    \n",
    "    # Count correct predictions in this batch\n",
    "    batch_correct_predictions = (predicted == labels).sum().item()\n",
    "    correct_predictions += batch_correct_predictions\n",
    "    \n",
    "    # Count total predictions in this batch\n",
    "\n",
    "    batch_total_predictions = labels.size(0)\n",
    "    total_predictions += batch_total_predictions \n",
    "\n",
    "    # Print the running accuracy for this batch\n",
    "    # Update running accuracy\n",
    "    batch_accuracy=batch_correct_predictions/batch_total_predictions * 100.0\n",
    "    print(f\"Accuracy on this batch {batch_accuracy:.2f}%\")\n",
    "\n",
    "    accuracy = (correct_predictions / total_predictions) * 100.0\n",
    "    print(f\"Accuracy till now:  testing dataset: {accuracy:.2f}%\")\n",
    "\n",
    "print()\n",
    "print(\"number of tests:\",k)\n",
    "\n",
    "# Calculate the accuracy\n",
    "accuracy = (correct_predictions / total_predictions) * 100.0\n",
    "print(f\"Accuracy on the testing dataset: {accuracy:.2f}%\")\n",
    "print('time taken to train : ',training_time)\n",
    "\n",
    "\n",
    "# saving accuracy\n",
    "\n",
    "\n",
    "  \n",
    "\n",
    "# tk\n",
    "loginfo(converged)\n",
    "logging.shutdown()\n",
    "print(\"data saved\")\n",
    "\n"
   ]
  }
 ],
 "metadata": {
  "kernelspec": {
   "display_name": "Python 3",
   "language": "python",
   "name": "python3"
  },
  "language_info": {
   "codemirror_mode": {
    "name": "ipython",
    "version": 3
   },
   "file_extension": ".py",
   "mimetype": "text/x-python",
   "name": "python",
   "nbconvert_exporter": "python",
   "pygments_lexer": "ipython3",
   "version": "3.11.1"
  },
  "papermill": {
   "default_parameters": {},
   "duration": null,
   "end_time": null,
   "environment_variables": {},
   "exception": null,
   "input_path": "/Users/yajatkapoor/Desktop/ELL409-Machine-Learning-Coursework/ELL409-Machine-Learning-Coursework/assignment-01/code/q1linear-classification/a1-LR.ipynb",
   "output_path": "/Users/yajatkapoor/Desktop/ELL409-Machine-Learning-Coursework/ELL409-Machine-Learning-Coursework/assignment-01/code/q1linear-classification/a1-LR.ipynb",
   "parameters": {
    "learning_rate": 0.01,
    "reduceLR_factor": 0.1,
    "reduceLR_patience": 5
   },
   "start_time": "2023-09-07T09:27:12.168472",
   "version": "2.4.0"
  }
 },
 "nbformat": 4,
 "nbformat_minor": 5
}
