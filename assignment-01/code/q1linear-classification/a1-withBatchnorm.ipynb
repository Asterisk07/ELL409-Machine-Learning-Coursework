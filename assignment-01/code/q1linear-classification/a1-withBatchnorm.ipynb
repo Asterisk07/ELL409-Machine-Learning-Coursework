{
 "cells": [
  {
   "cell_type": "code",
   "execution_count": 20,
   "metadata": {},
   "outputs": [],
   "source": [
    "# Initialisation\n",
    "\n",
    "#q1 of ass1\n",
    "\n",
    "import numpy as np\n",
    "import math\n",
    "import torch as t\n",
    "import torch \n",
    "\n",
    "%matplotlib inline\n",
    "# import torch\n",
    "from torch.utils.data import Dataset\n",
    "from torch.utils.data import DataLoader\n",
    "from torchvision import datasets\n",
    "from torchvision.transforms import ToTensor, Lambda\n",
    "import matplotlib.pyplot as plt\n"
   ]
  },
  {
   "cell_type": "code",
   "execution_count": 21,
   "metadata": {},
   "outputs": [],
   "source": [
    "\n",
    "# part 1 and 2:\n",
    "# dataset loading:\n",
    "training_data = datasets.FashionMNIST(\n",
    "    root=\"../../data/\",\n",
    "    train=True,\n",
    "    download=True,\n",
    "    transform=ToTensor() # Normalisation step\n",
    "    \n",
    ")\n",
    "\n",
    "# note that ToTensor not just converts the image into a tensor but also normalises its intensity in range 0 to 1\n",
    "\n",
    "\n",
    "test_data = datasets.FashionMNIST(\n",
    "    root=\"../../data/\",\n",
    "    train=False,\n",
    "    download=True,\n",
    "    transform=ToTensor() # Normalisation step\n",
    ")\n",
    "\n",
    "# Create data loaders for training and testing\n",
    "\n",
    "batchSize=64\n",
    "train_loader = DataLoader(training_data, batch_size=batchSize, shuffle=True)\n",
    "test_loader = DataLoader(test_data, batch_size=batchSize, shuffle=False)"
   ]
  },
  {
   "cell_type": "code",
   "execution_count": 22,
   "metadata": {},
   "outputs": [
    {
     "name": "stdout",
     "output_type": "stream",
     "text": [
      "model created\n"
     ]
    }
   ],
   "source": [
    "# part 3:\n",
    "\n",
    "import torch.nn as nn\n",
    "\n",
    "# builtin classifier:\n",
    "\n",
    "# Define the model\n",
    "\n",
    "\n",
    "\n",
    "model = nn.Sequential(\n",
    "\n",
    "    # we need to flatten the input data from 2d tensor into 1d tensor of 784 values (28*28) since data is in form of images\n",
    "    nn.Flatten(),  # Flatten the input data\n",
    "\n",
    "    nn.Linear(in_features=784, out_features=batchSize),  # Linear layer   \n",
    "\n",
    "    # softmax function, or normalized exponential function converts a vector of K real numbers into a probability distribution of K possible outcomes\n",
    "    nn.Softmax(dim=1)  # Softmax activation\n",
    ")\n",
    "\n",
    "\n",
    "# custom made classifier\n",
    "'''\n",
    "class LinearClassifier(nn.Module):\n",
    "    def __init__(self):\n",
    "        super(LinearClassifier, self).__init__()\n",
    "\n",
    "        # Define the linear layer\n",
    "        # we used 28*28 input and 10 labels because we are working with MNIST database\n",
    "        self.fc = nn.Linear(28 * 28, 10)  # 28*28 input features, 10 output classes\n",
    "        \n",
    "        # Define an activation function (e.g., softmax for classification)\n",
    "\n",
    "        # softmax function, or normalized exponential function converts a vector of K real numbers into a probability distribution of K possible outcomes\n",
    "        self.softmax = nn.Softmax(dim=1)\n",
    "\n",
    "    #IMPORTANT the name 'forward' is not arbitrary; it's a convention in PyTorch, and this method is automatically called when we pass data through our model.\n",
    "    def forward(self, x):\n",
    "\n",
    "        # we need to flatten the input data from 2d tensor into 1d tensor of 784 values (28*28) since data is in form of images\n",
    "        x = x.view(x.size(0), -1)  # Flatten the input tensor\n",
    "\n",
    "        x = self.fc(x)  # Apply the linear transformation\n",
    "        x = self.softmax(x) # Apply the activation function\n",
    "        return x\n",
    "'''\n",
    "print('model created')"
   ]
  },
  {
   "cell_type": "code",
   "execution_count": 23,
   "metadata": {},
   "outputs": [
    {
     "name": "stdout",
     "output_type": "stream",
     "text": [
      "Model structure:  Sequential(\n",
      "  (0): Flatten(start_dim=1, end_dim=-1)\n",
      "  (1): Linear(in_features=64, out_features=784, bias=True)\n",
      "  (2): Softmax(dim=1)\n",
      ") \n",
      "\n",
      "\n",
      "Layer: 1.weight | Size: torch.Size([784, 64]) | Values : tensor([[ 0.0228,  0.0062,  0.0950, -0.0847, -0.0452, -0.0205, -0.0251,  0.0493,\n",
      "         -0.0535,  0.0428,  0.0897, -0.0196,  0.0662,  0.0499,  0.0433,  0.1076,\n",
      "         -0.0814,  0.0024, -0.0307, -0.1061,  0.0303,  0.0005, -0.0250, -0.0871,\n",
      "          0.0562, -0.0595, -0.0425,  0.0737, -0.0496,  0.0040, -0.0828, -0.0971,\n",
      "          0.0665, -0.0352, -0.0839, -0.0859, -0.1161, -0.0792, -0.0808, -0.0871,\n",
      "         -0.0196, -0.0548,  0.0989, -0.0622,  0.1038, -0.0203,  0.0125,  0.0248,\n",
      "          0.0396, -0.0269, -0.1086, -0.1017, -0.1111,  0.0050, -0.0672,  0.0734,\n",
      "         -0.0460, -0.0208, -0.0309,  0.0697,  0.0135, -0.0083,  0.0723,  0.0675],\n",
      "        [ 0.0669, -0.0998,  0.0191, -0.1115, -0.0405,  0.0353, -0.0347,  0.0971,\n",
      "          0.0642, -0.1125, -0.0854, -0.0351, -0.0725, -0.0305, -0.0052, -0.0433,\n",
      "          0.0169,  0.1027, -0.1163, -0.0694,  0.0581, -0.1167,  0.0671, -0.0509,\n",
      "          0.1079,  0.0454,  0.0794,  0.0034,  0.0061,  0.0821, -0.0869,  0.0703,\n",
      "          0.0697, -0.0344,  0.0102,  0.0698, -0.1222, -0.0800,  0.0939,  0.0783,\n",
      "         -0.0680,  0.0693, -0.0042, -0.1043, -0.0146, -0.0120,  0.1120,  0.0794,\n",
      "          0.0198,  0.0914,  0.0164,  0.0030, -0.0683, -0.0509, -0.0691, -0.0424,\n",
      "         -0.0352,  0.0088, -0.1004, -0.0163,  0.0894,  0.0400,  0.0357, -0.1223]],\n",
      "       grad_fn=<SliceBackward0>) \n",
      "\n",
      "Layer: 1.bias | Size: torch.Size([784]) | Values : tensor([0.1110, 0.1144], grad_fn=<SliceBackward0>) \n",
      "\n"
     ]
    }
   ],
   "source": [
    "print(\"Model structure: \", model, \"\\n\\n\")\n",
    "\n",
    "for name, param in model.named_parameters():\n",
    "    print(f\"Layer: {name} | Size: {param.size()} | Values : {param[:2]} \\n\")"
   ]
  },
  {
   "cell_type": "code",
   "execution_count": 24,
   "metadata": {},
   "outputs": [
    {
     "name": "stdout",
     "output_type": "stream",
     "text": [
      "part 4 done\n"
     ]
    }
   ],
   "source": [
    "# part 4:\n",
    "\n",
    "# Define the loss function\n",
    "criterion = nn.CrossEntropyLoss()\n",
    "\n",
    "import torch.optim as optim\n",
    "# Define the optimizer (e.g., SGD)\n",
    "\n",
    "learning_rate=0.01\n",
    "optimizer = optim.SGD(model.parameters(), lr=learning_rate)\n",
    "\n",
    "'''\n",
    "about SGD: Stochastic Gradient Descent:\n",
    "basically it performs seqeuntial updation of paramters after each epoch, using formula :\n",
    "parameter = parameter - learning_rate * gradient\n",
    "\n",
    "'''\n",
    "\n",
    "print('part 4 done')\n",
    "\n"
   ]
  },
  {
   "cell_type": "code",
   "execution_count": 25,
   "metadata": {},
   "outputs": [
    {
     "ename": "RuntimeError",
     "evalue": "mat1 and mat2 shapes cannot be multiplied (64x784 and 64x784)",
     "output_type": "error",
     "traceback": [
      "\u001b[1;31m---------------------------------------------------------------------------\u001b[0m",
      "\u001b[1;31mRuntimeError\u001b[0m                              Traceback (most recent call last)",
      "Cell \u001b[1;32mIn[25], line 18\u001b[0m\n\u001b[0;32m     15\u001b[0m optimizer\u001b[39m.\u001b[39mzero_grad()\n\u001b[0;32m     17\u001b[0m \u001b[39m# Forward pass\u001b[39;00m\n\u001b[1;32m---> 18\u001b[0m outputs \u001b[39m=\u001b[39m model(inputs)\n\u001b[0;32m     20\u001b[0m \u001b[39m# Compute the loss\u001b[39;00m\n\u001b[0;32m     21\u001b[0m loss \u001b[39m=\u001b[39m criterion(outputs, labels)\n",
      "File \u001b[1;32mc:\\Users\\pande\\AppData\\Local\\Programs\\Python\\Python311\\Lib\\site-packages\\torch\\nn\\modules\\module.py:1501\u001b[0m, in \u001b[0;36mModule._call_impl\u001b[1;34m(self, *args, **kwargs)\u001b[0m\n\u001b[0;32m   1496\u001b[0m \u001b[39m# If we don't have any hooks, we want to skip the rest of the logic in\u001b[39;00m\n\u001b[0;32m   1497\u001b[0m \u001b[39m# this function, and just call forward.\u001b[39;00m\n\u001b[0;32m   1498\u001b[0m \u001b[39mif\u001b[39;00m \u001b[39mnot\u001b[39;00m (\u001b[39mself\u001b[39m\u001b[39m.\u001b[39m_backward_hooks \u001b[39mor\u001b[39;00m \u001b[39mself\u001b[39m\u001b[39m.\u001b[39m_backward_pre_hooks \u001b[39mor\u001b[39;00m \u001b[39mself\u001b[39m\u001b[39m.\u001b[39m_forward_hooks \u001b[39mor\u001b[39;00m \u001b[39mself\u001b[39m\u001b[39m.\u001b[39m_forward_pre_hooks\n\u001b[0;32m   1499\u001b[0m         \u001b[39mor\u001b[39;00m _global_backward_pre_hooks \u001b[39mor\u001b[39;00m _global_backward_hooks\n\u001b[0;32m   1500\u001b[0m         \u001b[39mor\u001b[39;00m _global_forward_hooks \u001b[39mor\u001b[39;00m _global_forward_pre_hooks):\n\u001b[1;32m-> 1501\u001b[0m     \u001b[39mreturn\u001b[39;00m forward_call(\u001b[39m*\u001b[39;49margs, \u001b[39m*\u001b[39;49m\u001b[39m*\u001b[39;49mkwargs)\n\u001b[0;32m   1502\u001b[0m \u001b[39m# Do not call functions when jit is used\u001b[39;00m\n\u001b[0;32m   1503\u001b[0m full_backward_hooks, non_full_backward_hooks \u001b[39m=\u001b[39m [], []\n",
      "File \u001b[1;32mc:\\Users\\pande\\AppData\\Local\\Programs\\Python\\Python311\\Lib\\site-packages\\torch\\nn\\modules\\container.py:217\u001b[0m, in \u001b[0;36mSequential.forward\u001b[1;34m(self, input)\u001b[0m\n\u001b[0;32m    215\u001b[0m \u001b[39mdef\u001b[39;00m \u001b[39mforward\u001b[39m(\u001b[39mself\u001b[39m, \u001b[39minput\u001b[39m):\n\u001b[0;32m    216\u001b[0m     \u001b[39mfor\u001b[39;00m module \u001b[39min\u001b[39;00m \u001b[39mself\u001b[39m:\n\u001b[1;32m--> 217\u001b[0m         \u001b[39minput\u001b[39m \u001b[39m=\u001b[39m module(\u001b[39minput\u001b[39;49m)\n\u001b[0;32m    218\u001b[0m     \u001b[39mreturn\u001b[39;00m \u001b[39minput\u001b[39m\n",
      "File \u001b[1;32mc:\\Users\\pande\\AppData\\Local\\Programs\\Python\\Python311\\Lib\\site-packages\\torch\\nn\\modules\\module.py:1501\u001b[0m, in \u001b[0;36mModule._call_impl\u001b[1;34m(self, *args, **kwargs)\u001b[0m\n\u001b[0;32m   1496\u001b[0m \u001b[39m# If we don't have any hooks, we want to skip the rest of the logic in\u001b[39;00m\n\u001b[0;32m   1497\u001b[0m \u001b[39m# this function, and just call forward.\u001b[39;00m\n\u001b[0;32m   1498\u001b[0m \u001b[39mif\u001b[39;00m \u001b[39mnot\u001b[39;00m (\u001b[39mself\u001b[39m\u001b[39m.\u001b[39m_backward_hooks \u001b[39mor\u001b[39;00m \u001b[39mself\u001b[39m\u001b[39m.\u001b[39m_backward_pre_hooks \u001b[39mor\u001b[39;00m \u001b[39mself\u001b[39m\u001b[39m.\u001b[39m_forward_hooks \u001b[39mor\u001b[39;00m \u001b[39mself\u001b[39m\u001b[39m.\u001b[39m_forward_pre_hooks\n\u001b[0;32m   1499\u001b[0m         \u001b[39mor\u001b[39;00m _global_backward_pre_hooks \u001b[39mor\u001b[39;00m _global_backward_hooks\n\u001b[0;32m   1500\u001b[0m         \u001b[39mor\u001b[39;00m _global_forward_hooks \u001b[39mor\u001b[39;00m _global_forward_pre_hooks):\n\u001b[1;32m-> 1501\u001b[0m     \u001b[39mreturn\u001b[39;00m forward_call(\u001b[39m*\u001b[39;49margs, \u001b[39m*\u001b[39;49m\u001b[39m*\u001b[39;49mkwargs)\n\u001b[0;32m   1502\u001b[0m \u001b[39m# Do not call functions when jit is used\u001b[39;00m\n\u001b[0;32m   1503\u001b[0m full_backward_hooks, non_full_backward_hooks \u001b[39m=\u001b[39m [], []\n",
      "File \u001b[1;32mc:\\Users\\pande\\AppData\\Local\\Programs\\Python\\Python311\\Lib\\site-packages\\torch\\nn\\modules\\linear.py:114\u001b[0m, in \u001b[0;36mLinear.forward\u001b[1;34m(self, input)\u001b[0m\n\u001b[0;32m    113\u001b[0m \u001b[39mdef\u001b[39;00m \u001b[39mforward\u001b[39m(\u001b[39mself\u001b[39m, \u001b[39minput\u001b[39m: Tensor) \u001b[39m-\u001b[39m\u001b[39m>\u001b[39m Tensor:\n\u001b[1;32m--> 114\u001b[0m     \u001b[39mreturn\u001b[39;00m F\u001b[39m.\u001b[39;49mlinear(\u001b[39minput\u001b[39;49m, \u001b[39mself\u001b[39;49m\u001b[39m.\u001b[39;49mweight, \u001b[39mself\u001b[39;49m\u001b[39m.\u001b[39;49mbias)\n",
      "\u001b[1;31mRuntimeError\u001b[0m: mat1 and mat2 shapes cannot be multiplied (64x784 and 64x784)"
     ]
    }
   ],
   "source": [
    "# part 5\n",
    "# Define the number of training epochs\n",
    "num_epochs = 10\n",
    "\n",
    "# Training loop\n",
    "for epoch in range(num_epochs):\n",
    "    # Set the model in training mode\n",
    "    model.train()\n",
    "    \n",
    "    running_loss = 0.0\n",
    "    \n",
    "    # Iterate over the training dataset\n",
    "    for inputs, labels in train_loader:  # Replace train_loader with your data loader\n",
    "        # Zero the gradients\n",
    "        optimizer.zero_grad()\n",
    "        \n",
    "        # Forward pass\n",
    "        outputs = model(inputs)\n",
    "        \n",
    "        # Compute the loss\n",
    "        loss = criterion(outputs, labels)\n",
    "        \n",
    "        # Backpropagation\n",
    "        loss.backward()\n",
    "        \n",
    "        # Update the model's parameters\n",
    "        optimizer.step()\n",
    "        \n",
    "        # Track the running loss\n",
    "        running_loss += loss.item()\n",
    "    \n",
    "    # Calculate and print the average loss for this epoch\n",
    "    average_loss = running_loss / len(train_loader)\n",
    "    print(f\"Epoch [{epoch+1}/{num_epochs}] - Loss: {average_loss:.4f}\")\n",
    "\n",
    "print(\"Training complete\")"
   ]
  }
 ],
 "metadata": {
  "kernelspec": {
   "display_name": "Python 3",
   "language": "python",
   "name": "python3"
  },
  "language_info": {
   "codemirror_mode": {
    "name": "ipython",
    "version": 3
   },
   "file_extension": ".py",
   "mimetype": "text/x-python",
   "name": "python",
   "nbconvert_exporter": "python",
   "pygments_lexer": "ipython3",
   "version": "3.11.2"
  },
  "orig_nbformat": 4
 },
 "nbformat": 4,
 "nbformat_minor": 2
}
