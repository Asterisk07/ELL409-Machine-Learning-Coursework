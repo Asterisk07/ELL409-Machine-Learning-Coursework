{
 "cells": [
  {
   "cell_type": "code",
   "execution_count": 194,
   "metadata": {},
   "outputs": [],
   "source": [
    "import pandas as pd\n",
    "import numpy as np\n",
    "import torch\n",
    "import torch.nn as nn\n",
    "import torch.optim as optim\n",
    "from sklearn.model_selection import train_test_split\n",
    "from sklearn.preprocessing import LabelEncoder, OneHotEncoder\n",
    "from sklearn.metrics import mean_absolute_error, mean_squared_error, r2_score\n",
    "\n",
    "# Load the dataset\n",
    "data = pd.read_csv('Q3_complex_linear_regression_dataset.csv')  # Replace 'sales_data.csv' with your dataset file name\n",
    "\n",
    "# Encode categorical variables (X2 and X3)\n",
    "label_encoder = LabelEncoder()\n",
    "data['X2'] = label_encoder.fit_transform(data['X2'])\n",
    "\n",
    "# Encode categorical variable X3 with numerical values\n",
    "x3_mapping = {'A': 1.000, 'B': 2.000, 'C': 3.000}\n",
    "data['X3'] = data['X3'].map(x3_mapping)\n",
    "\n",
    "# Split the data into training and testing sets\n",
    "X = data[['X1', 'X2', 'X3']]\n",
    "y = data['y']\n",
    "X_train, X_test, y_train, y_test = train_test_split(X.values, y.values, test_size=0.2, random_state=42)\n",
    "\n",
    "# Convert numpy arrays to PyTorch tensors\n",
    "X_train = torch.FloatTensor(X_train.astype('float32'))\n",
    "y_train = torch.FloatTensor(y_train.astype('float32')).view(-1, 1)\n",
    "X_test = torch.FloatTensor(X_test.astype('float32'))\n",
    "y_test = torch.FloatTensor(y_test.astype('float32')).view(-1, 1)\n",
    "\n",
    "\n",
    "\n",
    "\n",
    "# You can make predictions for new scenarios using the trained model as well.\n"
   ]
  },
  {
   "cell_type": "code",
   "execution_count": 195,
   "metadata": {},
   "outputs": [],
   "source": [
    "# Define a linear regression model\n",
    "class RidgeRegressionModel(nn.Module):\n",
    "    def __init__(self, input_size, alpha=1.0):\n",
    "        super(RidgeRegressionModel, self).__init__()\n",
    "        self.linear = nn.Linear(input_size, 1)  # One output for regression\n",
    "        self.alpha = alpha  # Regularization strength (adjust as needed)\n",
    "\n",
    "    def forward(self, x):\n",
    "        return self.linear(x)"
   ]
  },
  {
   "cell_type": "code",
   "execution_count": 196,
   "metadata": {},
   "outputs": [
    {
     "data": {
      "text/plain": [
       "RidgeRegressionModel(\n",
       "  (linear): Linear(in_features=3, out_features=1, bias=True)\n",
       ")"
      ]
     },
     "execution_count": 196,
     "metadata": {},
     "output_type": "execute_result"
    }
   ],
   "source": [
    "# Create the model and define loss function and optimizer\n",
    "model = RidgeRegressionModel(input_size=X_train.shape[1], alpha=0.1)  # You can adjust the alpha value\n",
    "criterion = nn.MSELoss()  # Mean Squared Error loss for regression\n",
    "optimizer = optim.SGD(model.parameters(), lr=0.01)  # Stochastic Gradient Descent\n",
    "\n",
    "# Training the model\n",
    "num_epochs = 1000  # Adjust as needed\n",
    "for epoch in range(num_epochs):\n",
    "    optimizer.zero_grad()\n",
    "    outputs = model(X_train)\n",
    "    loss = criterion(outputs, y_train) + model.alpha * torch.norm(model.linear.weight)  # L2 regularization term\n",
    "    loss.backward()\n",
    "    optimizer.step()\n",
    "\n",
    "# Evaluate the model\n",
    "model.eval()"
   ]
  },
  {
   "cell_type": "code",
   "execution_count": 197,
   "metadata": {},
   "outputs": [
    {
     "name": "stdout",
     "output_type": "stream",
     "text": [
      "tensor([25.6760])\n",
      "tensor([24.3622])\n",
      "percentage accuracy = 33.33333333333333\n",
      "Mean Absolute Error: 0.028550843397776287\n",
      "Mean Squared Error: 0.07437984148661296\n",
      "R-squared: 0.01572216522097546\n",
      "linear.weight: [[3.0223153  1.9947672  0.14603294]]\n",
      "linear.bias: [-0.3351007]\n"
     ]
    }
   ],
   "source": [
    "with torch.no_grad():\n",
    "    y_pred = model(X_test)\n",
    "count=0\n",
    "print(y_pred[19])\n",
    "print(y_test[19])\n",
    "for i in range(len(y_pred)):\n",
    "    if(abs(y_pred[i]-y_test[i])<1):\n",
    "        count+=1\n",
    "print(\"percentage accuracy =\",(count/len(y_pred))*100)\n",
    "\n",
    "\n",
    "mae = (mean_absolute_error(y_test, y_pred))/len(y_test)\n",
    "mse = mean_squared_error(y_test, y_pred)/len(y_test)\n",
    "r2 = r2_score(y_test, y_pred.numpy())/len(y_test)\n",
    "\n",
    "print(f'Mean Absolute Error: {mae}')\n",
    "print(f'Mean Squared Error: {mse}')\n",
    "print(f'R-squared: {r2}')\n",
    "\n",
    "# Print the model parameters (coefficients)\n",
    "for name, param in model.named_parameters():\n",
    "    if param.requires_grad:\n",
    "        print(f'{name}: {param.data.numpy()}')\n",
    "\n",
    "\n",
    "# You can make predictions for new scenarios using the trained model as well."
   ]
  },
  {
   "cell_type": "code",
   "execution_count": null,
   "metadata": {},
   "outputs": [],
   "source": []
  }
 ],
 "metadata": {
  "kernelspec": {
   "display_name": "Python 3",
   "language": "python",
   "name": "python3"
  },
  "language_info": {
   "codemirror_mode": {
    "name": "ipython",
    "version": 3
   },
   "file_extension": ".py",
   "mimetype": "text/x-python",
   "name": "python",
   "nbconvert_exporter": "python",
   "pygments_lexer": "ipython3",
   "version": "3.11.1"
  },
  "orig_nbformat": 4
 },
 "nbformat": 4,
 "nbformat_minor": 2
}
