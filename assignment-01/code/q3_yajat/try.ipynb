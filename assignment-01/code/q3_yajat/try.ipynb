{
 "cells": [
  {
   "cell_type": "code",
   "execution_count": 3,
   "metadata": {},
   "outputs": [],
   "source": [
    "import torch\n",
    "\n",
    "# Create a sample 2D tensor (d) of size 90x2\n",
    "d = torch.rand(90, 2)\n",
    "\n"
   ]
  },
  {
   "cell_type": "code",
   "execution_count": 6,
   "metadata": {},
   "outputs": [
    {
     "name": "stdout",
     "output_type": "stream",
     "text": [
      "Selected Row:\n",
      "tensor([0.1238, 0.7712])\n",
      "Shape of Selected Row: torch.Size([2])\n",
      "Shape of matrix torch.Size([90, 2])\n",
      "Shape of Selected Row: torch.Size([1, 2])\n"
     ]
    }
   ],
   "source": [
    "# Select a specific row by its index\n",
    "row_index = 5  # Replace 5 with the index of the row you want to select\n",
    "r = d[row_index]\n",
    "\n",
    "# Print the selected row and its shape\n",
    "print(\"Selected Row:\")\n",
    "print(r)\n",
    "print(\"Shape of Selected Row:\", r.shape)\n",
    "print(\"Shape of matrix\", d.shape)\n",
    "\n",
    "r=d[0]\n",
    "selected_row = r.view(1, -1)\n",
    "print(\"Shape of Selected Row:\", selected_row.shape)"
   ]
  }
 ],
 "metadata": {
  "kernelspec": {
   "display_name": "Python 3",
   "language": "python",
   "name": "python3"
  },
  "language_info": {
   "codemirror_mode": {
    "name": "ipython",
    "version": 3
   },
   "file_extension": ".py",
   "mimetype": "text/x-python",
   "name": "python",
   "nbconvert_exporter": "python",
   "pygments_lexer": "ipython3",
   "version": "3.11.2"
  },
  "orig_nbformat": 4
 },
 "nbformat": 4,
 "nbformat_minor": 2
}
